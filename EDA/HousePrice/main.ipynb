{
 "cells": [
  {
   "cell_type": "code",
   "id": "initial_id",
   "metadata": {
    "collapsed": true,
    "ExecuteTime": {
     "end_time": "2025-07-17T13:51:44.059066Z",
     "start_time": "2025-07-17T13:51:42.425165Z"
    }
   },
   "source": [
    "import numpy as np\n",
    "import pandas as pd\n",
    "import matplotlib.pyplot as plt\n",
    "import seaborn as sns\n",
    "from sklearn.model_selection import train_test_split\n",
    "from sklearn.preprocessing import LabelEncoder\n",
    "from sklearn.model_selection import train_test_split\n",
    "from sklearn.preprocessing import StandardScaler\n",
    "from sklearn.linear_model import LogisticRegression\n",
    "from sklearn.metrics import accuracy_score, classification_report\n",
    "from sklearn.feature_selection import RFE\n",
    "from sklearn.model_selection import train_test_split\n",
    "from sklearn.preprocessing import StandardScaler\n",
    "from sklearn.metrics import accuracy_score, precision_score, recall_score, f1_score\n",
    "from sklearn.linear_model import LogisticRegression\n",
    "from sklearn.tree import DecisionTreeClassifier\n",
    "from sklearn.ensemble import RandomForestClassifier, GradientBoostingClassifier\n",
    "from sklearn.svm import SVC\n",
    "from sklearn.metrics import accuracy_score, precision_score, recall_score, f1_score, confusion_matrix, roc_auc_score, classification_report\n",
    "from sklearn.neighbors import KNeighborsClassifier\n",
    "from sklearn.impute import SimpleImputer\n",
    "from sklearn.linear_model import LinearRegression, Ridge, Lasso\n",
    "from sklearn.ensemble import RandomForestRegressor\n",
    "from sklearn.model_selection import cross_val_score\n",
    "from sklearn.metrics import mean_squared_error, r2_score\n",
    "import pandas as pd\n",
    "import numpy as np\n",
    "from sklearn.preprocessing import StandardScaler\n",
    "from sklearn.linear_model import LinearRegression\n",
    "from sklearn.ensemble import RandomForestRegressor, GradientBoostingRegressor\n",
    "from xgboost import XGBRegressor\n",
    "from sklearn.metrics import mean_squared_error, mean_absolute_error, r2_score"
   ],
   "outputs": [],
   "execution_count": 902
  },
  {
   "metadata": {
    "ExecuteTime": {
     "end_time": "2025-07-17T12:34:02.344404Z",
     "start_time": "2025-07-17T12:34:02.132847Z"
    }
   },
   "cell_type": "code",
   "source": [
    "test_df = pd.read_csv('test.csv')\n",
    "train_df = pd.read_csv('train.csv')\n",
    "\n",
    "train_df['source'] = 'train'\n",
    "test_df['source'] = 'test'\n",
    "\n",
    "df = pd.concat([train_df, test_df], axis=0)\n"
   ],
   "id": "5d4014bc899204ef",
   "outputs": [],
   "execution_count": 775
  },
  {
   "metadata": {
    "ExecuteTime": {
     "end_time": "2025-07-17T12:34:03.397691Z",
     "start_time": "2025-07-17T12:34:03.367033Z"
    }
   },
   "cell_type": "code",
   "source": "df.shape",
   "id": "f09b9c7cbef9313b",
   "outputs": [
    {
     "data": {
      "text/plain": [
       "(2919, 82)"
      ]
     },
     "execution_count": 776,
     "metadata": {},
     "output_type": "execute_result"
    }
   ],
   "execution_count": 776
  },
  {
   "metadata": {
    "ExecuteTime": {
     "end_time": "2025-07-17T12:34:07.184505Z",
     "start_time": "2025-07-17T12:34:07.151563Z"
    }
   },
   "cell_type": "code",
   "source": "df.head()\n",
   "id": "55477ea58a886e56",
   "outputs": [
    {
     "data": {
      "text/plain": [
       "   Id  MSSubClass MSZoning  LotFrontage  LotArea Street Alley LotShape  \\\n",
       "0   1          60       RL         65.0     8450   Pave   NaN      Reg   \n",
       "1   2          20       RL         80.0     9600   Pave   NaN      Reg   \n",
       "2   3          60       RL         68.0    11250   Pave   NaN      IR1   \n",
       "3   4          70       RL         60.0     9550   Pave   NaN      IR1   \n",
       "4   5          60       RL         84.0    14260   Pave   NaN      IR1   \n",
       "\n",
       "  LandContour Utilities  ... PoolQC Fence MiscFeature MiscVal MoSold YrSold  \\\n",
       "0         Lvl    AllPub  ...    NaN   NaN         NaN       0      2   2008   \n",
       "1         Lvl    AllPub  ...    NaN   NaN         NaN       0      5   2007   \n",
       "2         Lvl    AllPub  ...    NaN   NaN         NaN       0      9   2008   \n",
       "3         Lvl    AllPub  ...    NaN   NaN         NaN       0      2   2006   \n",
       "4         Lvl    AllPub  ...    NaN   NaN         NaN       0     12   2008   \n",
       "\n",
       "  SaleType  SaleCondition  SalePrice  source  \n",
       "0       WD         Normal   208500.0   train  \n",
       "1       WD         Normal   181500.0   train  \n",
       "2       WD         Normal   223500.0   train  \n",
       "3       WD        Abnorml   140000.0   train  \n",
       "4       WD         Normal   250000.0   train  \n",
       "\n",
       "[5 rows x 82 columns]"
      ],
      "text/html": [
       "<div>\n",
       "<style scoped>\n",
       "    .dataframe tbody tr th:only-of-type {\n",
       "        vertical-align: middle;\n",
       "    }\n",
       "\n",
       "    .dataframe tbody tr th {\n",
       "        vertical-align: top;\n",
       "    }\n",
       "\n",
       "    .dataframe thead th {\n",
       "        text-align: right;\n",
       "    }\n",
       "</style>\n",
       "<table border=\"1\" class=\"dataframe\">\n",
       "  <thead>\n",
       "    <tr style=\"text-align: right;\">\n",
       "      <th></th>\n",
       "      <th>Id</th>\n",
       "      <th>MSSubClass</th>\n",
       "      <th>MSZoning</th>\n",
       "      <th>LotFrontage</th>\n",
       "      <th>LotArea</th>\n",
       "      <th>Street</th>\n",
       "      <th>Alley</th>\n",
       "      <th>LotShape</th>\n",
       "      <th>LandContour</th>\n",
       "      <th>Utilities</th>\n",
       "      <th>...</th>\n",
       "      <th>PoolQC</th>\n",
       "      <th>Fence</th>\n",
       "      <th>MiscFeature</th>\n",
       "      <th>MiscVal</th>\n",
       "      <th>MoSold</th>\n",
       "      <th>YrSold</th>\n",
       "      <th>SaleType</th>\n",
       "      <th>SaleCondition</th>\n",
       "      <th>SalePrice</th>\n",
       "      <th>source</th>\n",
       "    </tr>\n",
       "  </thead>\n",
       "  <tbody>\n",
       "    <tr>\n",
       "      <th>0</th>\n",
       "      <td>1</td>\n",
       "      <td>60</td>\n",
       "      <td>RL</td>\n",
       "      <td>65.0</td>\n",
       "      <td>8450</td>\n",
       "      <td>Pave</td>\n",
       "      <td>NaN</td>\n",
       "      <td>Reg</td>\n",
       "      <td>Lvl</td>\n",
       "      <td>AllPub</td>\n",
       "      <td>...</td>\n",
       "      <td>NaN</td>\n",
       "      <td>NaN</td>\n",
       "      <td>NaN</td>\n",
       "      <td>0</td>\n",
       "      <td>2</td>\n",
       "      <td>2008</td>\n",
       "      <td>WD</td>\n",
       "      <td>Normal</td>\n",
       "      <td>208500.0</td>\n",
       "      <td>train</td>\n",
       "    </tr>\n",
       "    <tr>\n",
       "      <th>1</th>\n",
       "      <td>2</td>\n",
       "      <td>20</td>\n",
       "      <td>RL</td>\n",
       "      <td>80.0</td>\n",
       "      <td>9600</td>\n",
       "      <td>Pave</td>\n",
       "      <td>NaN</td>\n",
       "      <td>Reg</td>\n",
       "      <td>Lvl</td>\n",
       "      <td>AllPub</td>\n",
       "      <td>...</td>\n",
       "      <td>NaN</td>\n",
       "      <td>NaN</td>\n",
       "      <td>NaN</td>\n",
       "      <td>0</td>\n",
       "      <td>5</td>\n",
       "      <td>2007</td>\n",
       "      <td>WD</td>\n",
       "      <td>Normal</td>\n",
       "      <td>181500.0</td>\n",
       "      <td>train</td>\n",
       "    </tr>\n",
       "    <tr>\n",
       "      <th>2</th>\n",
       "      <td>3</td>\n",
       "      <td>60</td>\n",
       "      <td>RL</td>\n",
       "      <td>68.0</td>\n",
       "      <td>11250</td>\n",
       "      <td>Pave</td>\n",
       "      <td>NaN</td>\n",
       "      <td>IR1</td>\n",
       "      <td>Lvl</td>\n",
       "      <td>AllPub</td>\n",
       "      <td>...</td>\n",
       "      <td>NaN</td>\n",
       "      <td>NaN</td>\n",
       "      <td>NaN</td>\n",
       "      <td>0</td>\n",
       "      <td>9</td>\n",
       "      <td>2008</td>\n",
       "      <td>WD</td>\n",
       "      <td>Normal</td>\n",
       "      <td>223500.0</td>\n",
       "      <td>train</td>\n",
       "    </tr>\n",
       "    <tr>\n",
       "      <th>3</th>\n",
       "      <td>4</td>\n",
       "      <td>70</td>\n",
       "      <td>RL</td>\n",
       "      <td>60.0</td>\n",
       "      <td>9550</td>\n",
       "      <td>Pave</td>\n",
       "      <td>NaN</td>\n",
       "      <td>IR1</td>\n",
       "      <td>Lvl</td>\n",
       "      <td>AllPub</td>\n",
       "      <td>...</td>\n",
       "      <td>NaN</td>\n",
       "      <td>NaN</td>\n",
       "      <td>NaN</td>\n",
       "      <td>0</td>\n",
       "      <td>2</td>\n",
       "      <td>2006</td>\n",
       "      <td>WD</td>\n",
       "      <td>Abnorml</td>\n",
       "      <td>140000.0</td>\n",
       "      <td>train</td>\n",
       "    </tr>\n",
       "    <tr>\n",
       "      <th>4</th>\n",
       "      <td>5</td>\n",
       "      <td>60</td>\n",
       "      <td>RL</td>\n",
       "      <td>84.0</td>\n",
       "      <td>14260</td>\n",
       "      <td>Pave</td>\n",
       "      <td>NaN</td>\n",
       "      <td>IR1</td>\n",
       "      <td>Lvl</td>\n",
       "      <td>AllPub</td>\n",
       "      <td>...</td>\n",
       "      <td>NaN</td>\n",
       "      <td>NaN</td>\n",
       "      <td>NaN</td>\n",
       "      <td>0</td>\n",
       "      <td>12</td>\n",
       "      <td>2008</td>\n",
       "      <td>WD</td>\n",
       "      <td>Normal</td>\n",
       "      <td>250000.0</td>\n",
       "      <td>train</td>\n",
       "    </tr>\n",
       "  </tbody>\n",
       "</table>\n",
       "<p>5 rows × 82 columns</p>\n",
       "</div>"
      ]
     },
     "execution_count": 777,
     "metadata": {},
     "output_type": "execute_result"
    }
   ],
   "execution_count": 777
  },
  {
   "metadata": {
    "ExecuteTime": {
     "end_time": "2025-07-17T12:34:07.706128Z",
     "start_time": "2025-07-17T12:34:07.616105Z"
    }
   },
   "cell_type": "code",
   "source": "df.info()\n",
   "id": "33053c3ddb78b53c",
   "outputs": [
    {
     "name": "stdout",
     "output_type": "stream",
     "text": [
      "<class 'pandas.core.frame.DataFrame'>\n",
      "Index: 2919 entries, 0 to 1458\n",
      "Data columns (total 82 columns):\n",
      " #   Column         Non-Null Count  Dtype  \n",
      "---  ------         --------------  -----  \n",
      " 0   Id             2919 non-null   int64  \n",
      " 1   MSSubClass     2919 non-null   int64  \n",
      " 2   MSZoning       2915 non-null   object \n",
      " 3   LotFrontage    2433 non-null   float64\n",
      " 4   LotArea        2919 non-null   int64  \n",
      " 5   Street         2919 non-null   object \n",
      " 6   Alley          198 non-null    object \n",
      " 7   LotShape       2919 non-null   object \n",
      " 8   LandContour    2919 non-null   object \n",
      " 9   Utilities      2917 non-null   object \n",
      " 10  LotConfig      2919 non-null   object \n",
      " 11  LandSlope      2919 non-null   object \n",
      " 12  Neighborhood   2919 non-null   object \n",
      " 13  Condition1     2919 non-null   object \n",
      " 14  Condition2     2919 non-null   object \n",
      " 15  BldgType       2919 non-null   object \n",
      " 16  HouseStyle     2919 non-null   object \n",
      " 17  OverallQual    2919 non-null   int64  \n",
      " 18  OverallCond    2919 non-null   int64  \n",
      " 19  YearBuilt      2919 non-null   int64  \n",
      " 20  YearRemodAdd   2919 non-null   int64  \n",
      " 21  RoofStyle      2919 non-null   object \n",
      " 22  RoofMatl       2919 non-null   object \n",
      " 23  Exterior1st    2918 non-null   object \n",
      " 24  Exterior2nd    2918 non-null   object \n",
      " 25  MasVnrType     1153 non-null   object \n",
      " 26  MasVnrArea     2896 non-null   float64\n",
      " 27  ExterQual      2919 non-null   object \n",
      " 28  ExterCond      2919 non-null   object \n",
      " 29  Foundation     2919 non-null   object \n",
      " 30  BsmtQual       2838 non-null   object \n",
      " 31  BsmtCond       2837 non-null   object \n",
      " 32  BsmtExposure   2837 non-null   object \n",
      " 33  BsmtFinType1   2840 non-null   object \n",
      " 34  BsmtFinSF1     2918 non-null   float64\n",
      " 35  BsmtFinType2   2839 non-null   object \n",
      " 36  BsmtFinSF2     2918 non-null   float64\n",
      " 37  BsmtUnfSF      2918 non-null   float64\n",
      " 38  TotalBsmtSF    2918 non-null   float64\n",
      " 39  Heating        2919 non-null   object \n",
      " 40  HeatingQC      2919 non-null   object \n",
      " 41  CentralAir     2919 non-null   object \n",
      " 42  Electrical     2918 non-null   object \n",
      " 43  1stFlrSF       2919 non-null   int64  \n",
      " 44  2ndFlrSF       2919 non-null   int64  \n",
      " 45  LowQualFinSF   2919 non-null   int64  \n",
      " 46  GrLivArea      2919 non-null   int64  \n",
      " 47  BsmtFullBath   2917 non-null   float64\n",
      " 48  BsmtHalfBath   2917 non-null   float64\n",
      " 49  FullBath       2919 non-null   int64  \n",
      " 50  HalfBath       2919 non-null   int64  \n",
      " 51  BedroomAbvGr   2919 non-null   int64  \n",
      " 52  KitchenAbvGr   2919 non-null   int64  \n",
      " 53  KitchenQual    2918 non-null   object \n",
      " 54  TotRmsAbvGrd   2919 non-null   int64  \n",
      " 55  Functional     2917 non-null   object \n",
      " 56  Fireplaces     2919 non-null   int64  \n",
      " 57  FireplaceQu    1499 non-null   object \n",
      " 58  GarageType     2762 non-null   object \n",
      " 59  GarageYrBlt    2760 non-null   float64\n",
      " 60  GarageFinish   2760 non-null   object \n",
      " 61  GarageCars     2918 non-null   float64\n",
      " 62  GarageArea     2918 non-null   float64\n",
      " 63  GarageQual     2760 non-null   object \n",
      " 64  GarageCond     2760 non-null   object \n",
      " 65  PavedDrive     2919 non-null   object \n",
      " 66  WoodDeckSF     2919 non-null   int64  \n",
      " 67  OpenPorchSF    2919 non-null   int64  \n",
      " 68  EnclosedPorch  2919 non-null   int64  \n",
      " 69  3SsnPorch      2919 non-null   int64  \n",
      " 70  ScreenPorch    2919 non-null   int64  \n",
      " 71  PoolArea       2919 non-null   int64  \n",
      " 72  PoolQC         10 non-null     object \n",
      " 73  Fence          571 non-null    object \n",
      " 74  MiscFeature    105 non-null    object \n",
      " 75  MiscVal        2919 non-null   int64  \n",
      " 76  MoSold         2919 non-null   int64  \n",
      " 77  YrSold         2919 non-null   int64  \n",
      " 78  SaleType       2918 non-null   object \n",
      " 79  SaleCondition  2919 non-null   object \n",
      " 80  SalePrice      1460 non-null   float64\n",
      " 81  source         2919 non-null   object \n",
      "dtypes: float64(12), int64(26), object(44)\n",
      "memory usage: 1.8+ MB\n"
     ]
    }
   ],
   "execution_count": 778
  },
  {
   "metadata": {
    "ExecuteTime": {
     "end_time": "2025-07-17T12:34:08.081251Z",
     "start_time": "2025-07-17T12:34:07.920124Z"
    }
   },
   "cell_type": "code",
   "source": "df.describe()",
   "id": "5ab9ab803839614",
   "outputs": [
    {
     "data": {
      "text/plain": [
       "                Id   MSSubClass  LotFrontage        LotArea  OverallQual  \\\n",
       "count  2919.000000  2919.000000  2433.000000    2919.000000  2919.000000   \n",
       "mean   1460.000000    57.137718    69.305795   10168.114080     6.089072   \n",
       "std     842.787043    42.517628    23.344905    7886.996359     1.409947   \n",
       "min       1.000000    20.000000    21.000000    1300.000000     1.000000   \n",
       "25%     730.500000    20.000000    59.000000    7478.000000     5.000000   \n",
       "50%    1460.000000    50.000000    68.000000    9453.000000     6.000000   \n",
       "75%    2189.500000    70.000000    80.000000   11570.000000     7.000000   \n",
       "max    2919.000000   190.000000   313.000000  215245.000000    10.000000   \n",
       "\n",
       "       OverallCond    YearBuilt  YearRemodAdd   MasVnrArea   BsmtFinSF1  ...  \\\n",
       "count  2919.000000  2919.000000   2919.000000  2896.000000  2918.000000  ...   \n",
       "mean      5.564577  1971.312778   1984.264474   102.201312   441.423235  ...   \n",
       "std       1.113131    30.291442     20.894344   179.334253   455.610826  ...   \n",
       "min       1.000000  1872.000000   1950.000000     0.000000     0.000000  ...   \n",
       "25%       5.000000  1953.500000   1965.000000     0.000000     0.000000  ...   \n",
       "50%       5.000000  1973.000000   1993.000000     0.000000   368.500000  ...   \n",
       "75%       6.000000  2001.000000   2004.000000   164.000000   733.000000  ...   \n",
       "max       9.000000  2010.000000   2010.000000  1600.000000  5644.000000  ...   \n",
       "\n",
       "        WoodDeckSF  OpenPorchSF  EnclosedPorch    3SsnPorch  ScreenPorch  \\\n",
       "count  2919.000000  2919.000000    2919.000000  2919.000000  2919.000000   \n",
       "mean     93.709832    47.486811      23.098321     2.602261    16.062350   \n",
       "std     126.526589    67.575493      64.244246    25.188169    56.184365   \n",
       "min       0.000000     0.000000       0.000000     0.000000     0.000000   \n",
       "25%       0.000000     0.000000       0.000000     0.000000     0.000000   \n",
       "50%       0.000000    26.000000       0.000000     0.000000     0.000000   \n",
       "75%     168.000000    70.000000       0.000000     0.000000     0.000000   \n",
       "max    1424.000000   742.000000    1012.000000   508.000000   576.000000   \n",
       "\n",
       "          PoolArea       MiscVal       MoSold       YrSold      SalePrice  \n",
       "count  2919.000000   2919.000000  2919.000000  2919.000000    1460.000000  \n",
       "mean      2.251799     50.825968     6.213087  2007.792737  180921.195890  \n",
       "std      35.663946    567.402211     2.714762     1.314964   79442.502883  \n",
       "min       0.000000      0.000000     1.000000  2006.000000   34900.000000  \n",
       "25%       0.000000      0.000000     4.000000  2007.000000  129975.000000  \n",
       "50%       0.000000      0.000000     6.000000  2008.000000  163000.000000  \n",
       "75%       0.000000      0.000000     8.000000  2009.000000  214000.000000  \n",
       "max     800.000000  17000.000000    12.000000  2010.000000  755000.000000  \n",
       "\n",
       "[8 rows x 38 columns]"
      ],
      "text/html": [
       "<div>\n",
       "<style scoped>\n",
       "    .dataframe tbody tr th:only-of-type {\n",
       "        vertical-align: middle;\n",
       "    }\n",
       "\n",
       "    .dataframe tbody tr th {\n",
       "        vertical-align: top;\n",
       "    }\n",
       "\n",
       "    .dataframe thead th {\n",
       "        text-align: right;\n",
       "    }\n",
       "</style>\n",
       "<table border=\"1\" class=\"dataframe\">\n",
       "  <thead>\n",
       "    <tr style=\"text-align: right;\">\n",
       "      <th></th>\n",
       "      <th>Id</th>\n",
       "      <th>MSSubClass</th>\n",
       "      <th>LotFrontage</th>\n",
       "      <th>LotArea</th>\n",
       "      <th>OverallQual</th>\n",
       "      <th>OverallCond</th>\n",
       "      <th>YearBuilt</th>\n",
       "      <th>YearRemodAdd</th>\n",
       "      <th>MasVnrArea</th>\n",
       "      <th>BsmtFinSF1</th>\n",
       "      <th>...</th>\n",
       "      <th>WoodDeckSF</th>\n",
       "      <th>OpenPorchSF</th>\n",
       "      <th>EnclosedPorch</th>\n",
       "      <th>3SsnPorch</th>\n",
       "      <th>ScreenPorch</th>\n",
       "      <th>PoolArea</th>\n",
       "      <th>MiscVal</th>\n",
       "      <th>MoSold</th>\n",
       "      <th>YrSold</th>\n",
       "      <th>SalePrice</th>\n",
       "    </tr>\n",
       "  </thead>\n",
       "  <tbody>\n",
       "    <tr>\n",
       "      <th>count</th>\n",
       "      <td>2919.000000</td>\n",
       "      <td>2919.000000</td>\n",
       "      <td>2433.000000</td>\n",
       "      <td>2919.000000</td>\n",
       "      <td>2919.000000</td>\n",
       "      <td>2919.000000</td>\n",
       "      <td>2919.000000</td>\n",
       "      <td>2919.000000</td>\n",
       "      <td>2896.000000</td>\n",
       "      <td>2918.000000</td>\n",
       "      <td>...</td>\n",
       "      <td>2919.000000</td>\n",
       "      <td>2919.000000</td>\n",
       "      <td>2919.000000</td>\n",
       "      <td>2919.000000</td>\n",
       "      <td>2919.000000</td>\n",
       "      <td>2919.000000</td>\n",
       "      <td>2919.000000</td>\n",
       "      <td>2919.000000</td>\n",
       "      <td>2919.000000</td>\n",
       "      <td>1460.000000</td>\n",
       "    </tr>\n",
       "    <tr>\n",
       "      <th>mean</th>\n",
       "      <td>1460.000000</td>\n",
       "      <td>57.137718</td>\n",
       "      <td>69.305795</td>\n",
       "      <td>10168.114080</td>\n",
       "      <td>6.089072</td>\n",
       "      <td>5.564577</td>\n",
       "      <td>1971.312778</td>\n",
       "      <td>1984.264474</td>\n",
       "      <td>102.201312</td>\n",
       "      <td>441.423235</td>\n",
       "      <td>...</td>\n",
       "      <td>93.709832</td>\n",
       "      <td>47.486811</td>\n",
       "      <td>23.098321</td>\n",
       "      <td>2.602261</td>\n",
       "      <td>16.062350</td>\n",
       "      <td>2.251799</td>\n",
       "      <td>50.825968</td>\n",
       "      <td>6.213087</td>\n",
       "      <td>2007.792737</td>\n",
       "      <td>180921.195890</td>\n",
       "    </tr>\n",
       "    <tr>\n",
       "      <th>std</th>\n",
       "      <td>842.787043</td>\n",
       "      <td>42.517628</td>\n",
       "      <td>23.344905</td>\n",
       "      <td>7886.996359</td>\n",
       "      <td>1.409947</td>\n",
       "      <td>1.113131</td>\n",
       "      <td>30.291442</td>\n",
       "      <td>20.894344</td>\n",
       "      <td>179.334253</td>\n",
       "      <td>455.610826</td>\n",
       "      <td>...</td>\n",
       "      <td>126.526589</td>\n",
       "      <td>67.575493</td>\n",
       "      <td>64.244246</td>\n",
       "      <td>25.188169</td>\n",
       "      <td>56.184365</td>\n",
       "      <td>35.663946</td>\n",
       "      <td>567.402211</td>\n",
       "      <td>2.714762</td>\n",
       "      <td>1.314964</td>\n",
       "      <td>79442.502883</td>\n",
       "    </tr>\n",
       "    <tr>\n",
       "      <th>min</th>\n",
       "      <td>1.000000</td>\n",
       "      <td>20.000000</td>\n",
       "      <td>21.000000</td>\n",
       "      <td>1300.000000</td>\n",
       "      <td>1.000000</td>\n",
       "      <td>1.000000</td>\n",
       "      <td>1872.000000</td>\n",
       "      <td>1950.000000</td>\n",
       "      <td>0.000000</td>\n",
       "      <td>0.000000</td>\n",
       "      <td>...</td>\n",
       "      <td>0.000000</td>\n",
       "      <td>0.000000</td>\n",
       "      <td>0.000000</td>\n",
       "      <td>0.000000</td>\n",
       "      <td>0.000000</td>\n",
       "      <td>0.000000</td>\n",
       "      <td>0.000000</td>\n",
       "      <td>1.000000</td>\n",
       "      <td>2006.000000</td>\n",
       "      <td>34900.000000</td>\n",
       "    </tr>\n",
       "    <tr>\n",
       "      <th>25%</th>\n",
       "      <td>730.500000</td>\n",
       "      <td>20.000000</td>\n",
       "      <td>59.000000</td>\n",
       "      <td>7478.000000</td>\n",
       "      <td>5.000000</td>\n",
       "      <td>5.000000</td>\n",
       "      <td>1953.500000</td>\n",
       "      <td>1965.000000</td>\n",
       "      <td>0.000000</td>\n",
       "      <td>0.000000</td>\n",
       "      <td>...</td>\n",
       "      <td>0.000000</td>\n",
       "      <td>0.000000</td>\n",
       "      <td>0.000000</td>\n",
       "      <td>0.000000</td>\n",
       "      <td>0.000000</td>\n",
       "      <td>0.000000</td>\n",
       "      <td>0.000000</td>\n",
       "      <td>4.000000</td>\n",
       "      <td>2007.000000</td>\n",
       "      <td>129975.000000</td>\n",
       "    </tr>\n",
       "    <tr>\n",
       "      <th>50%</th>\n",
       "      <td>1460.000000</td>\n",
       "      <td>50.000000</td>\n",
       "      <td>68.000000</td>\n",
       "      <td>9453.000000</td>\n",
       "      <td>6.000000</td>\n",
       "      <td>5.000000</td>\n",
       "      <td>1973.000000</td>\n",
       "      <td>1993.000000</td>\n",
       "      <td>0.000000</td>\n",
       "      <td>368.500000</td>\n",
       "      <td>...</td>\n",
       "      <td>0.000000</td>\n",
       "      <td>26.000000</td>\n",
       "      <td>0.000000</td>\n",
       "      <td>0.000000</td>\n",
       "      <td>0.000000</td>\n",
       "      <td>0.000000</td>\n",
       "      <td>0.000000</td>\n",
       "      <td>6.000000</td>\n",
       "      <td>2008.000000</td>\n",
       "      <td>163000.000000</td>\n",
       "    </tr>\n",
       "    <tr>\n",
       "      <th>75%</th>\n",
       "      <td>2189.500000</td>\n",
       "      <td>70.000000</td>\n",
       "      <td>80.000000</td>\n",
       "      <td>11570.000000</td>\n",
       "      <td>7.000000</td>\n",
       "      <td>6.000000</td>\n",
       "      <td>2001.000000</td>\n",
       "      <td>2004.000000</td>\n",
       "      <td>164.000000</td>\n",
       "      <td>733.000000</td>\n",
       "      <td>...</td>\n",
       "      <td>168.000000</td>\n",
       "      <td>70.000000</td>\n",
       "      <td>0.000000</td>\n",
       "      <td>0.000000</td>\n",
       "      <td>0.000000</td>\n",
       "      <td>0.000000</td>\n",
       "      <td>0.000000</td>\n",
       "      <td>8.000000</td>\n",
       "      <td>2009.000000</td>\n",
       "      <td>214000.000000</td>\n",
       "    </tr>\n",
       "    <tr>\n",
       "      <th>max</th>\n",
       "      <td>2919.000000</td>\n",
       "      <td>190.000000</td>\n",
       "      <td>313.000000</td>\n",
       "      <td>215245.000000</td>\n",
       "      <td>10.000000</td>\n",
       "      <td>9.000000</td>\n",
       "      <td>2010.000000</td>\n",
       "      <td>2010.000000</td>\n",
       "      <td>1600.000000</td>\n",
       "      <td>5644.000000</td>\n",
       "      <td>...</td>\n",
       "      <td>1424.000000</td>\n",
       "      <td>742.000000</td>\n",
       "      <td>1012.000000</td>\n",
       "      <td>508.000000</td>\n",
       "      <td>576.000000</td>\n",
       "      <td>800.000000</td>\n",
       "      <td>17000.000000</td>\n",
       "      <td>12.000000</td>\n",
       "      <td>2010.000000</td>\n",
       "      <td>755000.000000</td>\n",
       "    </tr>\n",
       "  </tbody>\n",
       "</table>\n",
       "<p>8 rows × 38 columns</p>\n",
       "</div>"
      ]
     },
     "execution_count": 779,
     "metadata": {},
     "output_type": "execute_result"
    }
   ],
   "execution_count": 779
  },
  {
   "metadata": {
    "ExecuteTime": {
     "end_time": "2025-07-17T12:34:08.600209Z",
     "start_time": "2025-07-17T12:34:08.584090Z"
    }
   },
   "cell_type": "code",
   "source": "df['source'].value_counts()",
   "id": "7af1333f78bb4d5a",
   "outputs": [
    {
     "data": {
      "text/plain": [
       "source\n",
       "train    1460\n",
       "test     1459\n",
       "Name: count, dtype: int64"
      ]
     },
     "execution_count": 780,
     "metadata": {},
     "output_type": "execute_result"
    }
   ],
   "execution_count": 780
  },
  {
   "metadata": {
    "ExecuteTime": {
     "end_time": "2025-07-17T12:34:08.870189Z",
     "start_time": "2025-07-17T12:34:08.834024Z"
    }
   },
   "cell_type": "code",
   "source": [
    "df.drop(columns=['Id'], inplace=True)\n",
    "df.head()"
   ],
   "id": "8c4563f129081a10",
   "outputs": [
    {
     "data": {
      "text/plain": [
       "   MSSubClass MSZoning  LotFrontage  LotArea Street Alley LotShape  \\\n",
       "0          60       RL         65.0     8450   Pave   NaN      Reg   \n",
       "1          20       RL         80.0     9600   Pave   NaN      Reg   \n",
       "2          60       RL         68.0    11250   Pave   NaN      IR1   \n",
       "3          70       RL         60.0     9550   Pave   NaN      IR1   \n",
       "4          60       RL         84.0    14260   Pave   NaN      IR1   \n",
       "\n",
       "  LandContour Utilities LotConfig  ... PoolQC Fence MiscFeature MiscVal  \\\n",
       "0         Lvl    AllPub    Inside  ...    NaN   NaN         NaN       0   \n",
       "1         Lvl    AllPub       FR2  ...    NaN   NaN         NaN       0   \n",
       "2         Lvl    AllPub    Inside  ...    NaN   NaN         NaN       0   \n",
       "3         Lvl    AllPub    Corner  ...    NaN   NaN         NaN       0   \n",
       "4         Lvl    AllPub       FR2  ...    NaN   NaN         NaN       0   \n",
       "\n",
       "  MoSold YrSold  SaleType  SaleCondition  SalePrice  source  \n",
       "0      2   2008        WD         Normal   208500.0   train  \n",
       "1      5   2007        WD         Normal   181500.0   train  \n",
       "2      9   2008        WD         Normal   223500.0   train  \n",
       "3      2   2006        WD        Abnorml   140000.0   train  \n",
       "4     12   2008        WD         Normal   250000.0   train  \n",
       "\n",
       "[5 rows x 81 columns]"
      ],
      "text/html": [
       "<div>\n",
       "<style scoped>\n",
       "    .dataframe tbody tr th:only-of-type {\n",
       "        vertical-align: middle;\n",
       "    }\n",
       "\n",
       "    .dataframe tbody tr th {\n",
       "        vertical-align: top;\n",
       "    }\n",
       "\n",
       "    .dataframe thead th {\n",
       "        text-align: right;\n",
       "    }\n",
       "</style>\n",
       "<table border=\"1\" class=\"dataframe\">\n",
       "  <thead>\n",
       "    <tr style=\"text-align: right;\">\n",
       "      <th></th>\n",
       "      <th>MSSubClass</th>\n",
       "      <th>MSZoning</th>\n",
       "      <th>LotFrontage</th>\n",
       "      <th>LotArea</th>\n",
       "      <th>Street</th>\n",
       "      <th>Alley</th>\n",
       "      <th>LotShape</th>\n",
       "      <th>LandContour</th>\n",
       "      <th>Utilities</th>\n",
       "      <th>LotConfig</th>\n",
       "      <th>...</th>\n",
       "      <th>PoolQC</th>\n",
       "      <th>Fence</th>\n",
       "      <th>MiscFeature</th>\n",
       "      <th>MiscVal</th>\n",
       "      <th>MoSold</th>\n",
       "      <th>YrSold</th>\n",
       "      <th>SaleType</th>\n",
       "      <th>SaleCondition</th>\n",
       "      <th>SalePrice</th>\n",
       "      <th>source</th>\n",
       "    </tr>\n",
       "  </thead>\n",
       "  <tbody>\n",
       "    <tr>\n",
       "      <th>0</th>\n",
       "      <td>60</td>\n",
       "      <td>RL</td>\n",
       "      <td>65.0</td>\n",
       "      <td>8450</td>\n",
       "      <td>Pave</td>\n",
       "      <td>NaN</td>\n",
       "      <td>Reg</td>\n",
       "      <td>Lvl</td>\n",
       "      <td>AllPub</td>\n",
       "      <td>Inside</td>\n",
       "      <td>...</td>\n",
       "      <td>NaN</td>\n",
       "      <td>NaN</td>\n",
       "      <td>NaN</td>\n",
       "      <td>0</td>\n",
       "      <td>2</td>\n",
       "      <td>2008</td>\n",
       "      <td>WD</td>\n",
       "      <td>Normal</td>\n",
       "      <td>208500.0</td>\n",
       "      <td>train</td>\n",
       "    </tr>\n",
       "    <tr>\n",
       "      <th>1</th>\n",
       "      <td>20</td>\n",
       "      <td>RL</td>\n",
       "      <td>80.0</td>\n",
       "      <td>9600</td>\n",
       "      <td>Pave</td>\n",
       "      <td>NaN</td>\n",
       "      <td>Reg</td>\n",
       "      <td>Lvl</td>\n",
       "      <td>AllPub</td>\n",
       "      <td>FR2</td>\n",
       "      <td>...</td>\n",
       "      <td>NaN</td>\n",
       "      <td>NaN</td>\n",
       "      <td>NaN</td>\n",
       "      <td>0</td>\n",
       "      <td>5</td>\n",
       "      <td>2007</td>\n",
       "      <td>WD</td>\n",
       "      <td>Normal</td>\n",
       "      <td>181500.0</td>\n",
       "      <td>train</td>\n",
       "    </tr>\n",
       "    <tr>\n",
       "      <th>2</th>\n",
       "      <td>60</td>\n",
       "      <td>RL</td>\n",
       "      <td>68.0</td>\n",
       "      <td>11250</td>\n",
       "      <td>Pave</td>\n",
       "      <td>NaN</td>\n",
       "      <td>IR1</td>\n",
       "      <td>Lvl</td>\n",
       "      <td>AllPub</td>\n",
       "      <td>Inside</td>\n",
       "      <td>...</td>\n",
       "      <td>NaN</td>\n",
       "      <td>NaN</td>\n",
       "      <td>NaN</td>\n",
       "      <td>0</td>\n",
       "      <td>9</td>\n",
       "      <td>2008</td>\n",
       "      <td>WD</td>\n",
       "      <td>Normal</td>\n",
       "      <td>223500.0</td>\n",
       "      <td>train</td>\n",
       "    </tr>\n",
       "    <tr>\n",
       "      <th>3</th>\n",
       "      <td>70</td>\n",
       "      <td>RL</td>\n",
       "      <td>60.0</td>\n",
       "      <td>9550</td>\n",
       "      <td>Pave</td>\n",
       "      <td>NaN</td>\n",
       "      <td>IR1</td>\n",
       "      <td>Lvl</td>\n",
       "      <td>AllPub</td>\n",
       "      <td>Corner</td>\n",
       "      <td>...</td>\n",
       "      <td>NaN</td>\n",
       "      <td>NaN</td>\n",
       "      <td>NaN</td>\n",
       "      <td>0</td>\n",
       "      <td>2</td>\n",
       "      <td>2006</td>\n",
       "      <td>WD</td>\n",
       "      <td>Abnorml</td>\n",
       "      <td>140000.0</td>\n",
       "      <td>train</td>\n",
       "    </tr>\n",
       "    <tr>\n",
       "      <th>4</th>\n",
       "      <td>60</td>\n",
       "      <td>RL</td>\n",
       "      <td>84.0</td>\n",
       "      <td>14260</td>\n",
       "      <td>Pave</td>\n",
       "      <td>NaN</td>\n",
       "      <td>IR1</td>\n",
       "      <td>Lvl</td>\n",
       "      <td>AllPub</td>\n",
       "      <td>FR2</td>\n",
       "      <td>...</td>\n",
       "      <td>NaN</td>\n",
       "      <td>NaN</td>\n",
       "      <td>NaN</td>\n",
       "      <td>0</td>\n",
       "      <td>12</td>\n",
       "      <td>2008</td>\n",
       "      <td>WD</td>\n",
       "      <td>Normal</td>\n",
       "      <td>250000.0</td>\n",
       "      <td>train</td>\n",
       "    </tr>\n",
       "  </tbody>\n",
       "</table>\n",
       "<p>5 rows × 81 columns</p>\n",
       "</div>"
      ]
     },
     "execution_count": 781,
     "metadata": {},
     "output_type": "execute_result"
    }
   ],
   "execution_count": 781
  },
  {
   "metadata": {
    "ExecuteTime": {
     "end_time": "2025-07-17T12:34:09.156300Z",
     "start_time": "2025-07-17T12:34:09.143465Z"
    }
   },
   "cell_type": "code",
   "source": "df['MSZoning'] = df['MSZoning'].fillna(df['MSZoning'].mode()[0])",
   "id": "d4de52477f128e66",
   "outputs": [],
   "execution_count": 782
  },
  {
   "metadata": {
    "ExecuteTime": {
     "end_time": "2025-07-17T12:34:09.378022Z",
     "start_time": "2025-07-17T12:34:09.366816Z"
    }
   },
   "cell_type": "code",
   "source": "df['MSZoning'].value_counts()",
   "id": "5e49d4d08637cdc3",
   "outputs": [
    {
     "data": {
      "text/plain": [
       "MSZoning\n",
       "RL         2269\n",
       "RM          460\n",
       "FV          139\n",
       "RH           26\n",
       "C (all)      25\n",
       "Name: count, dtype: int64"
      ]
     },
     "execution_count": 783,
     "metadata": {},
     "output_type": "execute_result"
    }
   ],
   "execution_count": 783
  },
  {
   "metadata": {
    "ExecuteTime": {
     "end_time": "2025-07-17T12:34:10.228997Z",
     "start_time": "2025-07-17T12:34:09.742297Z"
    }
   },
   "cell_type": "code",
   "source": [
    "sns.histplot(df['MSZoning'])\n",
    "plt.show()"
   ],
   "id": "2241eb1b3e6dba9a",
   "outputs": [
    {
     "data": {
      "text/plain": [
       "<Figure size 640x480 with 1 Axes>"
      ],
      "image/png": "[encoded data removed]"
     },
     "metadata": {},
     "output_type": "display_data"
    }
   ],
   "execution_count": 784
  },
  {
   "metadata": {
    "ExecuteTime": {
     "end_time": "2025-07-17T12:34:10.275806Z",
     "start_time": "2025-07-17T12:34:10.267585Z"
    }
   },
   "cell_type": "code",
   "source": [
    "# Define bins based on price tiers (adjust thresholds based on your data)\n",
    "\n",
    "def price_based_binning(zone):\n",
    "    zone_price = price_by_zone[zone]\n",
    "\n",
    "    if zone_price > 200000:  # High price\n",
    "        return 'High_Value'\n",
    "    elif zone_price > 150000:  # Medium price\n",
    "        return 'Medium_Value'\n",
    "    else:  # Low price\n",
    "        return 'Low_Value'"
   ],
   "id": "1d39985530e6abc1",
   "outputs": [],
   "execution_count": 785
  },
  {
   "metadata": {
    "ExecuteTime": {
     "end_time": "2025-07-17T12:34:10.335572Z",
     "start_time": "2025-07-17T12:34:10.313509Z"
    }
   },
   "cell_type": "code",
   "source": [
    "# First, calculate mean price by zone\n",
    "price_by_zone = df.groupby('MSZoning')['SalePrice'].mean().sort_values(ascending=False)\n",
    "print(\"Mean price by zone:\")\n",
    "print(price_by_zone)\n"
   ],
   "id": "3f113b1cb06d26a1",
   "outputs": [
    {
     "name": "stdout",
     "output_type": "stream",
     "text": [
      "Mean price by zone:\n",
      "MSZoning\n",
      "FV         214014.061538\n",
      "RL         191004.994787\n",
      "RH         131558.375000\n",
      "RM         126316.830275\n",
      "C (all)     74528.000000\n",
      "Name: SalePrice, dtype: float64\n"
     ]
    }
   ],
   "execution_count": 786
  },
  {
   "metadata": {
    "ExecuteTime": {
     "end_time": "2025-07-17T12:34:10.473992Z",
     "start_time": "2025-07-17T12:34:10.448685Z"
    }
   },
   "cell_type": "code",
   "source": [
    "df['MSZoning_binned'] = df['MSZoning'].apply(price_based_binning)\n",
    "df.head()"
   ],
   "id": "396ed0eb60b42804",
   "outputs": [
    {
     "data": {
      "text/plain": [
       "   MSSubClass MSZoning  LotFrontage  LotArea Street Alley LotShape  \\\n",
       "0          60       RL         65.0     8450   Pave   NaN      Reg   \n",
       "1          20       RL         80.0     9600   Pave   NaN      Reg   \n",
       "2          60       RL         68.0    11250   Pave   NaN      IR1   \n",
       "3          70       RL         60.0     9550   Pave   NaN      IR1   \n",
       "4          60       RL         84.0    14260   Pave   NaN      IR1   \n",
       "\n",
       "  LandContour Utilities LotConfig  ... Fence MiscFeature MiscVal MoSold  \\\n",
       "0         Lvl    AllPub    Inside  ...   NaN         NaN       0      2   \n",
       "1         Lvl    AllPub       FR2  ...   NaN         NaN       0      5   \n",
       "2         Lvl    AllPub    Inside  ...   NaN         NaN       0      9   \n",
       "3         Lvl    AllPub    Corner  ...   NaN         NaN       0      2   \n",
       "4         Lvl    AllPub       FR2  ...   NaN         NaN       0     12   \n",
       "\n",
       "  YrSold SaleType  SaleCondition  SalePrice  source  MSZoning_binned  \n",
       "0   2008       WD         Normal   208500.0   train     Medium_Value  \n",
       "1   2007       WD         Normal   181500.0   train     Medium_Value  \n",
       "2   2008       WD         Normal   223500.0   train     Medium_Value  \n",
       "3   2006       WD        Abnorml   140000.0   train     Medium_Value  \n",
       "4   2008       WD         Normal   250000.0   train     Medium_Value  \n",
       "\n",
       "[5 rows x 82 columns]"
      ],
      "text/html": [
       "<div>\n",
       "<style scoped>\n",
       "    .dataframe tbody tr th:only-of-type {\n",
       "        vertical-align: middle;\n",
       "    }\n",
       "\n",
       "    .dataframe tbody tr th {\n",
       "        vertical-align: top;\n",
       "    }\n",
       "\n",
       "    .dataframe thead th {\n",
       "        text-align: right;\n",
       "    }\n",
       "</style>\n",
       "<table border=\"1\" class=\"dataframe\">\n",
       "  <thead>\n",
       "    <tr style=\"text-align: right;\">\n",
       "      <th></th>\n",
       "      <th>MSSubClass</th>\n",
       "      <th>MSZoning</th>\n",
       "      <th>LotFrontage</th>\n",
       "      <th>LotArea</th>\n",
       "      <th>Street</th>\n",
       "      <th>Alley</th>\n",
       "      <th>LotShape</th>\n",
       "      <th>LandContour</th>\n",
       "      <th>Utilities</th>\n",
       "      <th>LotConfig</th>\n",
       "      <th>...</th>\n",
       "      <th>Fence</th>\n",
       "      <th>MiscFeature</th>\n",
       "      <th>MiscVal</th>\n",
       "      <th>MoSold</th>\n",
       "      <th>YrSold</th>\n",
       "      <th>SaleType</th>\n",
       "      <th>SaleCondition</th>\n",
       "      <th>SalePrice</th>\n",
       "      <th>source</th>\n",
       "      <th>MSZoning_binned</th>\n",
       "    </tr>\n",
       "  </thead>\n",
       "  <tbody>\n",
       "    <tr>\n",
       "      <th>0</th>\n",
       "      <td>60</td>\n",
       "      <td>RL</td>\n",
       "      <td>65.0</td>\n",
       "      <td>8450</td>\n",
       "      <td>Pave</td>\n",
       "      <td>NaN</td>\n",
       "      <td>Reg</td>\n",
       "      <td>Lvl</td>\n",
       "      <td>AllPub</td>\n",
       "      <td>Inside</td>\n",
       "      <td>...</td>\n",
       "      <td>NaN</td>\n",
       "      <td>NaN</td>\n",
       "      <td>0</td>\n",
       "      <td>2</td>\n",
       "      <td>2008</td>\n",
       "      <td>WD</td>\n",
       "      <td>Normal</td>\n",
       "      <td>208500.0</td>\n",
       "      <td>train</td>\n",
       "      <td>Medium_Value</td>\n",
       "    </tr>\n",
       "    <tr>\n",
       "      <th>1</th>\n",
       "      <td>20</td>\n",
       "      <td>RL</td>\n",
       "      <td>80.0</td>\n",
       "      <td>9600</td>\n",
       "      <td>Pave</td>\n",
       "      <td>NaN</td>\n",
       "      <td>Reg</td>\n",
       "      <td>Lvl</td>\n",
       "      <td>AllPub</td>\n",
       "      <td>FR2</td>\n",
       "      <td>...</td>\n",
       "      <td>NaN</td>\n",
       "      <td>NaN</td>\n",
       "      <td>0</td>\n",
       "      <td>5</td>\n",
       "      <td>2007</td>\n",
       "      <td>WD</td>\n",
       "      <td>Normal</td>\n",
       "      <td>181500.0</td>\n",
       "      <td>train</td>\n",
       "      <td>Medium_Value</td>\n",
       "    </tr>\n",
       "    <tr>\n",
       "      <th>2</th>\n",
       "      <td>60</td>\n",
       "      <td>RL</td>\n",
       "      <td>68.0</td>\n",
       "      <td>11250</td>\n",
       "      <td>Pave</td>\n",
       "      <td>NaN</td>\n",
       "      <td>IR1</td>\n",
       "      <td>Lvl</td>\n",
       "      <td>AllPub</td>\n",
       "      <td>Inside</td>\n",
       "      <td>...</td>\n",
       "      <td>NaN</td>\n",
       "      <td>NaN</td>\n",
       "      <td>0</td>\n",
       "      <td>9</td>\n",
       "      <td>2008</td>\n",
       "      <td>WD</td>\n",
       "      <td>Normal</td>\n",
       "      <td>223500.0</td>\n",
       "      <td>train</td>\n",
       "      <td>Medium_Value</td>\n",
       "    </tr>\n",
       "    <tr>\n",
       "      <th>3</th>\n",
       "      <td>70</td>\n",
       "      <td>RL</td>\n",
       "      <td>60.0</td>\n",
       "      <td>9550</td>\n",
       "      <td>Pave</td>\n",
       "      <td>NaN</td>\n",
       "      <td>IR1</td>\n",
       "      <td>Lvl</td>\n",
       "      <td>AllPub</td>\n",
       "      <td>Corner</td>\n",
       "      <td>...</td>\n",
       "      <td>NaN</td>\n",
       "      <td>NaN</td>\n",
       "      <td>0</td>\n",
       "      <td>2</td>\n",
       "      <td>2006</td>\n",
       "      <td>WD</td>\n",
       "      <td>Abnorml</td>\n",
       "      <td>140000.0</td>\n",
       "      <td>train</td>\n",
       "      <td>Medium_Value</td>\n",
       "    </tr>\n",
       "    <tr>\n",
       "      <th>4</th>\n",
       "      <td>60</td>\n",
       "      <td>RL</td>\n",
       "      <td>84.0</td>\n",
       "      <td>14260</td>\n",
       "      <td>Pave</td>\n",
       "      <td>NaN</td>\n",
       "      <td>IR1</td>\n",
       "      <td>Lvl</td>\n",
       "      <td>AllPub</td>\n",
       "      <td>FR2</td>\n",
       "      <td>...</td>\n",
       "      <td>NaN</td>\n",
       "      <td>NaN</td>\n",
       "      <td>0</td>\n",
       "      <td>12</td>\n",
       "      <td>2008</td>\n",
       "      <td>WD</td>\n",
       "      <td>Normal</td>\n",
       "      <td>250000.0</td>\n",
       "      <td>train</td>\n",
       "      <td>Medium_Value</td>\n",
       "    </tr>\n",
       "  </tbody>\n",
       "</table>\n",
       "<p>5 rows × 82 columns</p>\n",
       "</div>"
      ]
     },
     "execution_count": 787,
     "metadata": {},
     "output_type": "execute_result"
    }
   ],
   "execution_count": 787
  },
  {
   "metadata": {
    "ExecuteTime": {
     "end_time": "2025-07-17T12:34:10.651963Z",
     "start_time": "2025-07-17T12:34:10.646074Z"
    }
   },
   "cell_type": "code",
   "source": "#later on convert the binned values to numerical",
   "id": "ef4bcae24b4f408",
   "outputs": [],
   "execution_count": 788
  },
  {
   "metadata": {
    "ExecuteTime": {
     "end_time": "2025-07-17T12:34:10.729721Z",
     "start_time": "2025-07-17T12:34:10.721422Z"
    }
   },
   "cell_type": "code",
   "source": [
    "#dealing with LotFrontage nillss\n",
    "df['LotFrontage_was_missing'] = df['LotFrontage'].isnull().astype(int)\n"
   ],
   "id": "8a1440ec74c83239",
   "outputs": [],
   "execution_count": 789
  },
  {
   "metadata": {
    "ExecuteTime": {
     "end_time": "2025-07-17T12:34:11.148508Z",
     "start_time": "2025-07-17T12:34:11.106290Z"
    }
   },
   "cell_type": "code",
   "source": [
    "# Step 2: Work only with rows where LotFrontage is present and LotShape is regular\n",
    "regular_lots = df[(df['LotFrontage'].notnull()) & (df['LotShape'] == 'Reg')].copy()\n",
    "\n",
    "# Step 3: Estimate depth (LotArea / LotFrontage)\n",
    "regular_lots['EstimatedDepth'] = regular_lots['LotArea'] / regular_lots['LotFrontage']\n",
    "\n",
    "# Step 4: Calculate the median depth from these regular lots\n",
    "median_depth = regular_lots['EstimatedDepth'].median()\n",
    "\n",
    "# Optional: print it to understand what it is\n",
    "print(f\"Median estimated depth from regular lots: {median_depth:.2f} ft\")\n"
   ],
   "id": "34ab8ecf3cba0b5c",
   "outputs": [
    {
     "name": "stdout",
     "output_type": "stream",
     "text": [
      "Median estimated depth from regular lots: 125.00 ft\n"
     ]
    }
   ],
   "execution_count": 790
  },
  {
   "metadata": {
    "ExecuteTime": {
     "end_time": "2025-07-17T12:34:11.384838Z",
     "start_time": "2025-07-17T12:34:11.366855Z"
    }
   },
   "cell_type": "code",
   "source": [
    "# Step 5: Create mask for rows that are missing LotFrontage\n",
    "missing_mask = df['LotFrontage'].isnull()\n",
    "\n",
    "# Step 6: Apply logic to fill missing values\n",
    "# If shape is 'Reg' → calculate using LotArea / median_depth\n",
    "# Else → use median LotFrontage overall\n",
    "lotfrontage_median = df['LotFrontage'].median()\n",
    "\n",
    "# Fill missing values\n",
    "df.loc[missing_mask & (df['LotShape'] == 'Reg'), 'LotFrontage'] = (\n",
    "    df.loc[missing_mask & (df['LotShape'] == 'Reg'), 'LotArea'] / median_depth\n",
    ")"
   ],
   "id": "667bcb868681b612",
   "outputs": [],
   "execution_count": 791
  },
  {
   "metadata": {
    "ExecuteTime": {
     "end_time": "2025-07-17T12:34:11.512048Z",
     "start_time": "2025-07-17T12:34:11.502188Z"
    }
   },
   "cell_type": "code",
   "source": [
    "# For remaining nulls (irregular shapes), fill with median\n",
    "df.loc[missing_mask & (df['LotShape'] != 'Reg'), 'LotFrontage'] = lotfrontage_median"
   ],
   "id": "12f57d9de25cc578",
   "outputs": [],
   "execution_count": 792
  },
  {
   "metadata": {
    "ExecuteTime": {
     "end_time": "2025-07-17T12:34:11.768631Z",
     "start_time": "2025-07-17T12:34:11.745004Z"
    }
   },
   "cell_type": "code",
   "source": "df.head()",
   "id": "7b6b8d615449fc6d",
   "outputs": [
    {
     "data": {
      "text/plain": [
       "   MSSubClass MSZoning  LotFrontage  LotArea Street Alley LotShape  \\\n",
       "0          60       RL         65.0     8450   Pave   NaN      Reg   \n",
       "1          20       RL         80.0     9600   Pave   NaN      Reg   \n",
       "2          60       RL         68.0    11250   Pave   NaN      IR1   \n",
       "3          70       RL         60.0     9550   Pave   NaN      IR1   \n",
       "4          60       RL         84.0    14260   Pave   NaN      IR1   \n",
       "\n",
       "  LandContour Utilities LotConfig  ... MiscFeature MiscVal MoSold YrSold  \\\n",
       "0         Lvl    AllPub    Inside  ...         NaN       0      2   2008   \n",
       "1         Lvl    AllPub       FR2  ...         NaN       0      5   2007   \n",
       "2         Lvl    AllPub    Inside  ...         NaN       0      9   2008   \n",
       "3         Lvl    AllPub    Corner  ...         NaN       0      2   2006   \n",
       "4         Lvl    AllPub       FR2  ...         NaN       0     12   2008   \n",
       "\n",
       "  SaleType SaleCondition  SalePrice  source  MSZoning_binned  \\\n",
       "0       WD        Normal   208500.0   train     Medium_Value   \n",
       "1       WD        Normal   181500.0   train     Medium_Value   \n",
       "2       WD        Normal   223500.0   train     Medium_Value   \n",
       "3       WD       Abnorml   140000.0   train     Medium_Value   \n",
       "4       WD        Normal   250000.0   train     Medium_Value   \n",
       "\n",
       "   LotFrontage_was_missing  \n",
       "0                        0  \n",
       "1                        0  \n",
       "2                        0  \n",
       "3                        0  \n",
       "4                        0  \n",
       "\n",
       "[5 rows x 83 columns]"
      ],
      "text/html": [
       "<div>\n",
       "<style scoped>\n",
       "    .dataframe tbody tr th:only-of-type {\n",
       "        vertical-align: middle;\n",
       "    }\n",
       "\n",
       "    .dataframe tbody tr th {\n",
       "        vertical-align: top;\n",
       "    }\n",
       "\n",
       "    .dataframe thead th {\n",
       "        text-align: right;\n",
       "    }\n",
       "</style>\n",
       "<table border=\"1\" class=\"dataframe\">\n",
       "  <thead>\n",
       "    <tr style=\"text-align: right;\">\n",
       "      <th></th>\n",
       "      <th>MSSubClass</th>\n",
       "      <th>MSZoning</th>\n",
       "      <th>LotFrontage</th>\n",
       "      <th>LotArea</th>\n",
       "      <th>Street</th>\n",
       "      <th>Alley</th>\n",
       "      <th>LotShape</th>\n",
       "      <th>LandContour</th>\n",
       "      <th>Utilities</th>\n",
       "      <th>LotConfig</th>\n",
       "      <th>...</th>\n",
       "      <th>MiscFeature</th>\n",
       "      <th>MiscVal</th>\n",
       "      <th>MoSold</th>\n",
       "      <th>YrSold</th>\n",
       "      <th>SaleType</th>\n",
       "      <th>SaleCondition</th>\n",
       "      <th>SalePrice</th>\n",
       "      <th>source</th>\n",
       "      <th>MSZoning_binned</th>\n",
       "      <th>LotFrontage_was_missing</th>\n",
       "    </tr>\n",
       "  </thead>\n",
       "  <tbody>\n",
       "    <tr>\n",
       "      <th>0</th>\n",
       "      <td>60</td>\n",
       "      <td>RL</td>\n",
       "      <td>65.0</td>\n",
       "      <td>8450</td>\n",
       "      <td>Pave</td>\n",
       "      <td>NaN</td>\n",
       "      <td>Reg</td>\n",
       "      <td>Lvl</td>\n",
       "      <td>AllPub</td>\n",
       "      <td>Inside</td>\n",
       "      <td>...</td>\n",
       "      <td>NaN</td>\n",
       "      <td>0</td>\n",
       "      <td>2</td>\n",
       "      <td>2008</td>\n",
       "      <td>WD</td>\n",
       "      <td>Normal</td>\n",
       "      <td>208500.0</td>\n",
       "      <td>train</td>\n",
       "      <td>Medium_Value</td>\n",
       "      <td>0</td>\n",
       "    </tr>\n",
       "    <tr>\n",
       "      <th>1</th>\n",
       "      <td>20</td>\n",
       "      <td>RL</td>\n",
       "      <td>80.0</td>\n",
       "      <td>9600</td>\n",
       "      <td>Pave</td>\n",
       "      <td>NaN</td>\n",
       "      <td>Reg</td>\n",
       "      <td>Lvl</td>\n",
       "      <td>AllPub</td>\n",
       "      <td>FR2</td>\n",
       "      <td>...</td>\n",
       "      <td>NaN</td>\n",
       "      <td>0</td>\n",
       "      <td>5</td>\n",
       "      <td>2007</td>\n",
       "      <td>WD</td>\n",
       "      <td>Normal</td>\n",
       "      <td>181500.0</td>\n",
       "      <td>train</td>\n",
       "      <td>Medium_Value</td>\n",
       "      <td>0</td>\n",
       "    </tr>\n",
       "    <tr>\n",
       "      <th>2</th>\n",
       "      <td>60</td>\n",
       "      <td>RL</td>\n",
       "      <td>68.0</td>\n",
       "      <td>11250</td>\n",
       "      <td>Pave</td>\n",
       "      <td>NaN</td>\n",
       "      <td>IR1</td>\n",
       "      <td>Lvl</td>\n",
       "      <td>AllPub</td>\n",
       "      <td>Inside</td>\n",
       "      <td>...</td>\n",
       "      <td>NaN</td>\n",
       "      <td>0</td>\n",
       "      <td>9</td>\n",
       "      <td>2008</td>\n",
       "      <td>WD</td>\n",
       "      <td>Normal</td>\n",
       "      <td>223500.0</td>\n",
       "      <td>train</td>\n",
       "      <td>Medium_Value</td>\n",
       "      <td>0</td>\n",
       "    </tr>\n",
       "    <tr>\n",
       "      <th>3</th>\n",
       "      <td>70</td>\n",
       "      <td>RL</td>\n",
       "      <td>60.0</td>\n",
       "      <td>9550</td>\n",
       "      <td>Pave</td>\n",
       "      <td>NaN</td>\n",
       "      <td>IR1</td>\n",
       "      <td>Lvl</td>\n",
       "      <td>AllPub</td>\n",
       "      <td>Corner</td>\n",
       "      <td>...</td>\n",
       "      <td>NaN</td>\n",
       "      <td>0</td>\n",
       "      <td>2</td>\n",
       "      <td>2006</td>\n",
       "      <td>WD</td>\n",
       "      <td>Abnorml</td>\n",
       "      <td>140000.0</td>\n",
       "      <td>train</td>\n",
       "      <td>Medium_Value</td>\n",
       "      <td>0</td>\n",
       "    </tr>\n",
       "    <tr>\n",
       "      <th>4</th>\n",
       "      <td>60</td>\n",
       "      <td>RL</td>\n",
       "      <td>84.0</td>\n",
       "      <td>14260</td>\n",
       "      <td>Pave</td>\n",
       "      <td>NaN</td>\n",
       "      <td>IR1</td>\n",
       "      <td>Lvl</td>\n",
       "      <td>AllPub</td>\n",
       "      <td>FR2</td>\n",
       "      <td>...</td>\n",
       "      <td>NaN</td>\n",
       "      <td>0</td>\n",
       "      <td>12</td>\n",
       "      <td>2008</td>\n",
       "      <td>WD</td>\n",
       "      <td>Normal</td>\n",
       "      <td>250000.0</td>\n",
       "      <td>train</td>\n",
       "      <td>Medium_Value</td>\n",
       "      <td>0</td>\n",
       "    </tr>\n",
       "  </tbody>\n",
       "</table>\n",
       "<p>5 rows × 83 columns</p>\n",
       "</div>"
      ]
     },
     "execution_count": 793,
     "metadata": {},
     "output_type": "execute_result"
    }
   ],
   "execution_count": 793
  },
  {
   "metadata": {
    "ExecuteTime": {
     "end_time": "2025-07-17T12:34:11.946826Z",
     "start_time": "2025-07-17T12:34:11.926886Z"
    }
   },
   "cell_type": "code",
   "source": "df.isnull().sum()",
   "id": "d946d424bd16edb0",
   "outputs": [
    {
     "data": {
      "text/plain": [
       "MSSubClass                    0\n",
       "MSZoning                      0\n",
       "LotFrontage                   0\n",
       "LotArea                       0\n",
       "Street                        0\n",
       "                           ... \n",
       "SaleCondition                 0\n",
       "SalePrice                  1459\n",
       "source                        0\n",
       "MSZoning_binned               0\n",
       "LotFrontage_was_missing       0\n",
       "Length: 83, dtype: int64"
      ]
     },
     "execution_count": 794,
     "metadata": {},
     "output_type": "execute_result"
    }
   ],
   "execution_count": 794
  },
  {
   "metadata": {
    "ExecuteTime": {
     "end_time": "2025-07-17T12:34:12.136026Z",
     "start_time": "2025-07-17T12:34:12.127106Z"
    }
   },
   "cell_type": "code",
   "source": [
    "#now dealing with street\n",
    "#we can encode it\n",
    "df['Street_encoded'] = df['Street'].map({'Grvl': 0, 'Pave': 1})"
   ],
   "id": "e7fde3ec3aabd763",
   "outputs": [],
   "execution_count": 795
  },
  {
   "metadata": {
    "ExecuteTime": {
     "end_time": "2025-07-17T12:34:12.587489Z",
     "start_time": "2025-07-17T12:34:12.578975Z"
    }
   },
   "cell_type": "code",
   "source": [
    "#now handeling the alley similar approch as street just treat null values before that.\n",
    "df['Alley_filled'] = df['Alley'].fillna('NoAlley')\n"
   ],
   "id": "df9c2ed729b7cd6a",
   "outputs": [],
   "execution_count": 796
  },
  {
   "metadata": {
    "ExecuteTime": {
     "end_time": "2025-07-17T12:34:12.990361Z",
     "start_time": "2025-07-17T12:34:12.967982Z"
    }
   },
   "cell_type": "code",
   "source": [
    "df['Alley_encoded'] = df['Alley_filled'].map({'NoAlley': 0,'Grvl': 1,'Pave': 2})\n",
    "df.head()\n"
   ],
   "id": "f4aa0270269bc901",
   "outputs": [
    {
     "data": {
      "text/plain": [
       "   MSSubClass MSZoning  LotFrontage  LotArea Street Alley LotShape  \\\n",
       "0          60       RL         65.0     8450   Pave   NaN      Reg   \n",
       "1          20       RL         80.0     9600   Pave   NaN      Reg   \n",
       "2          60       RL         68.0    11250   Pave   NaN      IR1   \n",
       "3          70       RL         60.0     9550   Pave   NaN      IR1   \n",
       "4          60       RL         84.0    14260   Pave   NaN      IR1   \n",
       "\n",
       "  LandContour Utilities LotConfig  ... YrSold SaleType SaleCondition  \\\n",
       "0         Lvl    AllPub    Inside  ...   2008       WD        Normal   \n",
       "1         Lvl    AllPub       FR2  ...   2007       WD        Normal   \n",
       "2         Lvl    AllPub    Inside  ...   2008       WD        Normal   \n",
       "3         Lvl    AllPub    Corner  ...   2006       WD       Abnorml   \n",
       "4         Lvl    AllPub       FR2  ...   2008       WD        Normal   \n",
       "\n",
       "  SalePrice source MSZoning_binned  LotFrontage_was_missing  Street_encoded  \\\n",
       "0  208500.0  train    Medium_Value                        0               1   \n",
       "1  181500.0  train    Medium_Value                        0               1   \n",
       "2  223500.0  train    Medium_Value                        0               1   \n",
       "3  140000.0  train    Medium_Value                        0               1   \n",
       "4  250000.0  train    Medium_Value                        0               1   \n",
       "\n",
       "   Alley_filled  Alley_encoded  \n",
       "0       NoAlley              0  \n",
       "1       NoAlley              0  \n",
       "2       NoAlley              0  \n",
       "3       NoAlley              0  \n",
       "4       NoAlley              0  \n",
       "\n",
       "[5 rows x 86 columns]"
      ],
      "text/html": [
       "<div>\n",
       "<style scoped>\n",
       "    .dataframe tbody tr th:only-of-type {\n",
       "        vertical-align: middle;\n",
       "    }\n",
       "\n",
       "    .dataframe tbody tr th {\n",
       "        vertical-align: top;\n",
       "    }\n",
       "\n",
       "    .dataframe thead th {\n",
       "        text-align: right;\n",
       "    }\n",
       "</style>\n",
       "<table border=\"1\" class=\"dataframe\">\n",
       "  <thead>\n",
       "    <tr style=\"text-align: right;\">\n",
       "      <th></th>\n",
       "      <th>MSSubClass</th>\n",
       "      <th>MSZoning</th>\n",
       "      <th>LotFrontage</th>\n",
       "      <th>LotArea</th>\n",
       "      <th>Street</th>\n",
       "      <th>Alley</th>\n",
       "      <th>LotShape</th>\n",
       "      <th>LandContour</th>\n",
       "      <th>Utilities</th>\n",
       "      <th>LotConfig</th>\n",
       "      <th>...</th>\n",
       "      <th>YrSold</th>\n",
       "      <th>SaleType</th>\n",
       "      <th>SaleCondition</th>\n",
       "      <th>SalePrice</th>\n",
       "      <th>source</th>\n",
       "      <th>MSZoning_binned</th>\n",
       "      <th>LotFrontage_was_missing</th>\n",
       "      <th>Street_encoded</th>\n",
       "      <th>Alley_filled</th>\n",
       "      <th>Alley_encoded</th>\n",
       "    </tr>\n",
       "  </thead>\n",
       "  <tbody>\n",
       "    <tr>\n",
       "      <th>0</th>\n",
       "      <td>60</td>\n",
       "      <td>RL</td>\n",
       "      <td>65.0</td>\n",
       "      <td>8450</td>\n",
       "      <td>Pave</td>\n",
       "      <td>NaN</td>\n",
       "      <td>Reg</td>\n",
       "      <td>Lvl</td>\n",
       "      <td>AllPub</td>\n",
       "      <td>Inside</td>\n",
       "      <td>...</td>\n",
       "      <td>2008</td>\n",
       "      <td>WD</td>\n",
       "      <td>Normal</td>\n",
       "      <td>208500.0</td>\n",
       "      <td>train</td>\n",
       "      <td>Medium_Value</td>\n",
       "      <td>0</td>\n",
       "      <td>1</td>\n",
       "      <td>NoAlley</td>\n",
       "      <td>0</td>\n",
       "    </tr>\n",
       "    <tr>\n",
       "      <th>1</th>\n",
       "      <td>20</td>\n",
       "      <td>RL</td>\n",
       "      <td>80.0</td>\n",
       "      <td>9600</td>\n",
       "      <td>Pave</td>\n",
       "      <td>NaN</td>\n",
       "      <td>Reg</td>\n",
       "      <td>Lvl</td>\n",
       "      <td>AllPub</td>\n",
       "      <td>FR2</td>\n",
       "      <td>...</td>\n",
       "      <td>2007</td>\n",
       "      <td>WD</td>\n",
       "      <td>Normal</td>\n",
       "      <td>181500.0</td>\n",
       "      <td>train</td>\n",
       "      <td>Medium_Value</td>\n",
       "      <td>0</td>\n",
       "      <td>1</td>\n",
       "      <td>NoAlley</td>\n",
       "      <td>0</td>\n",
       "    </tr>\n",
       "    <tr>\n",
       "      <th>2</th>\n",
       "      <td>60</td>\n",
       "      <td>RL</td>\n",
       "      <td>68.0</td>\n",
       "      <td>11250</td>\n",
       "      <td>Pave</td>\n",
       "      <td>NaN</td>\n",
       "      <td>IR1</td>\n",
       "      <td>Lvl</td>\n",
       "      <td>AllPub</td>\n",
       "      <td>Inside</td>\n",
       "      <td>...</td>\n",
       "      <td>2008</td>\n",
       "      <td>WD</td>\n",
       "      <td>Normal</td>\n",
       "      <td>223500.0</td>\n",
       "      <td>train</td>\n",
       "      <td>Medium_Value</td>\n",
       "      <td>0</td>\n",
       "      <td>1</td>\n",
       "      <td>NoAlley</td>\n",
       "      <td>0</td>\n",
       "    </tr>\n",
       "    <tr>\n",
       "      <th>3</th>\n",
       "      <td>70</td>\n",
       "      <td>RL</td>\n",
       "      <td>60.0</td>\n",
       "      <td>9550</td>\n",
       "      <td>Pave</td>\n",
       "      <td>NaN</td>\n",
       "      <td>IR1</td>\n",
       "      <td>Lvl</td>\n",
       "      <td>AllPub</td>\n",
       "      <td>Corner</td>\n",
       "      <td>...</td>\n",
       "      <td>2006</td>\n",
       "      <td>WD</td>\n",
       "      <td>Abnorml</td>\n",
       "      <td>140000.0</td>\n",
       "      <td>train</td>\n",
       "      <td>Medium_Value</td>\n",
       "      <td>0</td>\n",
       "      <td>1</td>\n",
       "      <td>NoAlley</td>\n",
       "      <td>0</td>\n",
       "    </tr>\n",
       "    <tr>\n",
       "      <th>4</th>\n",
       "      <td>60</td>\n",
       "      <td>RL</td>\n",
       "      <td>84.0</td>\n",
       "      <td>14260</td>\n",
       "      <td>Pave</td>\n",
       "      <td>NaN</td>\n",
       "      <td>IR1</td>\n",
       "      <td>Lvl</td>\n",
       "      <td>AllPub</td>\n",
       "      <td>FR2</td>\n",
       "      <td>...</td>\n",
       "      <td>2008</td>\n",
       "      <td>WD</td>\n",
       "      <td>Normal</td>\n",
       "      <td>250000.0</td>\n",
       "      <td>train</td>\n",
       "      <td>Medium_Value</td>\n",
       "      <td>0</td>\n",
       "      <td>1</td>\n",
       "      <td>NoAlley</td>\n",
       "      <td>0</td>\n",
       "    </tr>\n",
       "  </tbody>\n",
       "</table>\n",
       "<p>5 rows × 86 columns</p>\n",
       "</div>"
      ]
     },
     "execution_count": 797,
     "metadata": {},
     "output_type": "execute_result"
    }
   ],
   "execution_count": 797
  },
  {
   "metadata": {
    "ExecuteTime": {
     "end_time": "2025-07-17T12:34:13.092953Z",
     "start_time": "2025-07-17T12:34:13.076036Z"
    }
   },
   "cell_type": "code",
   "source": "df.isnull().sum()\n",
   "id": "d440d45ba91dbac3",
   "outputs": [
    {
     "data": {
      "text/plain": [
       "MSSubClass                 0\n",
       "MSZoning                   0\n",
       "LotFrontage                0\n",
       "LotArea                    0\n",
       "Street                     0\n",
       "                          ..\n",
       "MSZoning_binned            0\n",
       "LotFrontage_was_missing    0\n",
       "Street_encoded             0\n",
       "Alley_filled               0\n",
       "Alley_encoded              0\n",
       "Length: 86, dtype: int64"
      ]
     },
     "execution_count": 798,
     "metadata": {},
     "output_type": "execute_result"
    }
   ],
   "execution_count": 798
  },
  {
   "metadata": {
    "ExecuteTime": {
     "end_time": "2025-07-17T12:34:13.220621Z",
     "start_time": "2025-07-17T12:34:13.207697Z"
    }
   },
   "cell_type": "code",
   "source": [
    "#now dealing with lot shape\n",
    "lotshape_map = {\n",
    "    'Reg': 3,\n",
    "    'IR1': 2,\n",
    "    'IR2': 1,\n",
    "    'IR3': 0\n",
    "}\n",
    "\n",
    "df['LotShape_encoded'] = df['LotShape'].map(lotshape_map)\n"
   ],
   "id": "4d7d3bddff18fc76",
   "outputs": [],
   "execution_count": 799
  },
  {
   "metadata": {
    "ExecuteTime": {
     "end_time": "2025-07-17T12:34:13.683366Z",
     "start_time": "2025-07-17T12:34:13.663385Z"
    }
   },
   "cell_type": "code",
   "source": [
    "lotconfig_dummies = pd.get_dummies(df['LotConfig'], prefix='LotConfig')\n",
    "df = pd.concat([df, lotconfig_dummies], axis=1)\n"
   ],
   "id": "423fd500f6194e36",
   "outputs": [],
   "execution_count": 800
  },
  {
   "metadata": {
    "ExecuteTime": {
     "end_time": "2025-07-17T12:34:14.018632Z",
     "start_time": "2025-07-17T12:34:13.996884Z"
    }
   },
   "cell_type": "code",
   "source": "df.head()",
   "id": "5c4847c47118b19a",
   "outputs": [
    {
     "data": {
      "text/plain": [
       "   MSSubClass MSZoning  LotFrontage  LotArea Street Alley LotShape  \\\n",
       "0          60       RL         65.0     8450   Pave   NaN      Reg   \n",
       "1          20       RL         80.0     9600   Pave   NaN      Reg   \n",
       "2          60       RL         68.0    11250   Pave   NaN      IR1   \n",
       "3          70       RL         60.0     9550   Pave   NaN      IR1   \n",
       "4          60       RL         84.0    14260   Pave   NaN      IR1   \n",
       "\n",
       "  LandContour Utilities LotConfig  ... LotFrontage_was_missing Street_encoded  \\\n",
       "0         Lvl    AllPub    Inside  ...                       0              1   \n",
       "1         Lvl    AllPub       FR2  ...                       0              1   \n",
       "2         Lvl    AllPub    Inside  ...                       0              1   \n",
       "3         Lvl    AllPub    Corner  ...                       0              1   \n",
       "4         Lvl    AllPub       FR2  ...                       0              1   \n",
       "\n",
       "  Alley_filled Alley_encoded LotShape_encoded LotConfig_Corner  \\\n",
       "0      NoAlley             0                3            False   \n",
       "1      NoAlley             0                3            False   \n",
       "2      NoAlley             0                2            False   \n",
       "3      NoAlley             0                2             True   \n",
       "4      NoAlley             0                2            False   \n",
       "\n",
       "   LotConfig_CulDSac  LotConfig_FR2  LotConfig_FR3  LotConfig_Inside  \n",
       "0              False          False          False              True  \n",
       "1              False           True          False             False  \n",
       "2              False          False          False              True  \n",
       "3              False          False          False             False  \n",
       "4              False           True          False             False  \n",
       "\n",
       "[5 rows x 92 columns]"
      ],
      "text/html": [
       "<div>\n",
       "<style scoped>\n",
       "    .dataframe tbody tr th:only-of-type {\n",
       "        vertical-align: middle;\n",
       "    }\n",
       "\n",
       "    .dataframe tbody tr th {\n",
       "        vertical-align: top;\n",
       "    }\n",
       "\n",
       "    .dataframe thead th {\n",
       "        text-align: right;\n",
       "    }\n",
       "</style>\n",
       "<table border=\"1\" class=\"dataframe\">\n",
       "  <thead>\n",
       "    <tr style=\"text-align: right;\">\n",
       "      <th></th>\n",
       "      <th>MSSubClass</th>\n",
       "      <th>MSZoning</th>\n",
       "      <th>LotFrontage</th>\n",
       "      <th>LotArea</th>\n",
       "      <th>Street</th>\n",
       "      <th>Alley</th>\n",
       "      <th>LotShape</th>\n",
       "      <th>LandContour</th>\n",
       "      <th>Utilities</th>\n",
       "      <th>LotConfig</th>\n",
       "      <th>...</th>\n",
       "      <th>LotFrontage_was_missing</th>\n",
       "      <th>Street_encoded</th>\n",
       "      <th>Alley_filled</th>\n",
       "      <th>Alley_encoded</th>\n",
       "      <th>LotShape_encoded</th>\n",
       "      <th>LotConfig_Corner</th>\n",
       "      <th>LotConfig_CulDSac</th>\n",
       "      <th>LotConfig_FR2</th>\n",
       "      <th>LotConfig_FR3</th>\n",
       "      <th>LotConfig_Inside</th>\n",
       "    </tr>\n",
       "  </thead>\n",
       "  <tbody>\n",
       "    <tr>\n",
       "      <th>0</th>\n",
       "      <td>60</td>\n",
       "      <td>RL</td>\n",
       "      <td>65.0</td>\n",
       "      <td>8450</td>\n",
       "      <td>Pave</td>\n",
       "      <td>NaN</td>\n",
       "      <td>Reg</td>\n",
       "      <td>Lvl</td>\n",
       "      <td>AllPub</td>\n",
       "      <td>Inside</td>\n",
       "      <td>...</td>\n",
       "      <td>0</td>\n",
       "      <td>1</td>\n",
       "      <td>NoAlley</td>\n",
       "      <td>0</td>\n",
       "      <td>3</td>\n",
       "      <td>False</td>\n",
       "      <td>False</td>\n",
       "      <td>False</td>\n",
       "      <td>False</td>\n",
       "      <td>True</td>\n",
       "    </tr>\n",
       "    <tr>\n",
       "      <th>1</th>\n",
       "      <td>20</td>\n",
       "      <td>RL</td>\n",
       "      <td>80.0</td>\n",
       "      <td>9600</td>\n",
       "      <td>Pave</td>\n",
       "      <td>NaN</td>\n",
       "      <td>Reg</td>\n",
       "      <td>Lvl</td>\n",
       "      <td>AllPub</td>\n",
       "      <td>FR2</td>\n",
       "      <td>...</td>\n",
       "      <td>0</td>\n",
       "      <td>1</td>\n",
       "      <td>NoAlley</td>\n",
       "      <td>0</td>\n",
       "      <td>3</td>\n",
       "      <td>False</td>\n",
       "      <td>False</td>\n",
       "      <td>True</td>\n",
       "      <td>False</td>\n",
       "      <td>False</td>\n",
       "    </tr>\n",
       "    <tr>\n",
       "      <th>2</th>\n",
       "      <td>60</td>\n",
       "      <td>RL</td>\n",
       "      <td>68.0</td>\n",
       "      <td>11250</td>\n",
       "      <td>Pave</td>\n",
       "      <td>NaN</td>\n",
       "      <td>IR1</td>\n",
       "      <td>Lvl</td>\n",
       "      <td>AllPub</td>\n",
       "      <td>Inside</td>\n",
       "      <td>...</td>\n",
       "      <td>0</td>\n",
       "      <td>1</td>\n",
       "      <td>NoAlley</td>\n",
       "      <td>0</td>\n",
       "      <td>2</td>\n",
       "      <td>False</td>\n",
       "      <td>False</td>\n",
       "      <td>False</td>\n",
       "      <td>False</td>\n",
       "      <td>True</td>\n",
       "    </tr>\n",
       "    <tr>\n",
       "      <th>3</th>\n",
       "      <td>70</td>\n",
       "      <td>RL</td>\n",
       "      <td>60.0</td>\n",
       "      <td>9550</td>\n",
       "      <td>Pave</td>\n",
       "      <td>NaN</td>\n",
       "      <td>IR1</td>\n",
       "      <td>Lvl</td>\n",
       "      <td>AllPub</td>\n",
       "      <td>Corner</td>\n",
       "      <td>...</td>\n",
       "      <td>0</td>\n",
       "      <td>1</td>\n",
       "      <td>NoAlley</td>\n",
       "      <td>0</td>\n",
       "      <td>2</td>\n",
       "      <td>True</td>\n",
       "      <td>False</td>\n",
       "      <td>False</td>\n",
       "      <td>False</td>\n",
       "      <td>False</td>\n",
       "    </tr>\n",
       "    <tr>\n",
       "      <th>4</th>\n",
       "      <td>60</td>\n",
       "      <td>RL</td>\n",
       "      <td>84.0</td>\n",
       "      <td>14260</td>\n",
       "      <td>Pave</td>\n",
       "      <td>NaN</td>\n",
       "      <td>IR1</td>\n",
       "      <td>Lvl</td>\n",
       "      <td>AllPub</td>\n",
       "      <td>FR2</td>\n",
       "      <td>...</td>\n",
       "      <td>0</td>\n",
       "      <td>1</td>\n",
       "      <td>NoAlley</td>\n",
       "      <td>0</td>\n",
       "      <td>2</td>\n",
       "      <td>False</td>\n",
       "      <td>False</td>\n",
       "      <td>True</td>\n",
       "      <td>False</td>\n",
       "      <td>False</td>\n",
       "    </tr>\n",
       "  </tbody>\n",
       "</table>\n",
       "<p>5 rows × 92 columns</p>\n",
       "</div>"
      ]
     },
     "execution_count": 801,
     "metadata": {},
     "output_type": "execute_result"
    }
   ],
   "execution_count": 801
  },
  {
   "metadata": {
    "ExecuteTime": {
     "end_time": "2025-07-17T12:34:14.117105Z",
     "start_time": "2025-07-17T12:34:14.104699Z"
    }
   },
   "cell_type": "code",
   "source": [
    "#First Binning LandContour\n",
    "def bin_land_contour(val):\n",
    "    if val == 'Lvl':\n",
    "        return 'Flat'\n",
    "    elif val in ['Bnk', 'HLS']:\n",
    "        return 'Slight_Slope'\n",
    "    elif val == 'Low':\n",
    "        return 'Depressed'\n",
    "    else:\n",
    "        return 'Unknown'  # fallback (just in case)\n",
    "\n",
    "df['LandContour_binned'] = df['LandContour'].apply(bin_land_contour)\n"
   ],
   "id": "7765645066144d01",
   "outputs": [],
   "execution_count": 802
  },
  {
   "metadata": {
    "ExecuteTime": {
     "end_time": "2025-07-17T12:34:14.183846Z",
     "start_time": "2025-07-17T12:34:14.173985Z"
    }
   },
   "cell_type": "code",
   "source": [
    "#now label encode as there is a clear better option\n",
    "land_contour_map = {'Flat': 2, 'Slight_Slope': 1, 'Depressed': 0}\n",
    "df['LandContour_encoded'] = df['LandContour_binned'].map(land_contour_map)"
   ],
   "id": "6b570c2329c8daac",
   "outputs": [],
   "execution_count": 803
  },
  {
   "metadata": {
    "ExecuteTime": {
     "end_time": "2025-07-17T12:34:14.681607Z",
     "start_time": "2025-07-17T12:34:14.651330Z"
    }
   },
   "cell_type": "code",
   "source": "df.head()",
   "id": "bb2c7931b077b651",
   "outputs": [
    {
     "data": {
      "text/plain": [
       "   MSSubClass MSZoning  LotFrontage  LotArea Street Alley LotShape  \\\n",
       "0          60       RL         65.0     8450   Pave   NaN      Reg   \n",
       "1          20       RL         80.0     9600   Pave   NaN      Reg   \n",
       "2          60       RL         68.0    11250   Pave   NaN      IR1   \n",
       "3          70       RL         60.0     9550   Pave   NaN      IR1   \n",
       "4          60       RL         84.0    14260   Pave   NaN      IR1   \n",
       "\n",
       "  LandContour Utilities LotConfig  ... Alley_filled Alley_encoded  \\\n",
       "0         Lvl    AllPub    Inside  ...      NoAlley             0   \n",
       "1         Lvl    AllPub       FR2  ...      NoAlley             0   \n",
       "2         Lvl    AllPub    Inside  ...      NoAlley             0   \n",
       "3         Lvl    AllPub    Corner  ...      NoAlley             0   \n",
       "4         Lvl    AllPub       FR2  ...      NoAlley             0   \n",
       "\n",
       "  LotShape_encoded LotConfig_Corner LotConfig_CulDSac LotConfig_FR2  \\\n",
       "0                3            False             False         False   \n",
       "1                3            False             False          True   \n",
       "2                2            False             False         False   \n",
       "3                2             True             False         False   \n",
       "4                2            False             False          True   \n",
       "\n",
       "   LotConfig_FR3  LotConfig_Inside  LandContour_binned  LandContour_encoded  \n",
       "0          False              True                Flat                    2  \n",
       "1          False             False                Flat                    2  \n",
       "2          False              True                Flat                    2  \n",
       "3          False             False                Flat                    2  \n",
       "4          False             False                Flat                    2  \n",
       "\n",
       "[5 rows x 94 columns]"
      ],
      "text/html": [
       "<div>\n",
       "<style scoped>\n",
       "    .dataframe tbody tr th:only-of-type {\n",
       "        vertical-align: middle;\n",
       "    }\n",
       "\n",
       "    .dataframe tbody tr th {\n",
       "        vertical-align: top;\n",
       "    }\n",
       "\n",
       "    .dataframe thead th {\n",
       "        text-align: right;\n",
       "    }\n",
       "</style>\n",
       "<table border=\"1\" class=\"dataframe\">\n",
       "  <thead>\n",
       "    <tr style=\"text-align: right;\">\n",
       "      <th></th>\n",
       "      <th>MSSubClass</th>\n",
       "      <th>MSZoning</th>\n",
       "      <th>LotFrontage</th>\n",
       "      <th>LotArea</th>\n",
       "      <th>Street</th>\n",
       "      <th>Alley</th>\n",
       "      <th>LotShape</th>\n",
       "      <th>LandContour</th>\n",
       "      <th>Utilities</th>\n",
       "      <th>LotConfig</th>\n",
       "      <th>...</th>\n",
       "      <th>Alley_filled</th>\n",
       "      <th>Alley_encoded</th>\n",
       "      <th>LotShape_encoded</th>\n",
       "      <th>LotConfig_Corner</th>\n",
       "      <th>LotConfig_CulDSac</th>\n",
       "      <th>LotConfig_FR2</th>\n",
       "      <th>LotConfig_FR3</th>\n",
       "      <th>LotConfig_Inside</th>\n",
       "      <th>LandContour_binned</th>\n",
       "      <th>LandContour_encoded</th>\n",
       "    </tr>\n",
       "  </thead>\n",
       "  <tbody>\n",
       "    <tr>\n",
       "      <th>0</th>\n",
       "      <td>60</td>\n",
       "      <td>RL</td>\n",
       "      <td>65.0</td>\n",
       "      <td>8450</td>\n",
       "      <td>Pave</td>\n",
       "      <td>NaN</td>\n",
       "      <td>Reg</td>\n",
       "      <td>Lvl</td>\n",
       "      <td>AllPub</td>\n",
       "      <td>Inside</td>\n",
       "      <td>...</td>\n",
       "      <td>NoAlley</td>\n",
       "      <td>0</td>\n",
       "      <td>3</td>\n",
       "      <td>False</td>\n",
       "      <td>False</td>\n",
       "      <td>False</td>\n",
       "      <td>False</td>\n",
       "      <td>True</td>\n",
       "      <td>Flat</td>\n",
       "      <td>2</td>\n",
       "    </tr>\n",
       "    <tr>\n",
       "      <th>1</th>\n",
       "      <td>20</td>\n",
       "      <td>RL</td>\n",
       "      <td>80.0</td>\n",
       "      <td>9600</td>\n",
       "      <td>Pave</td>\n",
       "      <td>NaN</td>\n",
       "      <td>Reg</td>\n",
       "      <td>Lvl</td>\n",
       "      <td>AllPub</td>\n",
       "      <td>FR2</td>\n",
       "      <td>...</td>\n",
       "      <td>NoAlley</td>\n",
       "      <td>0</td>\n",
       "      <td>3</td>\n",
       "      <td>False</td>\n",
       "      <td>False</td>\n",
       "      <td>True</td>\n",
       "      <td>False</td>\n",
       "      <td>False</td>\n",
       "      <td>Flat</td>\n",
       "      <td>2</td>\n",
       "    </tr>\n",
       "    <tr>\n",
       "      <th>2</th>\n",
       "      <td>60</td>\n",
       "      <td>RL</td>\n",
       "      <td>68.0</td>\n",
       "      <td>11250</td>\n",
       "      <td>Pave</td>\n",
       "      <td>NaN</td>\n",
       "      <td>IR1</td>\n",
       "      <td>Lvl</td>\n",
       "      <td>AllPub</td>\n",
       "      <td>Inside</td>\n",
       "      <td>...</td>\n",
       "      <td>NoAlley</td>\n",
       "      <td>0</td>\n",
       "      <td>2</td>\n",
       "      <td>False</td>\n",
       "      <td>False</td>\n",
       "      <td>False</td>\n",
       "      <td>False</td>\n",
       "      <td>True</td>\n",
       "      <td>Flat</td>\n",
       "      <td>2</td>\n",
       "    </tr>\n",
       "    <tr>\n",
       "      <th>3</th>\n",
       "      <td>70</td>\n",
       "      <td>RL</td>\n",
       "      <td>60.0</td>\n",
       "      <td>9550</td>\n",
       "      <td>Pave</td>\n",
       "      <td>NaN</td>\n",
       "      <td>IR1</td>\n",
       "      <td>Lvl</td>\n",
       "      <td>AllPub</td>\n",
       "      <td>Corner</td>\n",
       "      <td>...</td>\n",
       "      <td>NoAlley</td>\n",
       "      <td>0</td>\n",
       "      <td>2</td>\n",
       "      <td>True</td>\n",
       "      <td>False</td>\n",
       "      <td>False</td>\n",
       "      <td>False</td>\n",
       "      <td>False</td>\n",
       "      <td>Flat</td>\n",
       "      <td>2</td>\n",
       "    </tr>\n",
       "    <tr>\n",
       "      <th>4</th>\n",
       "      <td>60</td>\n",
       "      <td>RL</td>\n",
       "      <td>84.0</td>\n",
       "      <td>14260</td>\n",
       "      <td>Pave</td>\n",
       "      <td>NaN</td>\n",
       "      <td>IR1</td>\n",
       "      <td>Lvl</td>\n",
       "      <td>AllPub</td>\n",
       "      <td>FR2</td>\n",
       "      <td>...</td>\n",
       "      <td>NoAlley</td>\n",
       "      <td>0</td>\n",
       "      <td>2</td>\n",
       "      <td>False</td>\n",
       "      <td>False</td>\n",
       "      <td>True</td>\n",
       "      <td>False</td>\n",
       "      <td>False</td>\n",
       "      <td>Flat</td>\n",
       "      <td>2</td>\n",
       "    </tr>\n",
       "  </tbody>\n",
       "</table>\n",
       "<p>5 rows × 94 columns</p>\n",
       "</div>"
      ]
     },
     "execution_count": 804,
     "metadata": {},
     "output_type": "execute_result"
    }
   ],
   "execution_count": 804
  },
  {
   "metadata": {
    "ExecuteTime": {
     "end_time": "2025-07-17T12:34:15.075984Z",
     "start_time": "2025-07-17T12:34:15.066967Z"
    }
   },
   "cell_type": "code",
   "source": "df['Utilities'].isnull().sum()",
   "id": "4292bbcf7127f75f",
   "outputs": [
    {
     "data": {
      "text/plain": [
       "2"
      ]
     },
     "execution_count": 805,
     "metadata": {},
     "output_type": "execute_result"
    }
   ],
   "execution_count": 805
  },
  {
   "metadata": {
    "ExecuteTime": {
     "end_time": "2025-07-17T12:34:15.717209Z",
     "start_time": "2025-07-17T12:34:15.708246Z"
    }
   },
   "cell_type": "code",
   "source": "df['Utilities'].value_counts()",
   "id": "dc21804fe5c2b296",
   "outputs": [
    {
     "data": {
      "text/plain": [
       "Utilities\n",
       "AllPub    2916\n",
       "NoSeWa       1\n",
       "Name: count, dtype: int64"
      ]
     },
     "execution_count": 806,
     "metadata": {},
     "output_type": "execute_result"
    }
   ],
   "execution_count": 806
  },
  {
   "metadata": {
    "ExecuteTime": {
     "end_time": "2025-07-17T12:34:16.110442Z",
     "start_time": "2025-07-17T12:34:16.104077Z"
    }
   },
   "cell_type": "code",
   "source": "#from the above we can see that almost all the houses have all the utilities so there is less use keeping this field so we drop it.",
   "id": "d45539f39301857d",
   "outputs": [],
   "execution_count": 807
  },
  {
   "metadata": {
    "ExecuteTime": {
     "end_time": "2025-07-17T12:34:16.335350Z",
     "start_time": "2025-07-17T12:34:16.328200Z"
    }
   },
   "cell_type": "code",
   "source": "df['LandSlope'].isnull().sum()",
   "id": "fdb0f20fb24dd19d",
   "outputs": [
    {
     "data": {
      "text/plain": [
       "0"
      ]
     },
     "execution_count": 808,
     "metadata": {},
     "output_type": "execute_result"
    }
   ],
   "execution_count": 808
  },
  {
   "metadata": {
    "ExecuteTime": {
     "end_time": "2025-07-17T12:34:16.450632Z",
     "start_time": "2025-07-17T12:34:16.441132Z"
    }
   },
   "cell_type": "code",
   "source": "df['LandSlope'].value_counts()",
   "id": "9f1e3f792c1aa6f2",
   "outputs": [
    {
     "data": {
      "text/plain": [
       "LandSlope\n",
       "Gtl    2778\n",
       "Mod     125\n",
       "Sev      16\n",
       "Name: count, dtype: int64"
      ]
     },
     "execution_count": 809,
     "metadata": {},
     "output_type": "execute_result"
    }
   ],
   "execution_count": 809
  },
  {
   "metadata": {
    "ExecuteTime": {
     "end_time": "2025-07-17T12:34:16.617512Z",
     "start_time": "2025-07-17T12:34:16.609143Z"
    }
   },
   "cell_type": "code",
   "source": [
    "LandSlope_map = {'Gtl': 0, 'Mod': 1, 'Sev': 2}\n",
    "df['LandSlope_encoded'] = df['LandSlope'].map(LandSlope_map)"
   ],
   "id": "fb6cda04c97dd2e4",
   "outputs": [],
   "execution_count": 810
  },
  {
   "metadata": {
    "ExecuteTime": {
     "end_time": "2025-07-17T12:34:19.031697Z",
     "start_time": "2025-07-17T12:34:19.025200Z"
    }
   },
   "cell_type": "code",
   "source": "print(df['LandSlope'].unique())\n",
   "id": "8d9a0530883594ac",
   "outputs": [
    {
     "name": "stdout",
     "output_type": "stream",
     "text": [
      "['Gtl' 'Mod' 'Sev']\n"
     ]
    }
   ],
   "execution_count": 811
  },
  {
   "metadata": {
    "ExecuteTime": {
     "end_time": "2025-07-17T12:34:19.105055Z",
     "start_time": "2025-07-17T12:34:19.095942Z"
    }
   },
   "cell_type": "code",
   "source": [
    "#now the important one neighborhood\n",
    "#we do similar to MSZoning where we bin based on saleprice\n",
    "price_by_neighborhood = df.groupby('Neighborhood')['SalePrice'].mean().sort_values()\n",
    "print(price_by_neighborhood)"
   ],
   "id": "8fb6183f0727deec",
   "outputs": [
    {
     "name": "stdout",
     "output_type": "stream",
     "text": [
      "Neighborhood\n",
      "MeadowV     98576.470588\n",
      "IDOTRR     100123.783784\n",
      "BrDale     104493.750000\n",
      "BrkSide    124834.051724\n",
      "Edwards    128219.700000\n",
      "OldTown    128225.300885\n",
      "Sawyer     136793.135135\n",
      "Blueste    137500.000000\n",
      "SWISU      142591.360000\n",
      "NPkVill    142694.444444\n",
      "NAmes      145847.080000\n",
      "Mitchel    156270.122449\n",
      "SawyerW    186555.796610\n",
      "NWAmes     189050.068493\n",
      "Gilbert    192854.506329\n",
      "Blmngtn    194870.882353\n",
      "CollgCr    197965.773333\n",
      "Crawfor    210624.725490\n",
      "ClearCr    212565.428571\n",
      "Somerst    225379.837209\n",
      "Veenker    238772.727273\n",
      "Timber     242247.447368\n",
      "StoneBr    310499.000000\n",
      "NridgHt    316270.623377\n",
      "NoRidge    335295.317073\n",
      "Name: SalePrice, dtype: float64\n"
     ]
    }
   ],
   "execution_count": 812
  },
  {
   "metadata": {
    "ExecuteTime": {
     "end_time": "2025-07-17T12:34:19.264196Z",
     "start_time": "2025-07-17T12:34:19.248122Z"
    }
   },
   "cell_type": "code",
   "source": [
    "#Binning plus label encoding\n",
    "\n",
    "neighborhood_map = {\n",
    "    # Low Income\n",
    "    'MeadowV': 'Low_Income',\n",
    "    'IDOTRR': 'Low_Income',\n",
    "    'BrDale': 'Low_Income',\n",
    "    'BrkSide': 'Low_Income',\n",
    "    'Edwards': 'Low_Income',\n",
    "    'OldTown': 'Low_Income',\n",
    "\n",
    "    # Mid Income\n",
    "    'Sawyer': 'Mid_Income',\n",
    "    'Blueste': 'Mid_Income',\n",
    "    'SWISU': 'Mid_Income',\n",
    "    'NPkVill': 'Mid_Income',\n",
    "    'NAmes': 'Mid_Income',\n",
    "    'Mitchel': 'Mid_Income',\n",
    "\n",
    "    # High Income\n",
    "    'SawyerW': 'High_Income',\n",
    "    'NWAmes': 'High_Income',\n",
    "    'Gilbert': 'High_Income',\n",
    "    'Blmngtn': 'High_Income',\n",
    "    'CollgCr': 'High_Income',\n",
    "    'Crawfor': 'High_Income',\n",
    "    'ClearCr': 'High_Income',\n",
    "    'Somerst': 'High_Income',\n",
    "\n",
    "    # Elite Income\n",
    "    'Veenker': 'Elite_Income',\n",
    "    'Timber': 'Elite_Income',\n",
    "    'StoneBr': 'Elite_Income',\n",
    "    'NridgHt': 'Elite_Income',\n",
    "    'NoRidge': 'Elite_Income'\n",
    "}\n",
    "\n",
    "df['Neighborhood_binned'] = df['Neighborhood'].map(neighborhood_map)\n",
    "\n",
    "# Now label encode\n",
    "income_map = {\n",
    "    'Low_Income': 0,\n",
    "    'Mid_Income': 1,\n",
    "    'High_Income': 2,\n",
    "    'Elite_Income': 3\n",
    "}\n",
    "df['Neighborhood_encoded'] = df['Neighborhood_binned'].map(income_map)\n"
   ],
   "id": "30549027469ac9dc",
   "outputs": [],
   "execution_count": 813
  },
  {
   "metadata": {
    "ExecuteTime": {
     "end_time": "2025-07-17T12:34:19.435441Z",
     "start_time": "2025-07-17T12:34:19.408953Z"
    }
   },
   "cell_type": "code",
   "source": "df.head()",
   "id": "be4021462883459e",
   "outputs": [
    {
     "data": {
      "text/plain": [
       "   MSSubClass MSZoning  LotFrontage  LotArea Street Alley LotShape  \\\n",
       "0          60       RL         65.0     8450   Pave   NaN      Reg   \n",
       "1          20       RL         80.0     9600   Pave   NaN      Reg   \n",
       "2          60       RL         68.0    11250   Pave   NaN      IR1   \n",
       "3          70       RL         60.0     9550   Pave   NaN      IR1   \n",
       "4          60       RL         84.0    14260   Pave   NaN      IR1   \n",
       "\n",
       "  LandContour Utilities LotConfig  ... LotConfig_Corner LotConfig_CulDSac  \\\n",
       "0         Lvl    AllPub    Inside  ...            False             False   \n",
       "1         Lvl    AllPub       FR2  ...            False             False   \n",
       "2         Lvl    AllPub    Inside  ...            False             False   \n",
       "3         Lvl    AllPub    Corner  ...             True             False   \n",
       "4         Lvl    AllPub       FR2  ...            False             False   \n",
       "\n",
       "  LotConfig_FR2 LotConfig_FR3 LotConfig_Inside LandContour_binned  \\\n",
       "0         False         False             True               Flat   \n",
       "1          True         False            False               Flat   \n",
       "2         False         False             True               Flat   \n",
       "3         False         False            False               Flat   \n",
       "4          True         False            False               Flat   \n",
       "\n",
       "   LandContour_encoded  LandSlope_encoded  Neighborhood_binned  \\\n",
       "0                    2                  0          High_Income   \n",
       "1                    2                  0         Elite_Income   \n",
       "2                    2                  0          High_Income   \n",
       "3                    2                  0          High_Income   \n",
       "4                    2                  0         Elite_Income   \n",
       "\n",
       "   Neighborhood_encoded  \n",
       "0                     2  \n",
       "1                     3  \n",
       "2                     2  \n",
       "3                     2  \n",
       "4                     3  \n",
       "\n",
       "[5 rows x 97 columns]"
      ],
      "text/html": [
       "<div>\n",
       "<style scoped>\n",
       "    .dataframe tbody tr th:only-of-type {\n",
       "        vertical-align: middle;\n",
       "    }\n",
       "\n",
       "    .dataframe tbody tr th {\n",
       "        vertical-align: top;\n",
       "    }\n",
       "\n",
       "    .dataframe thead th {\n",
       "        text-align: right;\n",
       "    }\n",
       "</style>\n",
       "<table border=\"1\" class=\"dataframe\">\n",
       "  <thead>\n",
       "    <tr style=\"text-align: right;\">\n",
       "      <th></th>\n",
       "      <th>MSSubClass</th>\n",
       "      <th>MSZoning</th>\n",
       "      <th>LotFrontage</th>\n",
       "      <th>LotArea</th>\n",
       "      <th>Street</th>\n",
       "      <th>Alley</th>\n",
       "      <th>LotShape</th>\n",
       "      <th>LandContour</th>\n",
       "      <th>Utilities</th>\n",
       "      <th>LotConfig</th>\n",
       "      <th>...</th>\n",
       "      <th>LotConfig_Corner</th>\n",
       "      <th>LotConfig_CulDSac</th>\n",
       "      <th>LotConfig_FR2</th>\n",
       "      <th>LotConfig_FR3</th>\n",
       "      <th>LotConfig_Inside</th>\n",
       "      <th>LandContour_binned</th>\n",
       "      <th>LandContour_encoded</th>\n",
       "      <th>LandSlope_encoded</th>\n",
       "      <th>Neighborhood_binned</th>\n",
       "      <th>Neighborhood_encoded</th>\n",
       "    </tr>\n",
       "  </thead>\n",
       "  <tbody>\n",
       "    <tr>\n",
       "      <th>0</th>\n",
       "      <td>60</td>\n",
       "      <td>RL</td>\n",
       "      <td>65.0</td>\n",
       "      <td>8450</td>\n",
       "      <td>Pave</td>\n",
       "      <td>NaN</td>\n",
       "      <td>Reg</td>\n",
       "      <td>Lvl</td>\n",
       "      <td>AllPub</td>\n",
       "      <td>Inside</td>\n",
       "      <td>...</td>\n",
       "      <td>False</td>\n",
       "      <td>False</td>\n",
       "      <td>False</td>\n",
       "      <td>False</td>\n",
       "      <td>True</td>\n",
       "      <td>Flat</td>\n",
       "      <td>2</td>\n",
       "      <td>0</td>\n",
       "      <td>High_Income</td>\n",
       "      <td>2</td>\n",
       "    </tr>\n",
       "    <tr>\n",
       "      <th>1</th>\n",
       "      <td>20</td>\n",
       "      <td>RL</td>\n",
       "      <td>80.0</td>\n",
       "      <td>9600</td>\n",
       "      <td>Pave</td>\n",
       "      <td>NaN</td>\n",
       "      <td>Reg</td>\n",
       "      <td>Lvl</td>\n",
       "      <td>AllPub</td>\n",
       "      <td>FR2</td>\n",
       "      <td>...</td>\n",
       "      <td>False</td>\n",
       "      <td>False</td>\n",
       "      <td>True</td>\n",
       "      <td>False</td>\n",
       "      <td>False</td>\n",
       "      <td>Flat</td>\n",
       "      <td>2</td>\n",
       "      <td>0</td>\n",
       "      <td>Elite_Income</td>\n",
       "      <td>3</td>\n",
       "    </tr>\n",
       "    <tr>\n",
       "      <th>2</th>\n",
       "      <td>60</td>\n",
       "      <td>RL</td>\n",
       "      <td>68.0</td>\n",
       "      <td>11250</td>\n",
       "      <td>Pave</td>\n",
       "      <td>NaN</td>\n",
       "      <td>IR1</td>\n",
       "      <td>Lvl</td>\n",
       "      <td>AllPub</td>\n",
       "      <td>Inside</td>\n",
       "      <td>...</td>\n",
       "      <td>False</td>\n",
       "      <td>False</td>\n",
       "      <td>False</td>\n",
       "      <td>False</td>\n",
       "      <td>True</td>\n",
       "      <td>Flat</td>\n",
       "      <td>2</td>\n",
       "      <td>0</td>\n",
       "      <td>High_Income</td>\n",
       "      <td>2</td>\n",
       "    </tr>\n",
       "    <tr>\n",
       "      <th>3</th>\n",
       "      <td>70</td>\n",
       "      <td>RL</td>\n",
       "      <td>60.0</td>\n",
       "      <td>9550</td>\n",
       "      <td>Pave</td>\n",
       "      <td>NaN</td>\n",
       "      <td>IR1</td>\n",
       "      <td>Lvl</td>\n",
       "      <td>AllPub</td>\n",
       "      <td>Corner</td>\n",
       "      <td>...</td>\n",
       "      <td>True</td>\n",
       "      <td>False</td>\n",
       "      <td>False</td>\n",
       "      <td>False</td>\n",
       "      <td>False</td>\n",
       "      <td>Flat</td>\n",
       "      <td>2</td>\n",
       "      <td>0</td>\n",
       "      <td>High_Income</td>\n",
       "      <td>2</td>\n",
       "    </tr>\n",
       "    <tr>\n",
       "      <th>4</th>\n",
       "      <td>60</td>\n",
       "      <td>RL</td>\n",
       "      <td>84.0</td>\n",
       "      <td>14260</td>\n",
       "      <td>Pave</td>\n",
       "      <td>NaN</td>\n",
       "      <td>IR1</td>\n",
       "      <td>Lvl</td>\n",
       "      <td>AllPub</td>\n",
       "      <td>FR2</td>\n",
       "      <td>...</td>\n",
       "      <td>False</td>\n",
       "      <td>False</td>\n",
       "      <td>True</td>\n",
       "      <td>False</td>\n",
       "      <td>False</td>\n",
       "      <td>Flat</td>\n",
       "      <td>2</td>\n",
       "      <td>0</td>\n",
       "      <td>Elite_Income</td>\n",
       "      <td>3</td>\n",
       "    </tr>\n",
       "  </tbody>\n",
       "</table>\n",
       "<p>5 rows × 97 columns</p>\n",
       "</div>"
      ]
     },
     "execution_count": 814,
     "metadata": {},
     "output_type": "execute_result"
    }
   ],
   "execution_count": 814
  },
  {
   "metadata": {
    "ExecuteTime": {
     "end_time": "2025-07-17T12:34:19.627604Z",
     "start_time": "2025-07-17T12:34:19.618690Z"
    }
   },
   "cell_type": "code",
   "source": "df['Condition1'].isnull().sum()",
   "id": "f80b81a9868fa2d9",
   "outputs": [
    {
     "data": {
      "text/plain": [
       "0"
      ]
     },
     "execution_count": 815,
     "metadata": {},
     "output_type": "execute_result"
    }
   ],
   "execution_count": 815
  },
  {
   "metadata": {
    "ExecuteTime": {
     "end_time": "2025-07-17T12:34:19.714897Z",
     "start_time": "2025-07-17T12:34:19.702867Z"
    }
   },
   "cell_type": "code",
   "source": [
    "#similar to neighbourdhood\n",
    "def bin_condition(val):\n",
    "    if val in ['PosN', 'PosA']:\n",
    "        return 'Positive'\n",
    "    elif val == 'Norm':\n",
    "        return 'Neutral'\n",
    "    else:\n",
    "        return 'Negative'\n",
    "\n",
    "df['Condition1_binned'] = df['Condition1'].apply(bin_condition)\n",
    "\n",
    "# Label encode\n",
    "condition_map = {\n",
    "    'Negative': 0,\n",
    "    'Neutral': 1,\n",
    "    'Positive': 2\n",
    "}\n",
    "df['Condition1_encoded'] = df['Condition1_binned'].map(condition_map)\n"
   ],
   "id": "b5d4a60be20bb7fb",
   "outputs": [],
   "execution_count": 816
  },
  {
   "metadata": {
    "ExecuteTime": {
     "end_time": "2025-07-17T12:34:20.310416Z",
     "start_time": "2025-07-17T12:34:20.299093Z"
    }
   },
   "cell_type": "code",
   "source": "df.groupby('Condition1_binned')['SalePrice'].mean()\n",
   "id": "222fc1b4cb23fac2",
   "outputs": [
    {
     "data": {
      "text/plain": [
       "Condition1_binned\n",
       "Negative    149046.971098\n",
       "Neutral     184495.492063\n",
       "Positive    218351.851852\n",
       "Name: SalePrice, dtype: float64"
      ]
     },
     "execution_count": 817,
     "metadata": {},
     "output_type": "execute_result"
    }
   ],
   "execution_count": 817
  },
  {
   "metadata": {
    "ExecuteTime": {
     "end_time": "2025-07-17T12:34:20.556639Z",
     "start_time": "2025-07-17T12:34:20.547890Z"
    }
   },
   "cell_type": "code",
   "source": "df['Condition2'].isnull().sum()\n",
   "id": "40461bd428dc7cb0",
   "outputs": [
    {
     "data": {
      "text/plain": [
       "0"
      ]
     },
     "execution_count": 818,
     "metadata": {},
     "output_type": "execute_result"
    }
   ],
   "execution_count": 818
  },
  {
   "metadata": {
    "ExecuteTime": {
     "end_time": "2025-07-17T12:34:20.689530Z",
     "start_time": "2025-07-17T12:34:20.678567Z"
    }
   },
   "cell_type": "code",
   "source": [
    "#similar to cond1\n",
    "def bin_condition(val):\n",
    "    if val in ['PosN', 'PosA']:\n",
    "        return 'Positive'\n",
    "    elif val == 'Norm':\n",
    "        return 'Neutral'\n",
    "    else:\n",
    "        return 'Negative'\n",
    "\n",
    "df['Condition2_binned'] = df['Condition2'].apply(bin_condition)\n",
    "\n",
    "# Label encode\n",
    "condition_map = {\n",
    "    'Negative': 0,\n",
    "    'Neutral': 1,\n",
    "    'Positive': 2\n",
    "}\n",
    "df['Condition2_encoded'] = df['Condition2_binned'].map(condition_map)\n"
   ],
   "id": "95240c6f661efd70",
   "outputs": [],
   "execution_count": 819
  },
  {
   "metadata": {
    "ExecuteTime": {
     "end_time": "2025-07-17T12:34:20.982080Z",
     "start_time": "2025-07-17T12:34:20.971181Z"
    }
   },
   "cell_type": "code",
   "source": "df.groupby('Condition2_binned')['SalePrice'].mean()\n",
   "id": "7c44c616556bb881",
   "outputs": [
    {
     "data": {
      "text/plain": [
       "Condition2_binned\n",
       "Negative    121700.416667\n",
       "Neutral     181169.405536\n",
       "Positive    298250.000000\n",
       "Name: SalePrice, dtype: float64"
      ]
     },
     "execution_count": 820,
     "metadata": {},
     "output_type": "execute_result"
    }
   ],
   "execution_count": 820
  },
  {
   "metadata": {
    "ExecuteTime": {
     "end_time": "2025-07-17T12:34:21.074960Z",
     "start_time": "2025-07-17T12:34:21.043452Z"
    }
   },
   "cell_type": "code",
   "source": "df.head()",
   "id": "73f005a559a0a2f9",
   "outputs": [
    {
     "data": {
      "text/plain": [
       "   MSSubClass MSZoning  LotFrontage  LotArea Street Alley LotShape  \\\n",
       "0          60       RL         65.0     8450   Pave   NaN      Reg   \n",
       "1          20       RL         80.0     9600   Pave   NaN      Reg   \n",
       "2          60       RL         68.0    11250   Pave   NaN      IR1   \n",
       "3          70       RL         60.0     9550   Pave   NaN      IR1   \n",
       "4          60       RL         84.0    14260   Pave   NaN      IR1   \n",
       "\n",
       "  LandContour Utilities LotConfig  ... LotConfig_Inside LandContour_binned  \\\n",
       "0         Lvl    AllPub    Inside  ...             True               Flat   \n",
       "1         Lvl    AllPub       FR2  ...            False               Flat   \n",
       "2         Lvl    AllPub    Inside  ...             True               Flat   \n",
       "3         Lvl    AllPub    Corner  ...            False               Flat   \n",
       "4         Lvl    AllPub       FR2  ...            False               Flat   \n",
       "\n",
       "  LandContour_encoded LandSlope_encoded Neighborhood_binned  \\\n",
       "0                   2                 0         High_Income   \n",
       "1                   2                 0        Elite_Income   \n",
       "2                   2                 0         High_Income   \n",
       "3                   2                 0         High_Income   \n",
       "4                   2                 0        Elite_Income   \n",
       "\n",
       "  Neighborhood_encoded  Condition1_binned  Condition1_encoded  \\\n",
       "0                    2            Neutral                   1   \n",
       "1                    3           Negative                   0   \n",
       "2                    2            Neutral                   1   \n",
       "3                    2            Neutral                   1   \n",
       "4                    3            Neutral                   1   \n",
       "\n",
       "   Condition2_binned  Condition2_encoded  \n",
       "0            Neutral                   1  \n",
       "1            Neutral                   1  \n",
       "2            Neutral                   1  \n",
       "3            Neutral                   1  \n",
       "4            Neutral                   1  \n",
       "\n",
       "[5 rows x 101 columns]"
      ],
      "text/html": [
       "<div>\n",
       "<style scoped>\n",
       "    .dataframe tbody tr th:only-of-type {\n",
       "        vertical-align: middle;\n",
       "    }\n",
       "\n",
       "    .dataframe tbody tr th {\n",
       "        vertical-align: top;\n",
       "    }\n",
       "\n",
       "    .dataframe thead th {\n",
       "        text-align: right;\n",
       "    }\n",
       "</style>\n",
       "<table border=\"1\" class=\"dataframe\">\n",
       "  <thead>\n",
       "    <tr style=\"text-align: right;\">\n",
       "      <th></th>\n",
       "      <th>MSSubClass</th>\n",
       "      <th>MSZoning</th>\n",
       "      <th>LotFrontage</th>\n",
       "      <th>LotArea</th>\n",
       "      <th>Street</th>\n",
       "      <th>Alley</th>\n",
       "      <th>LotShape</th>\n",
       "      <th>LandContour</th>\n",
       "      <th>Utilities</th>\n",
       "      <th>LotConfig</th>\n",
       "      <th>...</th>\n",
       "      <th>LotConfig_Inside</th>\n",
       "      <th>LandContour_binned</th>\n",
       "      <th>LandContour_encoded</th>\n",
       "      <th>LandSlope_encoded</th>\n",
       "      <th>Neighborhood_binned</th>\n",
       "      <th>Neighborhood_encoded</th>\n",
       "      <th>Condition1_binned</th>\n",
       "      <th>Condition1_encoded</th>\n",
       "      <th>Condition2_binned</th>\n",
       "      <th>Condition2_encoded</th>\n",
       "    </tr>\n",
       "  </thead>\n",
       "  <tbody>\n",
       "    <tr>\n",
       "      <th>0</th>\n",
       "      <td>60</td>\n",
       "      <td>RL</td>\n",
       "      <td>65.0</td>\n",
       "      <td>8450</td>\n",
       "      <td>Pave</td>\n",
       "      <td>NaN</td>\n",
       "      <td>Reg</td>\n",
       "      <td>Lvl</td>\n",
       "      <td>AllPub</td>\n",
       "      <td>Inside</td>\n",
       "      <td>...</td>\n",
       "      <td>True</td>\n",
       "      <td>Flat</td>\n",
       "      <td>2</td>\n",
       "      <td>0</td>\n",
       "      <td>High_Income</td>\n",
       "      <td>2</td>\n",
       "      <td>Neutral</td>\n",
       "      <td>1</td>\n",
       "      <td>Neutral</td>\n",
       "      <td>1</td>\n",
       "    </tr>\n",
       "    <tr>\n",
       "      <th>1</th>\n",
       "      <td>20</td>\n",
       "      <td>RL</td>\n",
       "      <td>80.0</td>\n",
       "      <td>9600</td>\n",
       "      <td>Pave</td>\n",
       "      <td>NaN</td>\n",
       "      <td>Reg</td>\n",
       "      <td>Lvl</td>\n",
       "      <td>AllPub</td>\n",
       "      <td>FR2</td>\n",
       "      <td>...</td>\n",
       "      <td>False</td>\n",
       "      <td>Flat</td>\n",
       "      <td>2</td>\n",
       "      <td>0</td>\n",
       "      <td>Elite_Income</td>\n",
       "      <td>3</td>\n",
       "      <td>Negative</td>\n",
       "      <td>0</td>\n",
       "      <td>Neutral</td>\n",
       "      <td>1</td>\n",
       "    </tr>\n",
       "    <tr>\n",
       "      <th>2</th>\n",
       "      <td>60</td>\n",
       "      <td>RL</td>\n",
       "      <td>68.0</td>\n",
       "      <td>11250</td>\n",
       "      <td>Pave</td>\n",
       "      <td>NaN</td>\n",
       "      <td>IR1</td>\n",
       "      <td>Lvl</td>\n",
       "      <td>AllPub</td>\n",
       "      <td>Inside</td>\n",
       "      <td>...</td>\n",
       "      <td>True</td>\n",
       "      <td>Flat</td>\n",
       "      <td>2</td>\n",
       "      <td>0</td>\n",
       "      <td>High_Income</td>\n",
       "      <td>2</td>\n",
       "      <td>Neutral</td>\n",
       "      <td>1</td>\n",
       "      <td>Neutral</td>\n",
       "      <td>1</td>\n",
       "    </tr>\n",
       "    <tr>\n",
       "      <th>3</th>\n",
       "      <td>70</td>\n",
       "      <td>RL</td>\n",
       "      <td>60.0</td>\n",
       "      <td>9550</td>\n",
       "      <td>Pave</td>\n",
       "      <td>NaN</td>\n",
       "      <td>IR1</td>\n",
       "      <td>Lvl</td>\n",
       "      <td>AllPub</td>\n",
       "      <td>Corner</td>\n",
       "      <td>...</td>\n",
       "      <td>False</td>\n",
       "      <td>Flat</td>\n",
       "      <td>2</td>\n",
       "      <td>0</td>\n",
       "      <td>High_Income</td>\n",
       "      <td>2</td>\n",
       "      <td>Neutral</td>\n",
       "      <td>1</td>\n",
       "      <td>Neutral</td>\n",
       "      <td>1</td>\n",
       "    </tr>\n",
       "    <tr>\n",
       "      <th>4</th>\n",
       "      <td>60</td>\n",
       "      <td>RL</td>\n",
       "      <td>84.0</td>\n",
       "      <td>14260</td>\n",
       "      <td>Pave</td>\n",
       "      <td>NaN</td>\n",
       "      <td>IR1</td>\n",
       "      <td>Lvl</td>\n",
       "      <td>AllPub</td>\n",
       "      <td>FR2</td>\n",
       "      <td>...</td>\n",
       "      <td>False</td>\n",
       "      <td>Flat</td>\n",
       "      <td>2</td>\n",
       "      <td>0</td>\n",
       "      <td>Elite_Income</td>\n",
       "      <td>3</td>\n",
       "      <td>Neutral</td>\n",
       "      <td>1</td>\n",
       "      <td>Neutral</td>\n",
       "      <td>1</td>\n",
       "    </tr>\n",
       "  </tbody>\n",
       "</table>\n",
       "<p>5 rows × 101 columns</p>\n",
       "</div>"
      ]
     },
     "execution_count": 821,
     "metadata": {},
     "output_type": "execute_result"
    }
   ],
   "execution_count": 821
  },
  {
   "metadata": {
    "ExecuteTime": {
     "end_time": "2025-07-17T12:34:21.254916Z",
     "start_time": "2025-07-17T12:34:21.243270Z"
    }
   },
   "cell_type": "code",
   "source": "df['BldgType'].isnull().sum()",
   "id": "c18cf612622a06c",
   "outputs": [
    {
     "data": {
      "text/plain": [
       "0"
      ]
     },
     "execution_count": 822,
     "metadata": {},
     "output_type": "execute_result"
    }
   ],
   "execution_count": 822
  },
  {
   "metadata": {
    "ExecuteTime": {
     "end_time": "2025-07-17T12:34:21.419277Z",
     "start_time": "2025-07-17T12:34:21.412366Z"
    }
   },
   "cell_type": "code",
   "source": "df['BldgType'].value_counts()",
   "id": "47d0c0eb9925c87c",
   "outputs": [
    {
     "data": {
      "text/plain": [
       "BldgType\n",
       "1Fam      2425\n",
       "TwnhsE     227\n",
       "Duplex     109\n",
       "Twnhs       96\n",
       "2fmCon      62\n",
       "Name: count, dtype: int64"
      ]
     },
     "execution_count": 823,
     "metadata": {},
     "output_type": "execute_result"
    }
   ],
   "execution_count": 823
  },
  {
   "metadata": {
    "ExecuteTime": {
     "end_time": "2025-07-17T12:34:21.777963Z",
     "start_time": "2025-07-17T12:34:21.767551Z"
    }
   },
   "cell_type": "code",
   "source": [
    "def bin_bldg_type(val):\n",
    "    if val == '1Fam':\n",
    "        return 'Single_Family'\n",
    "    elif val in ['TwnhsE', 'TwnhsI']:\n",
    "        return 'Townhouse'\n",
    "    else:\n",
    "        return 'Multi_Family'\n",
    "\n",
    "df['BldgType_binned'] = df['BldgType'].apply(bin_bldg_type)\n",
    "\n",
    "# Ordinal encode\n",
    "bldg_type_map = {\n",
    "    'Multi_Family': 0,\n",
    "    'Townhouse': 1,\n",
    "    'Single_Family': 2\n",
    "}\n",
    "df['BldgType_encoded'] = df['BldgType_binned'].map(bldg_type_map)\n"
   ],
   "id": "e6f83d9a6ed2fd48",
   "outputs": [],
   "execution_count": 824
  },
  {
   "metadata": {
    "ExecuteTime": {
     "end_time": "2025-07-17T12:34:22.101111Z",
     "start_time": "2025-07-17T12:34:22.091400Z"
    }
   },
   "cell_type": "code",
   "source": [
    "df['HouseStyle'].isnull().sum()\n",
    "df['HouseStyle'].value_counts()"
   ],
   "id": "1f0a81b9e50eef0e",
   "outputs": [
    {
     "data": {
      "text/plain": [
       "HouseStyle\n",
       "1Story    1471\n",
       "2Story     872\n",
       "1.5Fin     314\n",
       "SLvl       128\n",
       "SFoyer      83\n",
       "2.5Unf      24\n",
       "1.5Unf      19\n",
       "2.5Fin       8\n",
       "Name: count, dtype: int64"
      ]
     },
     "execution_count": 825,
     "metadata": {},
     "output_type": "execute_result"
    }
   ],
   "execution_count": 825
  },
  {
   "metadata": {
    "ExecuteTime": {
     "end_time": "2025-07-17T12:34:22.226283Z",
     "start_time": "2025-07-17T12:34:22.212027Z"
    }
   },
   "cell_type": "code",
   "source": [
    "def bin_house_style(val):\n",
    "    if val == '1Story':\n",
    "        return 'Single_Story'\n",
    "    elif val in ['1.5Fin', '1.5Unf']:\n",
    "        return 'OneHalf'\n",
    "    elif val in ['2Story', '2.5Fin', '2.5Unf']:\n",
    "        return 'TwoStory'\n",
    "    else:\n",
    "        return 'Split'\n",
    "\n",
    "df['HouseStyle_binned'] = df['HouseStyle'].apply(bin_house_style)\n",
    "\n",
    "# Label encode\n",
    "house_style_map = {\n",
    "    'Split': 0,\n",
    "    'OneHalf': 1,\n",
    "    'Single_Story': 2,\n",
    "    'TwoStory': 3\n",
    "}\n",
    "df['HouseStyle_encoded'] = df['HouseStyle_binned'].map(house_style_map)\n"
   ],
   "id": "8f0be9d88ec93757",
   "outputs": [],
   "execution_count": 826
  },
  {
   "metadata": {
    "ExecuteTime": {
     "end_time": "2025-07-17T12:34:22.342445Z",
     "start_time": "2025-07-17T12:34:22.335256Z"
    }
   },
   "cell_type": "code",
   "source": [
    "house_style_map = {\n",
    "    'OneHalf': 0,\n",
    "    'Split': 1,\n",
    "    'Single_Story': 2,\n",
    "    'TwoStory': 3\n",
    "}\n",
    "df['HouseStyle_encoded'] = df['HouseStyle_binned'].map(house_style_map)\n"
   ],
   "id": "588e45150f0ff1cf",
   "outputs": [],
   "execution_count": 827
  },
  {
   "metadata": {
    "ExecuteTime": {
     "end_time": "2025-07-17T12:34:22.633059Z",
     "start_time": "2025-07-17T12:34:22.605169Z"
    }
   },
   "cell_type": "code",
   "source": "df.groupby('HouseStyle_binned')['SalePrice'].mean()\n",
   "id": "2f89f8cb3a4c4486",
   "outputs": [
    {
     "data": {
      "text/plain": [
       "HouseStyle_binned\n",
       "OneHalf         140369.511905\n",
       "Single_Story    175985.477961\n",
       "Split           155230.156863\n",
       "TwoStory        208973.997845\n",
       "Name: SalePrice, dtype: float64"
      ]
     },
     "execution_count": 828,
     "metadata": {},
     "output_type": "execute_result"
    }
   ],
   "execution_count": 828
  },
  {
   "metadata": {
    "ExecuteTime": {
     "end_time": "2025-07-17T12:34:22.856621Z",
     "start_time": "2025-07-17T12:34:22.846022Z"
    }
   },
   "cell_type": "code",
   "source": [
    "df['OverallQual'].isnull().sum()\n",
    "df['OverallQual'].value_counts()"
   ],
   "id": "2760e20b3da3576f",
   "outputs": [
    {
     "data": {
      "text/plain": [
       "OverallQual\n",
       "5     825\n",
       "6     731\n",
       "7     600\n",
       "8     342\n",
       "4     226\n",
       "9     107\n",
       "3      40\n",
       "10     31\n",
       "2      13\n",
       "1       4\n",
       "Name: count, dtype: int64"
      ]
     },
     "execution_count": 829,
     "metadata": {},
     "output_type": "execute_result"
    }
   ],
   "execution_count": 829
  },
  {
   "metadata": {
    "ExecuteTime": {
     "end_time": "2025-07-17T12:34:22.954582Z",
     "start_time": "2025-07-17T12:34:22.938817Z"
    }
   },
   "cell_type": "code",
   "source": "df.isnull().sum()",
   "id": "ff449d3918b4fdf",
   "outputs": [
    {
     "data": {
      "text/plain": [
       "MSSubClass            0\n",
       "MSZoning              0\n",
       "LotFrontage           0\n",
       "LotArea               0\n",
       "Street                0\n",
       "                     ..\n",
       "Condition2_encoded    0\n",
       "BldgType_binned       0\n",
       "BldgType_encoded      0\n",
       "HouseStyle_binned     0\n",
       "HouseStyle_encoded    0\n",
       "Length: 105, dtype: int64"
      ]
     },
     "execution_count": 830,
     "metadata": {},
     "output_type": "execute_result"
    }
   ],
   "execution_count": 830
  },
  {
   "metadata": {
    "ExecuteTime": {
     "end_time": "2025-07-17T12:34:23.105184Z",
     "start_time": "2025-07-17T12:34:23.096284Z"
    }
   },
   "cell_type": "code",
   "source": [
    "#not necessay what is bellow but it is a nice thing to have\n",
    "def bin_year(year):\n",
    "    if year < 1940:\n",
    "        return 'Pre_1940'\n",
    "    elif year < 1960:\n",
    "        return '1940s_50s'\n",
    "    elif year < 1980:\n",
    "        return '60s_70s'\n",
    "    elif year < 2000:\n",
    "        return '80s_90s'\n",
    "    elif year < 2010:\n",
    "        return '2000s'\n",
    "    else:\n",
    "        return '2010s_Plus'\n",
    "\n",
    "df['YearBuilt_binned'] = df['YearBuilt'].apply(bin_year)\n",
    "df['YearRemodAdd_binned'] = df['YearRemodAdd'].apply(bin_year)\n"
   ],
   "id": "eff28cdf335a8c83",
   "outputs": [],
   "execution_count": 831
  },
  {
   "metadata": {
    "ExecuteTime": {
     "end_time": "2025-07-17T12:34:23.273910Z",
     "start_time": "2025-07-17T12:34:23.266555Z"
    }
   },
   "cell_type": "code",
   "source": [
    "#new feature alerttt\n",
    "df['YearsSinceRemod'] = df['YrSold'] - df['YearRemodAdd']"
   ],
   "id": "c25f5470a944a8e7",
   "outputs": [],
   "execution_count": 832
  },
  {
   "metadata": {
    "ExecuteTime": {
     "end_time": "2025-07-17T12:34:23.392594Z",
     "start_time": "2025-07-17T12:34:23.383207Z"
    }
   },
   "cell_type": "code",
   "source": "df['RoofMatl'].value_counts()",
   "id": "de67fffd548a01e3",
   "outputs": [
    {
     "data": {
      "text/plain": [
       "RoofMatl\n",
       "CompShg    2876\n",
       "Tar&Grv      23\n",
       "WdShake       9\n",
       "WdShngl       7\n",
       "Metal         1\n",
       "Membran       1\n",
       "Roll          1\n",
       "ClyTile       1\n",
       "Name: count, dtype: int64"
      ]
     },
     "execution_count": 833,
     "metadata": {},
     "output_type": "execute_result"
    }
   ],
   "execution_count": 833
  },
  {
   "metadata": {
    "ExecuteTime": {
     "end_time": "2025-07-17T12:34:23.557838Z",
     "start_time": "2025-07-17T12:34:23.548995Z"
    }
   },
   "cell_type": "code",
   "source": [
    "roof_style_map = {\n",
    "    'Flat': 'Basic',\n",
    "    'Gable': 'Basic',\n",
    "    'Shed': 'Basic',\n",
    "    'Hip': 'Mid',\n",
    "    'Gambrel': 'Mid',\n",
    "    'Mansard': 'Luxury'\n",
    "}\n",
    "\n",
    "df['RoofStyle_binned'] = df['RoofStyle'].map(roof_style_map)\n",
    "\n",
    "# Label encode it\n",
    "roof_style_encoded = {\n",
    "    'Basic': 0,\n",
    "    'Mid': 1,\n",
    "    'Luxury': 2\n",
    "}\n",
    "\n",
    "df['RoofStyle_encoded'] = df['RoofStyle_binned'].map(roof_style_encoded)\n"
   ],
   "id": "e8ed57bfa4826898",
   "outputs": [],
   "execution_count": 834
  },
  {
   "metadata": {
    "ExecuteTime": {
     "end_time": "2025-07-17T12:34:23.637764Z",
     "start_time": "2025-07-17T12:34:23.632953Z"
    }
   },
   "cell_type": "code",
   "source": "#we can drop the roof material as the variance it will give is very very low",
   "id": "b767c96ec8dbd5b5",
   "outputs": [],
   "execution_count": 835
  },
  {
   "metadata": {
    "ExecuteTime": {
     "end_time": "2025-07-17T12:34:23.876220Z",
     "start_time": "2025-07-17T12:34:23.866431Z"
    }
   },
   "cell_type": "code",
   "source": [
    "df['Exterior1st'] = df['Exterior1st'].fillna(df['Exterior1st'].mode()[0])\n",
    "df['Exterior2nd'] = df['Exterior2nd'].fillna(df['Exterior2nd'].mode()[0])\n"
   ],
   "id": "2b373579f77acef0",
   "outputs": [],
   "execution_count": 836
  },
  {
   "metadata": {
    "ExecuteTime": {
     "end_time": "2025-07-17T12:34:24.020028Z",
     "start_time": "2025-07-17T12:34:24.009126Z"
    }
   },
   "cell_type": "code",
   "source": "df['ExteriorCombo'] = df['Exterior1st'].astype(str) + '_' + df['Exterior2nd'].astype(str)\n",
   "id": "6a763cbe3eb1713c",
   "outputs": [],
   "execution_count": 837
  },
  {
   "metadata": {
    "ExecuteTime": {
     "end_time": "2025-07-17T12:34:24.046346Z",
     "start_time": "2025-07-17T12:34:24.031621Z"
    }
   },
   "cell_type": "code",
   "source": [
    "combo_price = df.groupby('ExteriorCombo')['SalePrice'].mean().sort_values()\n",
    "combo_price_bins = pd.qcut(combo_price, q=4, labels=['Low', 'Med', 'High', 'Elite'])\n",
    "\n",
    "# Map each combo to bin\n",
    "combo_to_bin = combo_price_bins.to_dict()\n",
    "df['ExteriorCombo_binned'] = df['ExteriorCombo'].map(combo_to_bin)\n"
   ],
   "id": "2ecfc87ec659e04",
   "outputs": [],
   "execution_count": 838
  },
  {
   "metadata": {
    "ExecuteTime": {
     "end_time": "2025-07-17T12:34:24.164063Z",
     "start_time": "2025-07-17T12:34:24.155864Z"
    }
   },
   "cell_type": "code",
   "source": [
    "combo_encode = {'Low': 0, 'Med': 1, 'High': 2, 'Elite': 3}\n",
    "df['ExteriorCombo_encoded'] = df['ExteriorCombo_binned'].map(combo_encode)\n"
   ],
   "id": "a3d250c159e5c3dc",
   "outputs": [],
   "execution_count": 839
  },
  {
   "metadata": {
    "ExecuteTime": {
     "end_time": "2025-07-17T12:34:24.276902Z",
     "start_time": "2025-07-17T12:34:24.270886Z"
    }
   },
   "cell_type": "code",
   "source": [
    "df['MasVnrType'] = df['MasVnrType'].fillna('None')\n",
    "df['MasVnrArea'] = df['MasVnrArea'].fillna(0)\n"
   ],
   "id": "2ade19161273995",
   "outputs": [],
   "execution_count": 840
  },
  {
   "metadata": {
    "ExecuteTime": {
     "end_time": "2025-07-17T12:34:24.503646Z",
     "start_time": "2025-07-17T12:34:24.483141Z"
    }
   },
   "cell_type": "code",
   "source": "df.loc[(df['MasVnrType'] == 'None') & (df['MasVnrArea'] > 0)]\n",
   "id": "d2821688043e2b6a",
   "outputs": [
    {
     "data": {
      "text/plain": [
       "      MSSubClass MSZoning  LotFrontage  LotArea Street Alley LotShape  \\\n",
       "624           60       RL         80.0    10400   Pave   NaN      Reg   \n",
       "773           20       RL         70.0    10150   Pave   NaN      Reg   \n",
       "1230          90       RL         68.0    18890   Pave   NaN      IR1   \n",
       "1300          60       RL         68.0    10762   Pave   NaN      IR1   \n",
       "1334         160       RM         24.0     2368   Pave   NaN      Reg   \n",
       "209           20       RL        102.0    13514   Pave   NaN      IR1   \n",
       "992           20       RM         52.0     8626   Pave   NaN      Reg   \n",
       "1150          20       RL        124.0    27697   Pave   NaN      Reg   \n",
       "\n",
       "     LandContour Utilities LotConfig  ... HouseStyle_binned  \\\n",
       "624          Lvl    AllPub    Inside  ...          TwoStory   \n",
       "773          Lvl    AllPub    Inside  ...      Single_Story   \n",
       "1230         Lvl    AllPub    Inside  ...           OneHalf   \n",
       "1300         Lvl    AllPub   CulDSac  ...          TwoStory   \n",
       "1334         Lvl    AllPub    Inside  ...          TwoStory   \n",
       "209          Lvl    AllPub    Corner  ...      Single_Story   \n",
       "992          Lvl    AllPub    Inside  ...      Single_Story   \n",
       "1150         Lvl    AllPub    Inside  ...      Single_Story   \n",
       "\n",
       "     HouseStyle_encoded YearBuilt_binned YearRemodAdd_binned YearsSinceRemod  \\\n",
       "624                   3          60s_70s             60s_70s              34   \n",
       "773                   2        1940s_50s           1940s_50s              49   \n",
       "1230                  0          60s_70s             60s_70s              30   \n",
       "1300                  3          80s_90s             80s_90s              10   \n",
       "1334                  3          60s_70s             60s_70s              39   \n",
       "209                   2            2000s               2000s               1   \n",
       "992                   2        1940s_50s           1940s_50s              51   \n",
       "1150                  2          60s_70s             60s_70s              46   \n",
       "\n",
       "     RoofStyle_binned  RoofStyle_encoded    ExteriorCombo  \\\n",
       "624             Basic                  0  VinylSd_VinylSd   \n",
       "773             Basic                  0  Wd Sdng_Wd Sdng   \n",
       "1230            Basic                  0  Plywood_Plywood   \n",
       "1300            Basic                  0  VinylSd_VinylSd   \n",
       "1334            Basic                  0  HdBoard_HdBoard   \n",
       "209               Mid                  1  VinylSd_VinylSd   \n",
       "992             Basic                  0  MetalSd_MetalSd   \n",
       "1150            Basic                  0  Plywood_Plywood   \n",
       "\n",
       "      ExteriorCombo_binned  ExteriorCombo_encoded  \n",
       "624                  Elite                    3.0  \n",
       "773                    Med                    1.0  \n",
       "1230                  High                    2.0  \n",
       "1300                 Elite                    3.0  \n",
       "1334                  High                    2.0  \n",
       "209                  Elite                    3.0  \n",
       "992                   High                    2.0  \n",
       "1150                  High                    2.0  \n",
       "\n",
       "[8 rows x 113 columns]"
      ],
      "text/html": [
       "<div>\n",
       "<style scoped>\n",
       "    .dataframe tbody tr th:only-of-type {\n",
       "        vertical-align: middle;\n",
       "    }\n",
       "\n",
       "    .dataframe tbody tr th {\n",
       "        vertical-align: top;\n",
       "    }\n",
       "\n",
       "    .dataframe thead th {\n",
       "        text-align: right;\n",
       "    }\n",
       "</style>\n",
       "<table border=\"1\" class=\"dataframe\">\n",
       "  <thead>\n",
       "    <tr style=\"text-align: right;\">\n",
       "      <th></th>\n",
       "      <th>MSSubClass</th>\n",
       "      <th>MSZoning</th>\n",
       "      <th>LotFrontage</th>\n",
       "      <th>LotArea</th>\n",
       "      <th>Street</th>\n",
       "      <th>Alley</th>\n",
       "      <th>LotShape</th>\n",
       "      <th>LandContour</th>\n",
       "      <th>Utilities</th>\n",
       "      <th>LotConfig</th>\n",
       "      <th>...</th>\n",
       "      <th>HouseStyle_binned</th>\n",
       "      <th>HouseStyle_encoded</th>\n",
       "      <th>YearBuilt_binned</th>\n",
       "      <th>YearRemodAdd_binned</th>\n",
       "      <th>YearsSinceRemod</th>\n",
       "      <th>RoofStyle_binned</th>\n",
       "      <th>RoofStyle_encoded</th>\n",
       "      <th>ExteriorCombo</th>\n",
       "      <th>ExteriorCombo_binned</th>\n",
       "      <th>ExteriorCombo_encoded</th>\n",
       "    </tr>\n",
       "  </thead>\n",
       "  <tbody>\n",
       "    <tr>\n",
       "      <th>624</th>\n",
       "      <td>60</td>\n",
       "      <td>RL</td>\n",
       "      <td>80.0</td>\n",
       "      <td>10400</td>\n",
       "      <td>Pave</td>\n",
       "      <td>NaN</td>\n",
       "      <td>Reg</td>\n",
       "      <td>Lvl</td>\n",
       "      <td>AllPub</td>\n",
       "      <td>Inside</td>\n",
       "      <td>...</td>\n",
       "      <td>TwoStory</td>\n",
       "      <td>3</td>\n",
       "      <td>60s_70s</td>\n",
       "      <td>60s_70s</td>\n",
       "      <td>34</td>\n",
       "      <td>Basic</td>\n",
       "      <td>0</td>\n",
       "      <td>VinylSd_VinylSd</td>\n",
       "      <td>Elite</td>\n",
       "      <td>3.0</td>\n",
       "    </tr>\n",
       "    <tr>\n",
       "      <th>773</th>\n",
       "      <td>20</td>\n",
       "      <td>RL</td>\n",
       "      <td>70.0</td>\n",
       "      <td>10150</td>\n",
       "      <td>Pave</td>\n",
       "      <td>NaN</td>\n",
       "      <td>Reg</td>\n",
       "      <td>Lvl</td>\n",
       "      <td>AllPub</td>\n",
       "      <td>Inside</td>\n",
       "      <td>...</td>\n",
       "      <td>Single_Story</td>\n",
       "      <td>2</td>\n",
       "      <td>1940s_50s</td>\n",
       "      <td>1940s_50s</td>\n",
       "      <td>49</td>\n",
       "      <td>Basic</td>\n",
       "      <td>0</td>\n",
       "      <td>Wd Sdng_Wd Sdng</td>\n",
       "      <td>Med</td>\n",
       "      <td>1.0</td>\n",
       "    </tr>\n",
       "    <tr>\n",
       "      <th>1230</th>\n",
       "      <td>90</td>\n",
       "      <td>RL</td>\n",
       "      <td>68.0</td>\n",
       "      <td>18890</td>\n",
       "      <td>Pave</td>\n",
       "      <td>NaN</td>\n",
       "      <td>IR1</td>\n",
       "      <td>Lvl</td>\n",
       "      <td>AllPub</td>\n",
       "      <td>Inside</td>\n",
       "      <td>...</td>\n",
       "      <td>OneHalf</td>\n",
       "      <td>0</td>\n",
       "      <td>60s_70s</td>\n",
       "      <td>60s_70s</td>\n",
       "      <td>30</td>\n",
       "      <td>Basic</td>\n",
       "      <td>0</td>\n",
       "      <td>Plywood_Plywood</td>\n",
       "      <td>High</td>\n",
       "      <td>2.0</td>\n",
       "    </tr>\n",
       "    <tr>\n",
       "      <th>1300</th>\n",
       "      <td>60</td>\n",
       "      <td>RL</td>\n",
       "      <td>68.0</td>\n",
       "      <td>10762</td>\n",
       "      <td>Pave</td>\n",
       "      <td>NaN</td>\n",
       "      <td>IR1</td>\n",
       "      <td>Lvl</td>\n",
       "      <td>AllPub</td>\n",
       "      <td>CulDSac</td>\n",
       "      <td>...</td>\n",
       "      <td>TwoStory</td>\n",
       "      <td>3</td>\n",
       "      <td>80s_90s</td>\n",
       "      <td>80s_90s</td>\n",
       "      <td>10</td>\n",
       "      <td>Basic</td>\n",
       "      <td>0</td>\n",
       "      <td>VinylSd_VinylSd</td>\n",
       "      <td>Elite</td>\n",
       "      <td>3.0</td>\n",
       "    </tr>\n",
       "    <tr>\n",
       "      <th>1334</th>\n",
       "      <td>160</td>\n",
       "      <td>RM</td>\n",
       "      <td>24.0</td>\n",
       "      <td>2368</td>\n",
       "      <td>Pave</td>\n",
       "      <td>NaN</td>\n",
       "      <td>Reg</td>\n",
       "      <td>Lvl</td>\n",
       "      <td>AllPub</td>\n",
       "      <td>Inside</td>\n",
       "      <td>...</td>\n",
       "      <td>TwoStory</td>\n",
       "      <td>3</td>\n",
       "      <td>60s_70s</td>\n",
       "      <td>60s_70s</td>\n",
       "      <td>39</td>\n",
       "      <td>Basic</td>\n",
       "      <td>0</td>\n",
       "      <td>HdBoard_HdBoard</td>\n",
       "      <td>High</td>\n",
       "      <td>2.0</td>\n",
       "    </tr>\n",
       "    <tr>\n",
       "      <th>209</th>\n",
       "      <td>20</td>\n",
       "      <td>RL</td>\n",
       "      <td>102.0</td>\n",
       "      <td>13514</td>\n",
       "      <td>Pave</td>\n",
       "      <td>NaN</td>\n",
       "      <td>IR1</td>\n",
       "      <td>Lvl</td>\n",
       "      <td>AllPub</td>\n",
       "      <td>Corner</td>\n",
       "      <td>...</td>\n",
       "      <td>Single_Story</td>\n",
       "      <td>2</td>\n",
       "      <td>2000s</td>\n",
       "      <td>2000s</td>\n",
       "      <td>1</td>\n",
       "      <td>Mid</td>\n",
       "      <td>1</td>\n",
       "      <td>VinylSd_VinylSd</td>\n",
       "      <td>Elite</td>\n",
       "      <td>3.0</td>\n",
       "    </tr>\n",
       "    <tr>\n",
       "      <th>992</th>\n",
       "      <td>20</td>\n",
       "      <td>RM</td>\n",
       "      <td>52.0</td>\n",
       "      <td>8626</td>\n",
       "      <td>Pave</td>\n",
       "      <td>NaN</td>\n",
       "      <td>Reg</td>\n",
       "      <td>Lvl</td>\n",
       "      <td>AllPub</td>\n",
       "      <td>Inside</td>\n",
       "      <td>...</td>\n",
       "      <td>Single_Story</td>\n",
       "      <td>2</td>\n",
       "      <td>1940s_50s</td>\n",
       "      <td>1940s_50s</td>\n",
       "      <td>51</td>\n",
       "      <td>Basic</td>\n",
       "      <td>0</td>\n",
       "      <td>MetalSd_MetalSd</td>\n",
       "      <td>High</td>\n",
       "      <td>2.0</td>\n",
       "    </tr>\n",
       "    <tr>\n",
       "      <th>1150</th>\n",
       "      <td>20</td>\n",
       "      <td>RL</td>\n",
       "      <td>124.0</td>\n",
       "      <td>27697</td>\n",
       "      <td>Pave</td>\n",
       "      <td>NaN</td>\n",
       "      <td>Reg</td>\n",
       "      <td>Lvl</td>\n",
       "      <td>AllPub</td>\n",
       "      <td>Inside</td>\n",
       "      <td>...</td>\n",
       "      <td>Single_Story</td>\n",
       "      <td>2</td>\n",
       "      <td>60s_70s</td>\n",
       "      <td>60s_70s</td>\n",
       "      <td>46</td>\n",
       "      <td>Basic</td>\n",
       "      <td>0</td>\n",
       "      <td>Plywood_Plywood</td>\n",
       "      <td>High</td>\n",
       "      <td>2.0</td>\n",
       "    </tr>\n",
       "  </tbody>\n",
       "</table>\n",
       "<p>8 rows × 113 columns</p>\n",
       "</div>"
      ]
     },
     "execution_count": 841,
     "metadata": {},
     "output_type": "execute_result"
    }
   ],
   "execution_count": 841
  },
  {
   "metadata": {
    "ExecuteTime": {
     "end_time": "2025-07-17T12:34:24.570950Z",
     "start_time": "2025-07-17T12:34:24.561099Z"
    }
   },
   "cell_type": "code",
   "source": [
    "# Find mode type where MasVnrArea > 0\n",
    "most_common_type = df.loc[df['MasVnrArea'] > 0, 'MasVnrType'].mode()[0]\n",
    "\n",
    "# Fix inconsistency rows\n",
    "df.loc[(df['MasVnrType'] == 'None') & (df['MasVnrArea'] > 0), 'MasVnrType'] = most_common_type\n"
   ],
   "id": "a8d4b159480d9f51",
   "outputs": [],
   "execution_count": 842
  },
  {
   "metadata": {
    "ExecuteTime": {
     "end_time": "2025-07-17T12:34:24.653405Z",
     "start_time": "2025-07-17T12:34:24.636651Z"
    }
   },
   "cell_type": "code",
   "source": [
    "masonry_price = df.groupby('MasVnrType')['SalePrice'].mean()\n",
    "masonry_bins = pd.qcut(masonry_price, q=3, labels=['Basic', 'Mid', 'Luxury'])\n",
    "masonry_map = masonry_bins.to_dict()\n",
    "\n",
    "df['MasVnrType_binned'] = df['MasVnrType'].map(masonry_map)\n",
    "type_encode = {'Basic': 0, 'Mid': 1, 'Luxury': 2}\n",
    "df['MasVnrType_encoded'] = df['MasVnrType_binned'].map(type_encode)\n"
   ],
   "id": "65fe43cc7cdb82f7",
   "outputs": [],
   "execution_count": 843
  },
  {
   "metadata": {
    "ExecuteTime": {
     "end_time": "2025-07-17T12:34:25.150114Z",
     "start_time": "2025-07-17T12:34:25.123971Z"
    }
   },
   "cell_type": "code",
   "source": "df.head()",
   "id": "f67b2450146e90da",
   "outputs": [
    {
     "data": {
      "text/plain": [
       "   MSSubClass MSZoning  LotFrontage  LotArea Street Alley LotShape  \\\n",
       "0          60       RL         65.0     8450   Pave   NaN      Reg   \n",
       "1          20       RL         80.0     9600   Pave   NaN      Reg   \n",
       "2          60       RL         68.0    11250   Pave   NaN      IR1   \n",
       "3          70       RL         60.0     9550   Pave   NaN      IR1   \n",
       "4          60       RL         84.0    14260   Pave   NaN      IR1   \n",
       "\n",
       "  LandContour Utilities LotConfig  ... YearBuilt_binned YearRemodAdd_binned  \\\n",
       "0         Lvl    AllPub    Inside  ...            2000s               2000s   \n",
       "1         Lvl    AllPub       FR2  ...          60s_70s             60s_70s   \n",
       "2         Lvl    AllPub    Inside  ...            2000s               2000s   \n",
       "3         Lvl    AllPub    Corner  ...         Pre_1940             60s_70s   \n",
       "4         Lvl    AllPub       FR2  ...            2000s               2000s   \n",
       "\n",
       "  YearsSinceRemod RoofStyle_binned RoofStyle_encoded    ExteriorCombo  \\\n",
       "0               5            Basic                 0  VinylSd_VinylSd   \n",
       "1              31            Basic                 0  MetalSd_MetalSd   \n",
       "2               6            Basic                 0  VinylSd_VinylSd   \n",
       "3              36            Basic                 0  Wd Sdng_Wd Shng   \n",
       "4               8            Basic                 0  VinylSd_VinylSd   \n",
       "\n",
       "   ExteriorCombo_binned  ExteriorCombo_encoded  MasVnrType_binned  \\\n",
       "0                 Elite                    3.0             Luxury   \n",
       "1                  High                    2.0              Basic   \n",
       "2                 Elite                    3.0             Luxury   \n",
       "3                   Med                    1.0              Basic   \n",
       "4                 Elite                    3.0             Luxury   \n",
       "\n",
       "   MasVnrType_encoded  \n",
       "0                   2  \n",
       "1                   0  \n",
       "2                   2  \n",
       "3                   0  \n",
       "4                   2  \n",
       "\n",
       "[5 rows x 115 columns]"
      ],
      "text/html": [
       "<div>\n",
       "<style scoped>\n",
       "    .dataframe tbody tr th:only-of-type {\n",
       "        vertical-align: middle;\n",
       "    }\n",
       "\n",
       "    .dataframe tbody tr th {\n",
       "        vertical-align: top;\n",
       "    }\n",
       "\n",
       "    .dataframe thead th {\n",
       "        text-align: right;\n",
       "    }\n",
       "</style>\n",
       "<table border=\"1\" class=\"dataframe\">\n",
       "  <thead>\n",
       "    <tr style=\"text-align: right;\">\n",
       "      <th></th>\n",
       "      <th>MSSubClass</th>\n",
       "      <th>MSZoning</th>\n",
       "      <th>LotFrontage</th>\n",
       "      <th>LotArea</th>\n",
       "      <th>Street</th>\n",
       "      <th>Alley</th>\n",
       "      <th>LotShape</th>\n",
       "      <th>LandContour</th>\n",
       "      <th>Utilities</th>\n",
       "      <th>LotConfig</th>\n",
       "      <th>...</th>\n",
       "      <th>YearBuilt_binned</th>\n",
       "      <th>YearRemodAdd_binned</th>\n",
       "      <th>YearsSinceRemod</th>\n",
       "      <th>RoofStyle_binned</th>\n",
       "      <th>RoofStyle_encoded</th>\n",
       "      <th>ExteriorCombo</th>\n",
       "      <th>ExteriorCombo_binned</th>\n",
       "      <th>ExteriorCombo_encoded</th>\n",
       "      <th>MasVnrType_binned</th>\n",
       "      <th>MasVnrType_encoded</th>\n",
       "    </tr>\n",
       "  </thead>\n",
       "  <tbody>\n",
       "    <tr>\n",
       "      <th>0</th>\n",
       "      <td>60</td>\n",
       "      <td>RL</td>\n",
       "      <td>65.0</td>\n",
       "      <td>8450</td>\n",
       "      <td>Pave</td>\n",
       "      <td>NaN</td>\n",
       "      <td>Reg</td>\n",
       "      <td>Lvl</td>\n",
       "      <td>AllPub</td>\n",
       "      <td>Inside</td>\n",
       "      <td>...</td>\n",
       "      <td>2000s</td>\n",
       "      <td>2000s</td>\n",
       "      <td>5</td>\n",
       "      <td>Basic</td>\n",
       "      <td>0</td>\n",
       "      <td>VinylSd_VinylSd</td>\n",
       "      <td>Elite</td>\n",
       "      <td>3.0</td>\n",
       "      <td>Luxury</td>\n",
       "      <td>2</td>\n",
       "    </tr>\n",
       "    <tr>\n",
       "      <th>1</th>\n",
       "      <td>20</td>\n",
       "      <td>RL</td>\n",
       "      <td>80.0</td>\n",
       "      <td>9600</td>\n",
       "      <td>Pave</td>\n",
       "      <td>NaN</td>\n",
       "      <td>Reg</td>\n",
       "      <td>Lvl</td>\n",
       "      <td>AllPub</td>\n",
       "      <td>FR2</td>\n",
       "      <td>...</td>\n",
       "      <td>60s_70s</td>\n",
       "      <td>60s_70s</td>\n",
       "      <td>31</td>\n",
       "      <td>Basic</td>\n",
       "      <td>0</td>\n",
       "      <td>MetalSd_MetalSd</td>\n",
       "      <td>High</td>\n",
       "      <td>2.0</td>\n",
       "      <td>Basic</td>\n",
       "      <td>0</td>\n",
       "    </tr>\n",
       "    <tr>\n",
       "      <th>2</th>\n",
       "      <td>60</td>\n",
       "      <td>RL</td>\n",
       "      <td>68.0</td>\n",
       "      <td>11250</td>\n",
       "      <td>Pave</td>\n",
       "      <td>NaN</td>\n",
       "      <td>IR1</td>\n",
       "      <td>Lvl</td>\n",
       "      <td>AllPub</td>\n",
       "      <td>Inside</td>\n",
       "      <td>...</td>\n",
       "      <td>2000s</td>\n",
       "      <td>2000s</td>\n",
       "      <td>6</td>\n",
       "      <td>Basic</td>\n",
       "      <td>0</td>\n",
       "      <td>VinylSd_VinylSd</td>\n",
       "      <td>Elite</td>\n",
       "      <td>3.0</td>\n",
       "      <td>Luxury</td>\n",
       "      <td>2</td>\n",
       "    </tr>\n",
       "    <tr>\n",
       "      <th>3</th>\n",
       "      <td>70</td>\n",
       "      <td>RL</td>\n",
       "      <td>60.0</td>\n",
       "      <td>9550</td>\n",
       "      <td>Pave</td>\n",
       "      <td>NaN</td>\n",
       "      <td>IR1</td>\n",
       "      <td>Lvl</td>\n",
       "      <td>AllPub</td>\n",
       "      <td>Corner</td>\n",
       "      <td>...</td>\n",
       "      <td>Pre_1940</td>\n",
       "      <td>60s_70s</td>\n",
       "      <td>36</td>\n",
       "      <td>Basic</td>\n",
       "      <td>0</td>\n",
       "      <td>Wd Sdng_Wd Shng</td>\n",
       "      <td>Med</td>\n",
       "      <td>1.0</td>\n",
       "      <td>Basic</td>\n",
       "      <td>0</td>\n",
       "    </tr>\n",
       "    <tr>\n",
       "      <th>4</th>\n",
       "      <td>60</td>\n",
       "      <td>RL</td>\n",
       "      <td>84.0</td>\n",
       "      <td>14260</td>\n",
       "      <td>Pave</td>\n",
       "      <td>NaN</td>\n",
       "      <td>IR1</td>\n",
       "      <td>Lvl</td>\n",
       "      <td>AllPub</td>\n",
       "      <td>FR2</td>\n",
       "      <td>...</td>\n",
       "      <td>2000s</td>\n",
       "      <td>2000s</td>\n",
       "      <td>8</td>\n",
       "      <td>Basic</td>\n",
       "      <td>0</td>\n",
       "      <td>VinylSd_VinylSd</td>\n",
       "      <td>Elite</td>\n",
       "      <td>3.0</td>\n",
       "      <td>Luxury</td>\n",
       "      <td>2</td>\n",
       "    </tr>\n",
       "  </tbody>\n",
       "</table>\n",
       "<p>5 rows × 115 columns</p>\n",
       "</div>"
      ]
     },
     "execution_count": 844,
     "metadata": {},
     "output_type": "execute_result"
    }
   ],
   "execution_count": 844
  },
  {
   "metadata": {
    "ExecuteTime": {
     "end_time": "2025-07-17T12:34:25.398969Z",
     "start_time": "2025-07-17T12:34:25.385024Z"
    }
   },
   "cell_type": "code",
   "source": [
    "ordinal_map = {'Po': 0, 'Fa': 1, 'TA': 2, 'Gd': 3, 'Ex': 4}\n",
    "\n",
    "df['ExterQual_encoded'] = df['ExterQual'].map(ordinal_map)\n",
    "df['ExterCond_encoded'] = df['ExterCond'].map(ordinal_map)\n"
   ],
   "id": "c799bac5cc03655a",
   "outputs": [],
   "execution_count": 845
  },
  {
   "metadata": {
    "ExecuteTime": {
     "end_time": "2025-07-17T12:34:25.489935Z",
     "start_time": "2025-07-17T12:34:25.478535Z"
    }
   },
   "cell_type": "code",
   "source": [
    "def foundation_binner(x):\n",
    "    if x in ['Wood', 'Stone']:\n",
    "        return 'Basic'\n",
    "    elif x in ['Slab', 'CBlock']:\n",
    "        return 'Mid'\n",
    "    else:\n",
    "        return 'Strong'\n",
    "\n",
    "df['Foundation_binned'] = df['Foundation'].apply(foundation_binner)\n",
    "df['Foundation_encoded'] = df['Foundation_binned'].map({'Basic': 0, 'Mid': 1, 'Strong': 2})\n"
   ],
   "id": "b4c11f6acfeb5e05",
   "outputs": [],
   "execution_count": 846
  },
  {
   "metadata": {
    "ExecuteTime": {
     "end_time": "2025-07-17T12:34:25.942015Z",
     "start_time": "2025-07-17T12:34:25.924413Z"
    }
   },
   "cell_type": "code",
   "source": [
    "# Step 0: Fill all NA values in ordinal basement features with 'NA' string\n",
    "bsmt_ordinal_cols = ['BsmtQual', 'BsmtCond', 'BsmtExposure', 'BsmtFinType1', 'BsmtFinType2']\n",
    "df[bsmt_ordinal_cols] = df[bsmt_ordinal_cols].fillna('NA')"
   ],
   "id": "3e09dc253464f57d",
   "outputs": [],
   "execution_count": 847
  },
  {
   "metadata": {
    "ExecuteTime": {
     "end_time": "2025-07-17T12:34:26.415658Z",
     "start_time": "2025-07-17T12:34:26.409192Z"
    }
   },
   "cell_type": "code",
   "source": [
    "# Step 1: Define mappings for ordinal basement features\n",
    "bsmt_qual_map = {'Ex': 5, 'Gd': 4, 'TA': 3, 'Fa': 2, 'Po': 1, 'NA': 0}\n",
    "bsmt_cond_map = {'Ex': 5, 'Gd': 4, 'TA': 3, 'Fa': 2, 'Po': 1, 'NA': 0}\n",
    "bsmt_expo_map = {'Gd': 3, 'Av': 2, 'Mn': 1, 'No': 0, 'NA': 0}\n",
    "bsmt_fintype_map = {'GLQ': 6, 'ALQ': 5, 'BLQ': 4, 'Rec': 3, 'LwQ': 2, 'Unf': 1, 'NA': 0}\n"
   ],
   "id": "9704a4a4929b0cec",
   "outputs": [],
   "execution_count": 848
  },
  {
   "metadata": {
    "ExecuteTime": {
     "end_time": "2025-07-17T12:34:26.540803Z",
     "start_time": "2025-07-17T12:34:26.529519Z"
    }
   },
   "cell_type": "code",
   "source": [
    "# Step 2: Apply mapping to each column\n",
    "df['BsmtQual_encoded'] = df['BsmtQual'].map(bsmt_qual_map)\n",
    "df['BsmtCond_encoded'] = df['BsmtCond'].map(bsmt_cond_map)\n",
    "df['BsmtExposure_encoded'] = df['BsmtExposure'].map(bsmt_expo_map)\n",
    "df['BsmtFinType1_encoded'] = df['BsmtFinType1'].map(bsmt_fintype_map)\n",
    "df['BsmtFinType2_encoded'] = df['BsmtFinType2'].map(bsmt_fintype_map)"
   ],
   "id": "f6bda75139afcd5c",
   "outputs": [],
   "execution_count": 849
  },
  {
   "metadata": {
    "ExecuteTime": {
     "end_time": "2025-07-17T12:34:26.555169Z",
     "start_time": "2025-07-17T12:34:26.548514Z"
    }
   },
   "cell_type": "code",
   "source": [
    "# Step 3: Handle the numerical basement area columns\n",
    "bsmt_area_cols = ['BsmtFinSF1', 'BsmtFinSF2', 'BsmtUnfSF', 'TotalBsmtSF']\n",
    "df[bsmt_area_cols] = df[bsmt_area_cols].fillna(0)"
   ],
   "id": "901f4f9bc739bf3d",
   "outputs": [],
   "execution_count": 850
  },
  {
   "metadata": {
    "ExecuteTime": {
     "end_time": "2025-07-17T12:34:26.671770Z",
     "start_time": "2025-07-17T12:34:26.662496Z"
    }
   },
   "cell_type": "code",
   "source": [
    "#combined features hehe\n",
    "df['TotalBsmtFinSF'] = df['BsmtFinSF1'] + df['BsmtFinSF2']\n",
    "df['BsmtOverallQual'] = df['BsmtQual_encoded'] + df['BsmtCond_encoded']"
   ],
   "id": "5740d80d15ad6f39",
   "outputs": [],
   "execution_count": 851
  },
  {
   "metadata": {
    "ExecuteTime": {
     "end_time": "2025-07-17T12:34:26.830798Z",
     "start_time": "2025-07-17T12:34:26.812297Z"
    }
   },
   "cell_type": "code",
   "source": "df.isnull().sum()",
   "id": "ed5acb5482361224",
   "outputs": [
    {
     "data": {
      "text/plain": [
       "MSSubClass              0\n",
       "MSZoning                0\n",
       "LotFrontage             0\n",
       "LotArea                 0\n",
       "Street                  0\n",
       "                       ..\n",
       "BsmtExposure_encoded    0\n",
       "BsmtFinType1_encoded    0\n",
       "BsmtFinType2_encoded    0\n",
       "TotalBsmtFinSF          0\n",
       "BsmtOverallQual         0\n",
       "Length: 126, dtype: int64"
      ]
     },
     "execution_count": 852,
     "metadata": {},
     "output_type": "execute_result"
    }
   ],
   "execution_count": 852
  },
  {
   "metadata": {
    "ExecuteTime": {
     "end_time": "2025-07-17T12:34:27.011803Z",
     "start_time": "2025-07-17T12:34:27.001380Z"
    }
   },
   "cell_type": "code",
   "source": "df['Heating'].value_counts()",
   "id": "44fdabc50e4d305",
   "outputs": [
    {
     "data": {
      "text/plain": [
       "Heating\n",
       "GasA     2874\n",
       "GasW       27\n",
       "Grav        9\n",
       "Wall        6\n",
       "OthW        2\n",
       "Floor       1\n",
       "Name: count, dtype: int64"
      ]
     },
     "execution_count": 853,
     "metadata": {},
     "output_type": "execute_result"
    }
   ],
   "execution_count": 853
  },
  {
   "metadata": {
    "ExecuteTime": {
     "end_time": "2025-07-17T12:34:27.133848Z",
     "start_time": "2025-07-17T12:34:27.125708Z"
    }
   },
   "cell_type": "code",
   "source": [
    "heating_map = {'Ex': 5, 'Gd': 4, 'TA': 3, 'Fa': 2, 'Po': 1}\n",
    "df['HeatingQC_encoded'] = df['HeatingQC'].map(heating_map)\n"
   ],
   "id": "aaa3901568d02b35",
   "outputs": [],
   "execution_count": 854
  },
  {
   "metadata": {
    "ExecuteTime": {
     "end_time": "2025-07-17T12:34:27.245982Z",
     "start_time": "2025-07-17T12:34:27.237350Z"
    }
   },
   "cell_type": "code",
   "source": "df['CentralAir_encoded'] = df['CentralAir'].map({'Y': 1, 'N': 0})\n",
   "id": "c49529a0352c396b",
   "outputs": [],
   "execution_count": 855
  },
  {
   "metadata": {
    "ExecuteTime": {
     "end_time": "2025-07-17T12:34:27.497961Z",
     "start_time": "2025-07-17T12:34:27.468861Z"
    }
   },
   "cell_type": "code",
   "source": [
    "df['Electrical'] = df['Electrical'].fillna(df['Electrical'].mode()[0])\n",
    "df = pd.get_dummies(df, columns=['Electrical'], prefix='Elec')  # or label encode if preferred\n"
   ],
   "id": "fe01974b1cf68405",
   "outputs": [],
   "execution_count": 856
  },
  {
   "metadata": {
    "ExecuteTime": {
     "end_time": "2025-07-17T12:34:27.508527Z",
     "start_time": "2025-07-17T12:34:27.504141Z"
    }
   },
   "cell_type": "code",
   "source": "#we can drop heating due to low variance",
   "id": "d9711bcc8dfa7a8",
   "outputs": [],
   "execution_count": 857
  },
  {
   "metadata": {
    "ExecuteTime": {
     "end_time": "2025-07-17T12:34:27.662306Z",
     "start_time": "2025-07-17T12:34:27.639727Z"
    }
   },
   "cell_type": "code",
   "source": "df.head()",
   "id": "3a4f7bf32829f449",
   "outputs": [
    {
     "data": {
      "text/plain": [
       "   MSSubClass MSZoning  LotFrontage  LotArea Street Alley LotShape  \\\n",
       "0          60       RL         65.0     8450   Pave   NaN      Reg   \n",
       "1          20       RL         80.0     9600   Pave   NaN      Reg   \n",
       "2          60       RL         68.0    11250   Pave   NaN      IR1   \n",
       "3          70       RL         60.0     9550   Pave   NaN      IR1   \n",
       "4          60       RL         84.0    14260   Pave   NaN      IR1   \n",
       "\n",
       "  LandContour Utilities LotConfig  ... BsmtFinType2_encoded TotalBsmtFinSF  \\\n",
       "0         Lvl    AllPub    Inside  ...                    1          706.0   \n",
       "1         Lvl    AllPub       FR2  ...                    1          978.0   \n",
       "2         Lvl    AllPub    Inside  ...                    1          486.0   \n",
       "3         Lvl    AllPub    Corner  ...                    1          216.0   \n",
       "4         Lvl    AllPub       FR2  ...                    1          655.0   \n",
       "\n",
       "  BsmtOverallQual HeatingQC_encoded CentralAir_encoded Elec_FuseA  Elec_FuseF  \\\n",
       "0               7                 5                  1      False       False   \n",
       "1               7                 5                  1      False       False   \n",
       "2               7                 5                  1      False       False   \n",
       "3               7                 4                  1      False       False   \n",
       "4               7                 5                  1      False       False   \n",
       "\n",
       "   Elec_FuseP  Elec_Mix  Elec_SBrkr  \n",
       "0       False     False        True  \n",
       "1       False     False        True  \n",
       "2       False     False        True  \n",
       "3       False     False        True  \n",
       "4       False     False        True  \n",
       "\n",
       "[5 rows x 132 columns]"
      ],
      "text/html": [
       "<div>\n",
       "<style scoped>\n",
       "    .dataframe tbody tr th:only-of-type {\n",
       "        vertical-align: middle;\n",
       "    }\n",
       "\n",
       "    .dataframe tbody tr th {\n",
       "        vertical-align: top;\n",
       "    }\n",
       "\n",
       "    .dataframe thead th {\n",
       "        text-align: right;\n",
       "    }\n",
       "</style>\n",
       "<table border=\"1\" class=\"dataframe\">\n",
       "  <thead>\n",
       "    <tr style=\"text-align: right;\">\n",
       "      <th></th>\n",
       "      <th>MSSubClass</th>\n",
       "      <th>MSZoning</th>\n",
       "      <th>LotFrontage</th>\n",
       "      <th>LotArea</th>\n",
       "      <th>Street</th>\n",
       "      <th>Alley</th>\n",
       "      <th>LotShape</th>\n",
       "      <th>LandContour</th>\n",
       "      <th>Utilities</th>\n",
       "      <th>LotConfig</th>\n",
       "      <th>...</th>\n",
       "      <th>BsmtFinType2_encoded</th>\n",
       "      <th>TotalBsmtFinSF</th>\n",
       "      <th>BsmtOverallQual</th>\n",
       "      <th>HeatingQC_encoded</th>\n",
       "      <th>CentralAir_encoded</th>\n",
       "      <th>Elec_FuseA</th>\n",
       "      <th>Elec_FuseF</th>\n",
       "      <th>Elec_FuseP</th>\n",
       "      <th>Elec_Mix</th>\n",
       "      <th>Elec_SBrkr</th>\n",
       "    </tr>\n",
       "  </thead>\n",
       "  <tbody>\n",
       "    <tr>\n",
       "      <th>0</th>\n",
       "      <td>60</td>\n",
       "      <td>RL</td>\n",
       "      <td>65.0</td>\n",
       "      <td>8450</td>\n",
       "      <td>Pave</td>\n",
       "      <td>NaN</td>\n",
       "      <td>Reg</td>\n",
       "      <td>Lvl</td>\n",
       "      <td>AllPub</td>\n",
       "      <td>Inside</td>\n",
       "      <td>...</td>\n",
       "      <td>1</td>\n",
       "      <td>706.0</td>\n",
       "      <td>7</td>\n",
       "      <td>5</td>\n",
       "      <td>1</td>\n",
       "      <td>False</td>\n",
       "      <td>False</td>\n",
       "      <td>False</td>\n",
       "      <td>False</td>\n",
       "      <td>True</td>\n",
       "    </tr>\n",
       "    <tr>\n",
       "      <th>1</th>\n",
       "      <td>20</td>\n",
       "      <td>RL</td>\n",
       "      <td>80.0</td>\n",
       "      <td>9600</td>\n",
       "      <td>Pave</td>\n",
       "      <td>NaN</td>\n",
       "      <td>Reg</td>\n",
       "      <td>Lvl</td>\n",
       "      <td>AllPub</td>\n",
       "      <td>FR2</td>\n",
       "      <td>...</td>\n",
       "      <td>1</td>\n",
       "      <td>978.0</td>\n",
       "      <td>7</td>\n",
       "      <td>5</td>\n",
       "      <td>1</td>\n",
       "      <td>False</td>\n",
       "      <td>False</td>\n",
       "      <td>False</td>\n",
       "      <td>False</td>\n",
       "      <td>True</td>\n",
       "    </tr>\n",
       "    <tr>\n",
       "      <th>2</th>\n",
       "      <td>60</td>\n",
       "      <td>RL</td>\n",
       "      <td>68.0</td>\n",
       "      <td>11250</td>\n",
       "      <td>Pave</td>\n",
       "      <td>NaN</td>\n",
       "      <td>IR1</td>\n",
       "      <td>Lvl</td>\n",
       "      <td>AllPub</td>\n",
       "      <td>Inside</td>\n",
       "      <td>...</td>\n",
       "      <td>1</td>\n",
       "      <td>486.0</td>\n",
       "      <td>7</td>\n",
       "      <td>5</td>\n",
       "      <td>1</td>\n",
       "      <td>False</td>\n",
       "      <td>False</td>\n",
       "      <td>False</td>\n",
       "      <td>False</td>\n",
       "      <td>True</td>\n",
       "    </tr>\n",
       "    <tr>\n",
       "      <th>3</th>\n",
       "      <td>70</td>\n",
       "      <td>RL</td>\n",
       "      <td>60.0</td>\n",
       "      <td>9550</td>\n",
       "      <td>Pave</td>\n",
       "      <td>NaN</td>\n",
       "      <td>IR1</td>\n",
       "      <td>Lvl</td>\n",
       "      <td>AllPub</td>\n",
       "      <td>Corner</td>\n",
       "      <td>...</td>\n",
       "      <td>1</td>\n",
       "      <td>216.0</td>\n",
       "      <td>7</td>\n",
       "      <td>4</td>\n",
       "      <td>1</td>\n",
       "      <td>False</td>\n",
       "      <td>False</td>\n",
       "      <td>False</td>\n",
       "      <td>False</td>\n",
       "      <td>True</td>\n",
       "    </tr>\n",
       "    <tr>\n",
       "      <th>4</th>\n",
       "      <td>60</td>\n",
       "      <td>RL</td>\n",
       "      <td>84.0</td>\n",
       "      <td>14260</td>\n",
       "      <td>Pave</td>\n",
       "      <td>NaN</td>\n",
       "      <td>IR1</td>\n",
       "      <td>Lvl</td>\n",
       "      <td>AllPub</td>\n",
       "      <td>FR2</td>\n",
       "      <td>...</td>\n",
       "      <td>1</td>\n",
       "      <td>655.0</td>\n",
       "      <td>7</td>\n",
       "      <td>5</td>\n",
       "      <td>1</td>\n",
       "      <td>False</td>\n",
       "      <td>False</td>\n",
       "      <td>False</td>\n",
       "      <td>False</td>\n",
       "      <td>True</td>\n",
       "    </tr>\n",
       "  </tbody>\n",
       "</table>\n",
       "<p>5 rows × 132 columns</p>\n",
       "</div>"
      ]
     },
     "execution_count": 858,
     "metadata": {},
     "output_type": "execute_result"
    }
   ],
   "execution_count": 858
  },
  {
   "metadata": {
    "ExecuteTime": {
     "end_time": "2025-07-17T12:34:27.903362Z",
     "start_time": "2025-07-17T12:34:27.895701Z"
    }
   },
   "cell_type": "code",
   "source": [
    "df['BsmtFullBath'] = df['BsmtFullBath'].fillna(0)\n",
    "df['BsmtHalfBath'] = df['BsmtHalfBath'].fillna(0)\n"
   ],
   "id": "47c1c895f94e1871",
   "outputs": [],
   "execution_count": 859
  },
  {
   "metadata": {
    "ExecuteTime": {
     "end_time": "2025-07-17T12:34:27.974266Z",
     "start_time": "2025-07-17T12:34:27.966414Z"
    }
   },
   "cell_type": "code",
   "source": [
    "df['TotalLivingSF'] = df['GrLivArea'] + df['TotalBsmtSF']\n",
    "#to prevent data leakage  GrLivArea, 1stFlrSF, 2ndFlrSF"
   ],
   "id": "f537ff36e763d4d6",
   "outputs": [],
   "execution_count": 860
  },
  {
   "metadata": {
    "ExecuteTime": {
     "end_time": "2025-07-17T12:34:28.480829Z",
     "start_time": "2025-07-17T12:34:28.474302Z"
    }
   },
   "cell_type": "code",
   "source": [
    "df['HouseAge'] = df['YrSold'] - df['YearBuilt']\n",
    "df['RemodAge'] = df['YrSold'] - df['YearRemodAdd']\n"
   ],
   "id": "6867fdaffd72a0f",
   "outputs": [],
   "execution_count": 861
  },
  {
   "metadata": {
    "ExecuteTime": {
     "end_time": "2025-07-17T12:34:28.643299Z",
     "start_time": "2025-07-17T12:34:28.637105Z"
    }
   },
   "cell_type": "code",
   "source": "df['GarageScore'] = df['GarageCars'] * df['GarageArea']\n",
   "id": "272a860775d0d21",
   "outputs": [],
   "execution_count": 862
  },
  {
   "metadata": {
    "ExecuteTime": {
     "end_time": "2025-07-17T12:34:28.865606Z",
     "start_time": "2025-07-17T12:34:28.859032Z"
    }
   },
   "cell_type": "code",
   "source": [
    "KitchenQual_map = {\n",
    "    'Ex': 5,\n",
    "    'Gd': 4,\n",
    "    'TA': 3,\n",
    "    'Fa': 2,\n",
    "    'Po': 1\n",
    "}\n",
    "df['KitchenQual_encoded'] = df['KitchenQual'].map(KitchenQual_map)\n"
   ],
   "id": "58c8ee80d0b60944",
   "outputs": [],
   "execution_count": 863
  },
  {
   "metadata": {
    "ExecuteTime": {
     "end_time": "2025-07-17T12:34:28.878986Z",
     "start_time": "2025-07-17T12:34:28.870593Z"
    }
   },
   "cell_type": "code",
   "source": [
    "functional_map = {\n",
    "    'Sal': 0,  # Salvage only\n",
    "    'Sev': 1,  # Severely Damaged\n",
    "    'Maj2': 2, # Major Deductions 2\n",
    "    'Maj1': 3, # Major Deductions 1\n",
    "    'Mod': 4,  # Moderate Deductions\n",
    "    'Min2': 5, # Minor Deductions 2\n",
    "    'Min1': 6, # Minor Deductions 1\n",
    "    'Typ': 7   # Typical\n",
    "}\n",
    "df['Functional_encoded'] = df['Functional'].map(functional_map)\n"
   ],
   "id": "b57372ec60d7ecbe",
   "outputs": [],
   "execution_count": 864
  },
  {
   "metadata": {
    "ExecuteTime": {
     "end_time": "2025-07-17T12:34:29.091528Z",
     "start_time": "2025-07-17T12:34:29.085553Z"
    }
   },
   "cell_type": "code",
   "source": "df['Functional'] = df['Functional'].fillna('Typ')\n",
   "id": "643fbe03ac8e8dbe",
   "outputs": [],
   "execution_count": 865
  },
  {
   "metadata": {
    "ExecuteTime": {
     "end_time": "2025-07-17T12:34:29.202579Z",
     "start_time": "2025-07-17T12:34:29.196443Z"
    }
   },
   "cell_type": "code",
   "source": [
    "fireplace_map = {\n",
    "    'Ex': 5,\n",
    "    'Gd': 4,\n",
    "    'TA': 3,\n",
    "    'Fa': 2,\n",
    "    'Po': 1,\n",
    "    np.nan: 0  # or 'NA' if it exists as a string\n",
    "}\n",
    "df['FireplaceQu_encoded'] = df['FireplaceQu'].map(fireplace_map)\n"
   ],
   "id": "627a4c8df8b5b028",
   "outputs": [],
   "execution_count": 866
  },
  {
   "metadata": {
    "ExecuteTime": {
     "end_time": "2025-07-17T12:34:29.215394Z",
     "start_time": "2025-07-17T12:34:29.210440Z"
    }
   },
   "cell_type": "code",
   "source": [
    "df['GarageCars'] = df['GarageCars'].fillna(0)\n",
    "df['GarageArea'] = df['GarageArea'].fillna(0)\n"
   ],
   "id": "89d9cdf4d906dc23",
   "outputs": [],
   "execution_count": 867
  },
  {
   "metadata": {
    "ExecuteTime": {
     "end_time": "2025-07-17T12:34:29.320024Z",
     "start_time": "2025-07-17T12:34:29.311630Z"
    }
   },
   "cell_type": "code",
   "source": [
    "# 1️⃣ Fill nulls with 'NoGarage' for categorical garage features\n",
    "garage_cat_cols = ['GarageType', 'GarageFinish', 'GarageQual', 'GarageCond']\n",
    "for col in garage_cat_cols:\n",
    "    df[col] = df[col].fillna('NoGarage')"
   ],
   "id": "d83ab0f37ec52574",
   "outputs": [],
   "execution_count": 868
  },
  {
   "metadata": {
    "ExecuteTime": {
     "end_time": "2025-07-17T12:34:29.425617Z",
     "start_time": "2025-07-17T12:34:29.421871Z"
    }
   },
   "cell_type": "code",
   "source": [
    "# 2️⃣ Map ordinal values\n",
    "garage_finish_map = {'Fin': 3, 'RFn': 2, 'Unf': 1, 'NoGarage': 0}\n",
    "garage_qualcond_map = {'Ex': 5, 'Gd': 4, 'TA': 3, 'Fa': 2, 'Po': 1, 'NoGarage': 0}\n"
   ],
   "id": "8e3f22e760e5367a",
   "outputs": [],
   "execution_count": 869
  },
  {
   "metadata": {
    "ExecuteTime": {
     "end_time": "2025-07-17T12:34:29.533166Z",
     "start_time": "2025-07-17T12:34:29.524653Z"
    }
   },
   "cell_type": "code",
   "source": [
    "df['GarageFinish_encoded'] = df['GarageFinish'].map(garage_finish_map)\n",
    "df['GarageQual_encoded'] = df['GarageQual'].map(garage_qualcond_map)\n",
    "df['GarageCond_encoded'] = df['GarageCond'].map(garage_qualcond_map)"
   ],
   "id": "b98fe9818523df74",
   "outputs": [],
   "execution_count": 870
  },
  {
   "metadata": {
    "ExecuteTime": {
     "end_time": "2025-07-17T12:34:29.637293Z",
     "start_time": "2025-07-17T12:34:29.630269Z"
    }
   },
   "cell_type": "code",
   "source": [
    "# 3️⃣ Fill numerical nulls with 0 (No Garage)\n",
    "df['GarageYrBlt'] = df['GarageYrBlt'].fillna(0)\n",
    "df['GarageCars'] = df['GarageCars'].fillna(0)\n",
    "df['GarageArea'] = df['GarageArea'].fillna(0)"
   ],
   "id": "3aa6908981cfa8be",
   "outputs": [],
   "execution_count": 871
  },
  {
   "metadata": {
    "ExecuteTime": {
     "end_time": "2025-07-17T12:34:29.845653Z",
     "start_time": "2025-07-17T12:34:29.829719Z"
    }
   },
   "cell_type": "code",
   "source": [
    "#  drop original columns if encoded\n",
    "df.drop(['GarageFinish', 'GarageQual', 'GarageCond'], axis=1, inplace=True)"
   ],
   "id": "b1cc8a7c09d27ec2",
   "outputs": [],
   "execution_count": 872
  },
  {
   "metadata": {
    "ExecuteTime": {
     "end_time": "2025-07-17T12:34:29.860460Z",
     "start_time": "2025-07-17T12:34:29.852758Z"
    }
   },
   "cell_type": "code",
   "source": [
    "# Fill NA with 'NoPool' and map ordinally\n",
    "df['PoolQC'] = df['PoolQC'].fillna('NoPool')\n",
    "poolqc_map = {'Ex': 4, 'Gd': 3, 'TA': 2, 'Fa': 1, 'NoPool': 0}\n",
    "df['PoolQC_encoded'] = df['PoolQC'].map(poolqc_map)\n"
   ],
   "id": "e428cc62f17c57f6",
   "outputs": [],
   "execution_count": 873
  },
  {
   "metadata": {
    "ExecuteTime": {
     "end_time": "2025-07-17T12:34:29.974763Z",
     "start_time": "2025-07-17T12:34:29.965031Z"
    }
   },
   "cell_type": "code",
   "source": [
    "# Fill NA with 'NoFence' and map\n",
    "df['Fence'] = df['Fence'].fillna('NoFence')\n",
    "fence_map = {\n",
    "    'GdPrv': 4,  # Good Privacy\n",
    "    'MnPrv': 3,  # Minimum Privacy\n",
    "    'GdWo': 2,   # Good Wood\n",
    "    'MnWw': 1,   # Min Wood/Wire\n",
    "    'NoFence': 0\n",
    "}\n",
    "df['Fence_encoded'] = df['Fence'].map(fence_map)\n"
   ],
   "id": "ea0deec1343306e8",
   "outputs": [],
   "execution_count": 874
  },
  {
   "metadata": {
    "ExecuteTime": {
     "end_time": "2025-07-17T12:34:30.092783Z",
     "start_time": "2025-07-17T12:34:30.071861Z"
    }
   },
   "cell_type": "code",
   "source": [
    "# Fill NA with 'None'\n",
    "df['MiscFeature'] = df['MiscFeature'].fillna('None')\n",
    "\n",
    "# Optionally One-Hot Encode since it's not ordinal\n",
    "# If you prefer binning, we can also do that.\n",
    "# Here's One-Hot:\n",
    "df = pd.get_dummies(df, columns=['MiscFeature'], prefix='Misc')\n"
   ],
   "id": "86b6f3fe275719e9",
   "outputs": [],
   "execution_count": 875
  },
  {
   "metadata": {
    "ExecuteTime": {
     "end_time": "2025-07-17T12:34:30.215870Z",
     "start_time": "2025-07-17T12:34:30.190998Z"
    }
   },
   "cell_type": "code",
   "source": [
    "# Create a single datetime-ish column\n",
    "df['SaleDate'] = pd.to_datetime(df['YrSold'].astype(str) + '-' + df['MoSold'].astype(str), format='%Y-%m')\n",
    "\n",
    "# Optional: Convert to numeric (timestamp or year/month period)\n",
    "df['SaleYear'] = df['SaleDate'].dt.year\n",
    "df['SaleMonth'] = df['SaleDate'].dt.month\n",
    "\n",
    "# Or you can drop SaleDate after extracting if not needed\n"
   ],
   "id": "3dc2f5408693d304",
   "outputs": [],
   "execution_count": 876
  },
  {
   "metadata": {
    "ExecuteTime": {
     "end_time": "2025-07-17T12:34:30.333256Z",
     "start_time": "2025-07-17T12:34:30.315060Z"
    }
   },
   "cell_type": "code",
   "source": [
    "# Fill null with 'Oth' (makes sense for ambiguity)\n",
    "df['SaleType'] = df['SaleType'].fillna('Oth')\n",
    "\n",
    "# Binning manually or price-binning is optional. Let's one-hot encode:\n",
    "df = pd.get_dummies(df, columns=['SaleType'], prefix='SaleType')\n"
   ],
   "id": "cc6107aa020e94ca",
   "outputs": [],
   "execution_count": 877
  },
  {
   "metadata": {
    "ExecuteTime": {
     "end_time": "2025-07-17T12:34:30.446694Z",
     "start_time": "2025-07-17T12:34:30.437964Z"
    }
   },
   "cell_type": "code",
   "source": [
    "# Already no nulls usually, if any, fill with 'Normal' or 'Other'\n",
    "df['SaleCondition'] = df['SaleCondition'].fillna('Normal')\n",
    "\n",
    "# Optional binning:\n",
    "# - Normal → 0\n",
    "# - Abnorml, Family, Alloca → 1\n",
    "# - Partial → 2\n",
    "sale_condition_map = {\n",
    "    'Normal': 0,\n",
    "    'Abnorml': 1,\n",
    "    'Family': 1,\n",
    "    'Alloca': 1,\n",
    "    'AdjLand': 2,\n",
    "    'Partial': 3\n",
    "}\n",
    "df['SaleCondition_encoded'] = df['SaleCondition'].map(sale_condition_map)\n"
   ],
   "id": "62c86d131324c3cf",
   "outputs": [],
   "execution_count": 878
  },
  {
   "metadata": {
    "ExecuteTime": {
     "end_time": "2025-07-17T12:34:30.581550Z",
     "start_time": "2025-07-17T12:34:30.547266Z"
    }
   },
   "cell_type": "code",
   "source": [
    "# Check duplicate rows\n",
    "duplicates = df.duplicated()\n",
    "print(\"Number of duplicate rows:\", duplicates.sum())"
   ],
   "id": "e3e231f17aca38cb",
   "outputs": [
    {
     "name": "stdout",
     "output_type": "stream",
     "text": [
      "Number of duplicate rows: 0\n"
     ]
    }
   ],
   "execution_count": 879
  },
  {
   "metadata": {
    "ExecuteTime": {
     "end_time": "2025-07-17T12:34:30.705672Z",
     "start_time": "2025-07-17T12:34:30.685289Z"
    }
   },
   "cell_type": "code",
   "source": [
    "#Some more feature engineering\n",
    "df['GarageAge'] = df['YrSold'] - df['GarageYrBlt']\n",
    "df['GarageAge'] = df['GarageAge'].replace(2020, 0)  # If no garage, yr was filled as 0\n",
    "df['HouseAge']= df['YrSold'] - df['YearBuilt']\n",
    "df['TotalBath'] = df['BsmtFullBath'] + (0.5 * df['BsmtHalfBath']) + df['FullBath'] + (0.5 * df['HalfBath'])\n",
    "df['TotalPorchSF'] = df['OpenPorchSF'] + df['EnclosedPorch'] + df['3SsnPorch'] + df['ScreenPorch']\n",
    "df['TotalBsmtFinSF'] = df['BsmtFinSF1'] + df['BsmtFinSF2']\n",
    "df['BsmtOverallQual'] = df['BsmtQual_encoded'] + df['BsmtCond_encoded']\n",
    "df['HasPool'] = df['PoolArea'].apply(lambda x: 1 if x > 0 else 0)\n",
    "df['HasFireplace'] = df['Fireplaces'].apply(lambda x: 1 if x > 0 else 0)\n",
    "df['HasGarage'] = df['GarageArea'].apply(lambda x: 1 if x > 0 else 0)\n"
   ],
   "id": "e69bb2155cef2e68",
   "outputs": [],
   "execution_count": 880
  },
  {
   "metadata": {
    "ExecuteTime": {
     "end_time": "2025-07-17T12:34:30.855985Z",
     "start_time": "2025-07-17T12:34:30.803375Z"
    }
   },
   "cell_type": "code",
   "source": [
    "# Only numeric columns\n",
    "numeric_df = df.select_dtypes(include=['int64', 'float64'])\n",
    "\n",
    "# Correlation matrix\n",
    "corr_matrix = numeric_df.corr()\n",
    "\n",
    "# Correlation with SalePrice\n",
    "corr_target = corr_matrix[\"SalePrice\"].sort_values(ascending=False)\n",
    "\n",
    "# Top 20 correlations (drop SalePrice itself)\n",
    "top_corr_features = corr_target.drop('SalePrice').head(20)\n",
    "print(top_corr_features)\n"
   ],
   "id": "e6e5d6954b646966",
   "outputs": [
    {
     "name": "stdout",
     "output_type": "stream",
     "text": [
      "OverallQual             0.790982\n",
      "TotalLivingSF           0.778959\n",
      "GrLivArea               0.708624\n",
      "ExterQual_encoded       0.682639\n",
      "GarageScore             0.680058\n",
      "Neighborhood_encoded    0.673202\n",
      "KitchenQual_encoded     0.659600\n",
      "GarageCars              0.640409\n",
      "TotalBath               0.631731\n",
      "GarageArea              0.623431\n",
      "TotalBsmtSF             0.613581\n",
      "1stFlrSF                0.605852\n",
      "BsmtQual_encoded        0.585207\n",
      "FullBath                0.560664\n",
      "GarageFinish_encoded    0.549247\n",
      "TotRmsAbvGrd            0.533723\n",
      "YearBuilt               0.522897\n",
      "FireplaceQu_encoded     0.520438\n",
      "YearRemodAdd            0.507101\n",
      "BsmtOverallQual         0.485364\n",
      "Name: SalePrice, dtype: float64\n"
     ]
    }
   ],
   "execution_count": 881
  },
  {
   "metadata": {
    "ExecuteTime": {
     "end_time": "2025-07-17T12:34:32.212286Z",
     "start_time": "2025-07-17T12:34:31.061065Z"
    }
   },
   "cell_type": "code",
   "source": [
    "# Plot heatmap of just these top 20\n",
    "top_features = top_corr_features.index\n",
    "plt.figure(figsize=(12, 10))\n",
    "sns.heatmap(numeric_df[top_features].corr(), annot=True, cmap='coolwarm', fmt='.2f', linewidths=0.5,center=0)\n",
    "plt.title('Top 20 Features Correlated with SalePrice')\n",
    "plt.show()"
   ],
   "id": "d524d4f75536b98",
   "outputs": [
    {
     "data": {
      "text/plain": [
       "<Figure size 1200x1000 with 2 Axes>"
      ],
      "image/png": "[encoded data removed]"
     },
     "metadata": {},
     "output_type": "display_data"
    }
   ],
   "execution_count": 882
  },
  {
   "metadata": {
    "ExecuteTime": {
     "end_time": "2025-07-17T12:34:32.278697Z",
     "start_time": "2025-07-17T12:34:32.228611Z"
    }
   },
   "cell_type": "code",
   "source": [
    "# Function to drop highly correlated features\n",
    "def drop_highly_correlated(data, threshold=0.9):\n",
    "    corr_matrix = data.corr().abs()\n",
    "    upper = corr_matrix.where(np.triu(np.ones(corr_matrix.shape), k=1).astype(bool))\n",
    "    to_drop = [column for column in upper.columns if any(upper[column] > threshold)]\n",
    "    return to_drop\n",
    "\n",
    "# Use it on numeric features\n",
    "to_drop = drop_highly_correlated(numeric_df, threshold=0.9)\n",
    "print(\"Highly correlated features to consider dropping:\", to_drop)\n"
   ],
   "id": "23e1c7b8f5d44cd",
   "outputs": [
    {
     "name": "stdout",
     "output_type": "stream",
     "text": [
      "Highly correlated features to consider dropping: ['YearsSinceRemod', 'TotalBsmtFinSF', 'BsmtOverallQual', 'HouseAge', 'RemodAge', 'GarageScore', 'GarageQual_encoded', 'GarageCond_encoded', 'GarageAge', 'HasPool', 'HasFireplace', 'HasGarage']\n"
     ]
    }
   ],
   "execution_count": 883
  },
  {
   "metadata": {
    "ExecuteTime": {
     "end_time": "2025-07-17T12:34:32.385714Z",
     "start_time": "2025-07-17T12:34:32.378723Z"
    }
   },
   "cell_type": "code",
   "source": "df['source'].value_counts()\n",
   "id": "d8505062b3b31599",
   "outputs": [
    {
     "data": {
      "text/plain": [
       "source\n",
       "train    1460\n",
       "test     1459\n",
       "Name: count, dtype: int64"
      ]
     },
     "execution_count": 884,
     "metadata": {},
     "output_type": "execute_result"
    }
   ],
   "execution_count": 884
  },
  {
   "metadata": {
    "ExecuteTime": {
     "end_time": "2025-07-17T12:34:32.541738Z",
     "start_time": "2025-07-17T12:34:32.516781Z"
    }
   },
   "cell_type": "code",
   "source": [
    "Q1 = df['GrLivArea'].quantile(0.25)\n",
    "Q3 = df['GrLivArea'].quantile(0.75)\n",
    "IQR = Q3 - Q1\n",
    "\n",
    "df = df[~((df['GrLivArea'] < (Q1 - 1.5 * IQR)) | (df['GrLivArea'] > (Q3 + 1.5 * IQR)))]\n",
    "print(df)"
   ],
   "id": "4e480e400cefb6ed",
   "outputs": [
    {
     "name": "stdout",
     "output_type": "stream",
     "text": [
      "      MSSubClass MSZoning  LotFrontage  LotArea Street Alley LotShape  \\\n",
      "0             60       RL         65.0     8450   Pave   NaN      Reg   \n",
      "1             20       RL         80.0     9600   Pave   NaN      Reg   \n",
      "2             60       RL         68.0    11250   Pave   NaN      IR1   \n",
      "3             70       RL         60.0     9550   Pave   NaN      IR1   \n",
      "4             60       RL         84.0    14260   Pave   NaN      IR1   \n",
      "...          ...      ...          ...      ...    ...   ...      ...   \n",
      "1454         160       RM         21.0     1936   Pave   NaN      Reg   \n",
      "1455         160       RM         21.0     1894   Pave   NaN      Reg   \n",
      "1456          20       RL        160.0    20000   Pave   NaN      Reg   \n",
      "1457          85       RL         62.0    10441   Pave   NaN      Reg   \n",
      "1458          60       RL         74.0     9627   Pave   NaN      Reg   \n",
      "\n",
      "     LandContour Utilities LotConfig  ... SaleType_New SaleType_Oth  \\\n",
      "0            Lvl    AllPub    Inside  ...        False        False   \n",
      "1            Lvl    AllPub       FR2  ...        False        False   \n",
      "2            Lvl    AllPub    Inside  ...        False        False   \n",
      "3            Lvl    AllPub    Corner  ...        False        False   \n",
      "4            Lvl    AllPub       FR2  ...        False        False   \n",
      "...          ...       ...       ...  ...          ...          ...   \n",
      "1454         Lvl    AllPub    Inside  ...        False        False   \n",
      "1455         Lvl    AllPub    Inside  ...        False        False   \n",
      "1456         Lvl    AllPub    Inside  ...        False        False   \n",
      "1457         Lvl    AllPub    Inside  ...        False        False   \n",
      "1458         Lvl    AllPub    Inside  ...        False        False   \n",
      "\n",
      "     SaleType_WD SaleCondition_encoded GarageAge TotalBath  TotalPorchSF  \\\n",
      "0           True                     0       5.0       3.5            61   \n",
      "1           True                     0      31.0       2.5             0   \n",
      "2           True                     0       7.0       3.5            42   \n",
      "3           True                     1       8.0       2.0           307   \n",
      "4           True                     0       8.0       3.5            84   \n",
      "...          ...                   ...       ...       ...           ...   \n",
      "1454        True                     0    2006.0       1.5             0   \n",
      "1455        True                     1      36.0       1.5            24   \n",
      "1456        True                     1      46.0       2.0             0   \n",
      "1457        True                     0    2006.0       1.5            32   \n",
      "1458        True                     0      13.0       2.5            48   \n",
      "\n",
      "      HasPool  HasFireplace  HasGarage  \n",
      "0           0             0          1  \n",
      "1           0             1          1  \n",
      "2           0             1          1  \n",
      "3           0             1          1  \n",
      "4           0             1          1  \n",
      "...       ...           ...        ...  \n",
      "1454        0             0          0  \n",
      "1455        0             0          1  \n",
      "1456        0             1          1  \n",
      "1457        0             0          0  \n",
      "1458        0             1          1  \n",
      "\n",
      "[2845 rows x 163 columns]\n"
     ]
    }
   ],
   "execution_count": 885
  },
  {
   "metadata": {
    "ExecuteTime": {
     "end_time": "2025-07-17T12:34:32.728630Z",
     "start_time": "2025-07-17T12:34:32.617959Z"
    }
   },
   "cell_type": "code",
   "source": "sns.boxplot(data=df, x='GrLivArea')",
   "id": "21e5bc5f0605b317",
   "outputs": [
    {
     "data": {
      "text/plain": [
       "<Axes: xlabel='GrLivArea'>"
      ]
     },
     "execution_count": 886,
     "metadata": {},
     "output_type": "execute_result"
    },
    {
     "data": {
      "text/plain": [
       "<Figure size 640x480 with 1 Axes>"
      ],
      "image/png": "[encoded data removed]"
     },
     "metadata": {},
     "output_type": "display_data"
    }
   ],
   "execution_count": 886
  },
  {
   "metadata": {
    "ExecuteTime": {
     "end_time": "2025-07-17T12:34:32.770840Z",
     "start_time": "2025-07-17T12:34:32.736146Z"
    }
   },
   "cell_type": "code",
   "source": [
    "# Step 1: Keep original df\n",
    "df_train = df[df['source'] == 'train'].copy()\n",
    "df_test = df[df['source'] == 'test'].copy()"
   ],
   "id": "4320718a158f459d",
   "outputs": [],
   "execution_count": 887
  },
  {
   "metadata": {
    "ExecuteTime": {
     "end_time": "2025-07-17T12:34:32.878167Z",
     "start_time": "2025-07-17T12:34:32.872086Z"
    }
   },
   "cell_type": "code",
   "source": [
    "def remove_outliers_iqr(df, columns):\n",
    "    for col in columns:\n",
    "        Q1 = df[col].quantile(0.25)\n",
    "        Q3 = df[col].quantile(0.75)\n",
    "        IQR = Q3 - Q1\n",
    "        lower = Q1 - 1.5 * IQR\n",
    "        upper = Q3 + 1.5 * IQR\n",
    "        df = df[(df[col] >= lower) & (df[col] <= upper)]\n",
    "    return df"
   ],
   "id": "405e5fd64a100277",
   "outputs": [],
   "execution_count": 888
  },
  {
   "metadata": {
    "ExecuteTime": {
     "end_time": "2025-07-17T12:34:33.037192Z",
     "start_time": "2025-07-17T12:34:32.996567Z"
    }
   },
   "cell_type": "code",
   "source": [
    "cols_to_check = ['GrLivArea', 'TotalBsmtSF', 'LotFrontage', 'LotArea', 'GarageScore', '1stFlrSF', 'SalePrice']\n",
    "df_train_cleaned = remove_outliers_iqr(df_train, cols_to_check)"
   ],
   "id": "8801c6d2e789ad8f",
   "outputs": [],
   "execution_count": 889
  },
  {
   "metadata": {
    "ExecuteTime": {
     "end_time": "2025-07-17T14:17:59.972640Z",
     "start_time": "2025-07-17T14:17:59.953163Z"
    }
   },
   "cell_type": "code",
   "source": "df['source'].value_counts()\n",
   "id": "569b36065c8147b7",
   "outputs": [
    {
     "data": {
      "text/plain": [
       "source\n",
       "test     1423\n",
       "train    1422\n",
       "Name: count, dtype: int64"
      ]
     },
     "execution_count": 908,
     "metadata": {},
     "output_type": "execute_result"
    }
   ],
   "execution_count": 908
  },
  {
   "metadata": {
    "ExecuteTime": {
     "end_time": "2025-07-17T14:18:01.017224Z",
     "start_time": "2025-07-17T14:18:01.009439Z"
    }
   },
   "cell_type": "code",
   "source": [
    "features = [\n",
    "    'OverallQual', 'TotalLivingSF', 'Neighborhood_encoded', 'YearBuilt',\n",
    "    'GrLivArea', 'TotalBath', 'ExterQual_encoded', 'KitchenQual_encoded',\n",
    "    'BsmtQual_encoded', 'FullBath', 'GarageScore', 'GarageCars',\n",
    "    'GarageFinish_encoded', 'BsmtOverallQual', 'GarageArea',\n",
    "    'YearRemodAdd', 'TotalBsmtSF', 'ExteriorCombo_encoded', '1stFlrSF',\n",
    "    'HeatingQC_encoded', 'FireplaceQu_encoded', 'HasFireplace',\n",
    "    'TotRmsAbvGrd', 'YearsSinceRemod', 'RemodAge', 'HouseAge'\n",
    "]\n",
    "\n",
    "target = 'SalePrice'\n",
    "\n"
   ],
   "id": "ee0b307e79a7973d",
   "outputs": [],
   "execution_count": 909
  },
  {
   "metadata": {
    "ExecuteTime": {
     "end_time": "2025-07-17T14:18:01.885475Z",
     "start_time": "2025-07-17T14:18:01.836506Z"
    }
   },
   "cell_type": "code",
   "source": [
    "# Read the original train and test CSVs\n",
    "train_df = pd.read_csv('train.csv')\n",
    "test_df = pd.read_csv('test.csv')\n",
    "\n",
    "# Mark source before combining\n",
    "train_df['source'] = 'train'\n",
    "test_df['source'] = 'test'\n"
   ],
   "id": "aa2a0df6573bd1f3",
   "outputs": [],
   "execution_count": 910
  },
  {
   "metadata": {
    "ExecuteTime": {
     "end_time": "2025-07-17T14:18:02.568103Z",
     "start_time": "2025-07-17T14:18:02.547405Z"
    }
   },
   "cell_type": "code",
   "source": [
    "# Step 5: Select only required columns\n",
    "selected_columns = features + [target, 'source']\n",
    "df_selected = df[selected_columns]"
   ],
   "id": "d12d15a8a2151a34",
   "outputs": [],
   "execution_count": 911
  },
  {
   "metadata": {
    "ExecuteTime": {
     "end_time": "2025-07-17T14:18:03.233088Z",
     "start_time": "2025-07-17T14:18:03.215662Z"
    }
   },
   "cell_type": "code",
   "source": [
    "# Step 6: Split back into train and test\n",
    "train_df = df_selected[df_selected['source'] == 'train'].copy()\n",
    "test_df = df_selected[df_selected['source'] == 'test'].copy()"
   ],
   "id": "6fdf015a974673c",
   "outputs": [],
   "execution_count": 912
  },
  {
   "metadata": {
    "ExecuteTime": {
     "end_time": "2025-07-17T14:18:04.094498Z",
     "start_time": "2025-07-17T14:18:04.049999Z"
    }
   },
   "cell_type": "code",
   "source": [
    "# Drop helper column\n",
    "train_df.drop(columns=['source'], inplace=True)\n",
    "test_df.drop(columns=['source', target], inplace=True)"
   ],
   "id": "872e41b5516d38f1",
   "outputs": [
    {
     "ename": "ValueError",
     "evalue": "Length mismatch: Expected 1423 rows, received array of length 1459",
     "output_type": "error",
     "traceback": [
      "\u001B[1;31m---------------------------------------------------------------------------\u001B[0m",
      "\u001B[1;31mValueError\u001B[0m                                Traceback (most recent call last)",
      "\u001B[1;32m~\\AppData\\Local\\Temp\\ipykernel_10968\\673461563.py\u001B[0m in \u001B[0;36m?\u001B[1;34m()\u001B[0m\n\u001B[0;32m      7\u001B[0m \u001B[1;31m# Now ensure test_data has exactly the same number of rows\u001B[0m\u001B[1;33m\u001B[0m\u001B[1;33m\u001B[0m\u001B[0m\n\u001B[0;32m      8\u001B[0m \u001B[0mtest_data\u001B[0m \u001B[1;33m=\u001B[0m \u001B[0mdf_selected\u001B[0m\u001B[1;33m[\u001B[0m\u001B[0mdf_selected\u001B[0m\u001B[1;33m[\u001B[0m\u001B[1;34m'source'\u001B[0m\u001B[1;33m]\u001B[0m \u001B[1;33m==\u001B[0m \u001B[1;34m'test'\u001B[0m\u001B[1;33m]\u001B[0m\u001B[1;33m.\u001B[0m\u001B[0mcopy\u001B[0m\u001B[1;33m(\u001B[0m\u001B[1;33m)\u001B[0m\u001B[1;33m\u001B[0m\u001B[1;33m\u001B[0m\u001B[0m\n\u001B[0;32m      9\u001B[0m \u001B[1;33m\u001B[0m\u001B[0m\n\u001B[0;32m     10\u001B[0m \u001B[1;31m# Force test_data to keep the same index as original test.csv\u001B[0m\u001B[1;33m\u001B[0m\u001B[1;33m\u001B[0m\u001B[0m\n\u001B[1;32m---> 11\u001B[1;33m \u001B[0mtest_data\u001B[0m \u001B[1;33m=\u001B[0m \u001B[0mtest_data\u001B[0m\u001B[1;33m.\u001B[0m\u001B[0mset_index\u001B[0m\u001B[1;33m(\u001B[0m\u001B[0moriginal_test\u001B[0m\u001B[1;33m.\u001B[0m\u001B[0mindex\u001B[0m\u001B[1;33m)\u001B[0m\u001B[1;33m\u001B[0m\u001B[1;33m\u001B[0m\u001B[0m\n\u001B[0m\u001B[0;32m     12\u001B[0m \u001B[1;33m\u001B[0m\u001B[0m\n\u001B[0;32m     13\u001B[0m \u001B[1;31m# Then drop only the columns we don't need (source, target)\u001B[0m\u001B[1;33m\u001B[0m\u001B[1;33m\u001B[0m\u001B[0m\n\u001B[0;32m     14\u001B[0m \u001B[0mtest_data\u001B[0m \u001B[1;33m=\u001B[0m \u001B[0mtest_data\u001B[0m\u001B[1;33m.\u001B[0m\u001B[0mdrop\u001B[0m\u001B[1;33m(\u001B[0m\u001B[0mcolumns\u001B[0m\u001B[1;33m=\u001B[0m\u001B[1;33m[\u001B[0m\u001B[1;34m'source'\u001B[0m\u001B[1;33m,\u001B[0m \u001B[0mtarget\u001B[0m\u001B[1;33m]\u001B[0m\u001B[1;33m)\u001B[0m\u001B[1;33m\u001B[0m\u001B[1;33m\u001B[0m\u001B[0m\n",
      "\u001B[1;32m~\\AppData\\Local\\Programs\\Python\\Python312\\Lib\\site-packages\\pandas\\core\\frame.py\u001B[0m in \u001B[0;36m?\u001B[1;34m(self, keys, drop, append, inplace, verify_integrity)\u001B[0m\n\u001B[0;32m   6169\u001B[0m \u001B[1;33m\u001B[0m\u001B[0m\n\u001B[0;32m   6170\u001B[0m             \u001B[1;32mif\u001B[0m \u001B[0mlen\u001B[0m\u001B[1;33m(\u001B[0m\u001B[0marrays\u001B[0m\u001B[1;33m[\u001B[0m\u001B[1;33m-\u001B[0m\u001B[1;36m1\u001B[0m\u001B[1;33m]\u001B[0m\u001B[1;33m)\u001B[0m \u001B[1;33m!=\u001B[0m \u001B[0mlen\u001B[0m\u001B[1;33m(\u001B[0m\u001B[0mself\u001B[0m\u001B[1;33m)\u001B[0m\u001B[1;33m:\u001B[0m\u001B[1;33m\u001B[0m\u001B[1;33m\u001B[0m\u001B[0m\n\u001B[0;32m   6171\u001B[0m                 \u001B[1;31m# check newest element against length of calling frame, since\u001B[0m\u001B[1;33m\u001B[0m\u001B[1;33m\u001B[0m\u001B[0m\n\u001B[0;32m   6172\u001B[0m                 \u001B[1;31m# ensure_index_from_sequences would not raise for append=False.\u001B[0m\u001B[1;33m\u001B[0m\u001B[1;33m\u001B[0m\u001B[0m\n\u001B[1;32m-> 6173\u001B[1;33m                 raise ValueError(\n\u001B[0m\u001B[0;32m   6174\u001B[0m                     \u001B[1;33mf\"\u001B[0m\u001B[1;33mLength mismatch: Expected \u001B[0m\u001B[1;33m{\u001B[0m\u001B[0mlen\u001B[0m\u001B[1;33m(\u001B[0m\u001B[0mself\u001B[0m\u001B[1;33m)\u001B[0m\u001B[1;33m}\u001B[0m\u001B[1;33m rows, \u001B[0m\u001B[1;33m\"\u001B[0m\u001B[1;33m\u001B[0m\u001B[1;33m\u001B[0m\u001B[0m\n\u001B[0;32m   6175\u001B[0m                     \u001B[1;33mf\"\u001B[0m\u001B[1;33mreceived array of length \u001B[0m\u001B[1;33m{\u001B[0m\u001B[0mlen\u001B[0m\u001B[1;33m(\u001B[0m\u001B[0marrays\u001B[0m\u001B[1;33m[\u001B[0m\u001B[1;33m-\u001B[0m\u001B[1;36m1\u001B[0m\u001B[1;33m]\u001B[0m\u001B[1;33m)\u001B[0m\u001B[1;33m}\u001B[0m\u001B[1;33m\"\u001B[0m\u001B[1;33m\u001B[0m\u001B[1;33m\u001B[0m\u001B[0m\n\u001B[0;32m   6176\u001B[0m                 \u001B[1;33m)\u001B[0m\u001B[1;33m\u001B[0m\u001B[1;33m\u001B[0m\u001B[0m\n",
      "\u001B[1;31mValueError\u001B[0m: Length mismatch: Expected 1423 rows, received array of length 1459"
     ]
    }
   ],
   "execution_count": 913
  },
  {
   "metadata": {
    "ExecuteTime": {
     "end_time": "2025-07-17T14:19:16.813917Z",
     "start_time": "2025-07-17T14:19:16.439031Z"
    }
   },
   "cell_type": "code",
   "source": "",
   "id": "3bf3d312ae00231c",
   "outputs": [
    {
     "name": "stdout",
     "output_type": "stream",
     "text": [
      "✅ submission.csv saved and ready for Kaggle!\n"
     ]
    },
    {
     "name": "stderr",
     "output_type": "stream",
     "text": [
      "C:\\Users\\tgija\\AppData\\Local\\Programs\\Python\\Python312\\Lib\\site-packages\\sklearn\\base.py:465: UserWarning: X does not have valid feature names, but StandardScaler was fitted with feature names\n",
      "  warnings.warn(\n"
     ]
    }
   ],
   "execution_count": 914
  },
  {
   "metadata": {
    "ExecuteTime": {
     "end_time": "2025-07-17T13:47:09.244213Z",
     "start_time": "2025-07-17T13:47:09.229249Z"
    }
   },
   "cell_type": "code",
   "source": [
    "# Step 7: Prepare X and y\n",
    "train_X = train_df[features]\n",
    "train_y = train_df[target]\n",
    "test_X = test_df[features]"
   ],
   "id": "d80f9c1b56e3af62",
   "outputs": [],
   "execution_count": 897
  },
  {
   "metadata": {
    "ExecuteTime": {
     "end_time": "2025-07-17T13:47:14.152075Z",
     "start_time": "2025-07-17T13:47:14.064561Z"
    }
   },
   "cell_type": "code",
   "source": [
    "# Step 8: Scale the features\n",
    "scaler = StandardScaler()\n",
    "train_X_scaled = scaler.fit_transform(train_X)\n",
    "test_X_scaled = scaler.transform(test_X)"
   ],
   "id": "e358b208af429dcc",
   "outputs": [],
   "execution_count": 898
  },
  {
   "metadata": {
    "ExecuteTime": {
     "end_time": "2025-07-17T13:47:56.121530Z",
     "start_time": "2025-07-17T13:47:56.108031Z"
    }
   },
   "cell_type": "code",
   "source": [
    "train_X_scaled_df = pd.DataFrame(train_X_scaled, columns=features)\n",
    "test_X_scaled_df = pd.DataFrame(test_X_scaled, columns=features)\n"
   ],
   "id": "a2d678f7bd4f57ae",
   "outputs": [],
   "execution_count": 899
  },
  {
   "metadata": {
    "ExecuteTime": {
     "end_time": "2025-07-17T13:53:15.106722Z",
     "start_time": "2025-07-17T13:53:15.088578Z"
    }
   },
   "cell_type": "code",
   "source": [
    "# Step 6: Define models\n",
    "models = {\n",
    "    \"Linear Regression\": LinearRegression(),\n",
    "    \"Random Forest\": RandomForestRegressor(random_state=42),\n",
    "    \"XGBoost\": XGBRegressor(random_state=42, verbosity=0),\n",
    "    \"Gradient Boosting\": GradientBoostingRegressor(random_state=42)\n",
    "}"
   ],
   "id": "41cf181491e1d5c1",
   "outputs": [],
   "execution_count": 903
  },
  {
   "metadata": {
    "ExecuteTime": {
     "end_time": "2025-07-17T13:55:35.208779Z",
     "start_time": "2025-07-17T13:55:30.123796Z"
    }
   },
   "cell_type": "code",
   "source": [
    "# Step 7: Train and evaluate each model\n",
    "print(\"Model Performance on Training Set:\\n\")\n",
    "for name, model in models.items():\n",
    "    model.fit(train_X_scaled, train_y)\n",
    "    preds = model.predict(train_X_scaled)\n",
    "\n",
    "    r2 = r2_score(train_y, preds)\n",
    "    rmse = np.sqrt(mean_squared_error(train_y, preds))\n",
    "    mae = mean_absolute_error(train_y, preds)\n",
    "\n",
    "    print(f\"🔹 {name}\")\n",
    "    print(f\"   R² Score: {r2:.4f}\")\n",
    "    print(f\"   RMSE: {rmse:.2f}\")\n",
    "    print(f\"   MAE: {mae:.2f}\\n\")\n",
    "    accuracy_percent = r2 * 100\n",
    "    print(f\"   ~Estimated Accuracy: {accuracy_percent:.2f}%\")"
   ],
   "id": "91aba0c1044bc84b",
   "outputs": [
    {
     "name": "stdout",
     "output_type": "stream",
     "text": [
      "Model Performance on Training Set:\n",
      "\n",
      "🔹 Linear Regression\n",
      "   R² Score: 0.8602\n",
      "   RMSE: 26208.77\n",
      "   MAE: 18630.93\n",
      "\n",
      "   ~Estimated Accuracy: 86.02%\n",
      "🔹 Random Forest\n",
      "   R² Score: 0.9834\n",
      "   RMSE: 9019.88\n",
      "   MAE: 5992.12\n",
      "\n",
      "   ~Estimated Accuracy: 98.34%\n",
      "🔹 XGBoost\n",
      "   R² Score: 0.9986\n",
      "   RMSE: 2637.62\n",
      "   MAE: 1854.97\n",
      "\n",
      "   ~Estimated Accuracy: 99.86%\n",
      "🔹 Gradient Boosting\n",
      "   R² Score: 0.9458\n",
      "   RMSE: 16319.34\n",
      "   MAE: 11870.73\n",
      "\n",
      "   ~Estimated Accuracy: 94.58%\n"
     ]
    }
   ],
   "execution_count": 905
  },
  {
   "metadata": {
    "ExecuteTime": {
     "end_time": "2025-07-17T14:19:38.744405Z",
     "start_time": "2025-07-17T14:19:38.678213Z"
    }
   },
   "cell_type": "code",
   "source": [
    "# Use the filtered test_data's index to get the right Ids\n",
    "test_data = df_selected[df_selected['source'] == 'test'].copy()\n",
    "test_data.drop(columns=['source', target], inplace=True)\n",
    "\n",
    "# Get the matching Ids from original test.csv (use index alignment)\n",
    "original_test = pd.read_csv('test.csv')\n",
    "test_ids = original_test.loc[test_data.index, 'Id'].values  # 💡 this ensures correct length!\n",
    "\n",
    "# Extract features and scale\n",
    "test_X = test_data[features].values\n",
    "test_X_scaled = scaler.transform(test_X)\n",
    "\n",
    "# Predict\n",
    "xgb_model = models[\"XGBoost\"]\n",
    "test_preds = xgb_model.predict(test_X_scaled)\n",
    "\n",
    "# Create submission\n",
    "submission_df = pd.DataFrame({\n",
    "    'Id': test_ids,\n",
    "    'SalePrice': test_preds\n",
    "})\n",
    "\n",
    "submission_df.to_csv('submission.csv', index=False)\n",
    "print(\"✅ submission.csv saved and ready for Kaggle!\")\n"
   ],
   "id": "da38e0016663be08",
   "outputs": [
    {
     "name": "stdout",
     "output_type": "stream",
     "text": [
      "✅ submission.csv saved and ready for Kaggle!\n"
     ]
    },
    {
     "name": "stderr",
     "output_type": "stream",
     "text": [
      "C:\\Users\\tgija\\AppData\\Local\\Programs\\Python\\Python312\\Lib\\site-packages\\sklearn\\base.py:465: UserWarning: X does not have valid feature names, but StandardScaler was fitted with feature names\n",
      "  warnings.warn(\n"
     ]
    }
   ],
   "execution_count": 915
  },
  {
   "metadata": {
    "ExecuteTime": {
     "end_time": "2025-07-17T14:26:06.693330Z",
     "start_time": "2025-07-17T14:26:06.224513Z"
    }
   },
   "cell_type": "code",
   "source": [
    "import pandas as pd\n",
    "import numpy as np\n",
    "\n",
    "# Step 1: Load train/test and combined df (you already did this earlier)\n",
    "train_df = pd.read_csv('train.csv')\n",
    "test_df = pd.read_csv('test.csv')\n",
    "\n",
    "train_df['source'] = 'train'\n",
    "test_df['source'] = 'test'\n",
    "df = pd.concat([train_df, test_df], axis=0)\n",
    "\n",
    "# Your feature list\n",
    "features = [\n",
    "    'OverallQual', 'TotalLivingSF', 'Neighborhood_encoded', 'YearBuilt',\n",
    "    'GrLivArea', 'TotalBath', 'ExterQual_encoded', 'KitchenQual_encoded',\n",
    "    'BsmtQual_encoded', 'FullBath', 'GarageScore', 'GarageCars',\n",
    "    'GarageFinish_encoded', 'BsmtOverallQual', 'GarageArea',\n",
    "    'YearRemodAdd', 'TotalBsmtSF', 'ExteriorCombo_encoded', '1stFlrSF',\n",
    "    'HeatingQC_encoded', 'FireplaceQu_encoded', 'HasFireplace',\n",
    "    'TotRmsAbvGrd', 'YearsSinceRemod', 'RemodAge', 'HouseAge'\n",
    "]\n",
    "\n",
    "target = 'SalePrice'\n",
    "\n",
    "# Step 2: Select from combined df\n",
    "df_selected = df[features + [target, 'source']]\n",
    "\n",
    "# Step 3: Get test data with engineered features\n",
    "test_data = df_selected[df_selected['source'] == 'test'].copy()\n",
    "test_data.drop(columns=['source', target], inplace=True)\n",
    "\n",
    "# ✅ This is the fix: use correct Ids by index alignment\n",
    "original_test = pd.read_csv('test.csv')\n",
    "test_ids = original_test.loc[test_data.index, 'Id'].values\n",
    "\n",
    "# Step 4: Scale test data\n",
    "test_X = test_data[features].values\n",
    "test_X_scaled = scaler.transform(test_X)\n",
    "\n",
    "# Step 5: Predict using your trained XGBoost model\n",
    "xgb_model = models['XGBoost']\n",
    "test_preds = xgb_model.predict(test_X_scaled)\n",
    "\n",
    "# Step 6: Create submission file\n",
    "submission_df = pd.DataFrame({\n",
    "    'Id': test_ids,\n",
    "    'SalePrice': test_preds\n",
    "})\n",
    "\n",
    "# Step 7: Save to CSV\n",
    "submission_df.to_csv('submission.csv', index=False)\n",
    "print(\"✅ Final submission.csv created with 1459 rows!\")\n"
   ],
   "id": "aca1cacd6f15be59",
   "outputs": [
    {
     "ename": "KeyError",
     "evalue": "\"['TotalLivingSF', 'Neighborhood_encoded', 'TotalBath', 'ExterQual_encoded', 'KitchenQual_encoded', 'BsmtQual_encoded', 'GarageScore', 'GarageFinish_encoded', 'BsmtOverallQual', 'ExteriorCombo_encoded', 'HeatingQC_encoded', 'FireplaceQu_encoded', 'HasFireplace', 'YearsSinceRemod', 'RemodAge', 'HouseAge'] not in index\"",
     "output_type": "error",
     "traceback": [
      "\u001B[1;31m---------------------------------------------------------------------------\u001B[0m",
      "\u001B[1;31mKeyError\u001B[0m                                  Traceback (most recent call last)",
      "Cell \u001B[1;32mIn[917], line 26\u001B[0m\n\u001B[0;32m     23\u001B[0m target \u001B[38;5;241m=\u001B[39m \u001B[38;5;124m'\u001B[39m\u001B[38;5;124mSalePrice\u001B[39m\u001B[38;5;124m'\u001B[39m\n\u001B[0;32m     25\u001B[0m \u001B[38;5;66;03m# Step 2: Select from combined df\u001B[39;00m\n\u001B[1;32m---> 26\u001B[0m df_selected \u001B[38;5;241m=\u001B[39m \u001B[43mdf\u001B[49m\u001B[43m[\u001B[49m\u001B[43mfeatures\u001B[49m\u001B[43m \u001B[49m\u001B[38;5;241;43m+\u001B[39;49m\u001B[43m \u001B[49m\u001B[43m[\u001B[49m\u001B[43mtarget\u001B[49m\u001B[43m,\u001B[49m\u001B[43m \u001B[49m\u001B[38;5;124;43m'\u001B[39;49m\u001B[38;5;124;43msource\u001B[39;49m\u001B[38;5;124;43m'\u001B[39;49m\u001B[43m]\u001B[49m\u001B[43m]\u001B[49m\n\u001B[0;32m     28\u001B[0m \u001B[38;5;66;03m# Step 3: Get test data with engineered features\u001B[39;00m\n\u001B[0;32m     29\u001B[0m test_data \u001B[38;5;241m=\u001B[39m df_selected[df_selected[\u001B[38;5;124m'\u001B[39m\u001B[38;5;124msource\u001B[39m\u001B[38;5;124m'\u001B[39m] \u001B[38;5;241m==\u001B[39m \u001B[38;5;124m'\u001B[39m\u001B[38;5;124mtest\u001B[39m\u001B[38;5;124m'\u001B[39m]\u001B[38;5;241m.\u001B[39mcopy()\n",
      "File \u001B[1;32m~\\AppData\\Local\\Programs\\Python\\Python312\\Lib\\site-packages\\pandas\\core\\frame.py:4108\u001B[0m, in \u001B[0;36mDataFrame.__getitem__\u001B[1;34m(self, key)\u001B[0m\n\u001B[0;32m   4106\u001B[0m     \u001B[38;5;28;01mif\u001B[39;00m is_iterator(key):\n\u001B[0;32m   4107\u001B[0m         key \u001B[38;5;241m=\u001B[39m \u001B[38;5;28mlist\u001B[39m(key)\n\u001B[1;32m-> 4108\u001B[0m     indexer \u001B[38;5;241m=\u001B[39m \u001B[38;5;28;43mself\u001B[39;49m\u001B[38;5;241;43m.\u001B[39;49m\u001B[43mcolumns\u001B[49m\u001B[38;5;241;43m.\u001B[39;49m\u001B[43m_get_indexer_strict\u001B[49m\u001B[43m(\u001B[49m\u001B[43mkey\u001B[49m\u001B[43m,\u001B[49m\u001B[43m \u001B[49m\u001B[38;5;124;43m\"\u001B[39;49m\u001B[38;5;124;43mcolumns\u001B[39;49m\u001B[38;5;124;43m\"\u001B[39;49m\u001B[43m)\u001B[49m[\u001B[38;5;241m1\u001B[39m]\n\u001B[0;32m   4110\u001B[0m \u001B[38;5;66;03m# take() does not accept boolean indexers\u001B[39;00m\n\u001B[0;32m   4111\u001B[0m \u001B[38;5;28;01mif\u001B[39;00m \u001B[38;5;28mgetattr\u001B[39m(indexer, \u001B[38;5;124m\"\u001B[39m\u001B[38;5;124mdtype\u001B[39m\u001B[38;5;124m\"\u001B[39m, \u001B[38;5;28;01mNone\u001B[39;00m) \u001B[38;5;241m==\u001B[39m \u001B[38;5;28mbool\u001B[39m:\n",
      "File \u001B[1;32m~\\AppData\\Local\\Programs\\Python\\Python312\\Lib\\site-packages\\pandas\\core\\indexes\\base.py:6200\u001B[0m, in \u001B[0;36mIndex._get_indexer_strict\u001B[1;34m(self, key, axis_name)\u001B[0m\n\u001B[0;32m   6197\u001B[0m \u001B[38;5;28;01melse\u001B[39;00m:\n\u001B[0;32m   6198\u001B[0m     keyarr, indexer, new_indexer \u001B[38;5;241m=\u001B[39m \u001B[38;5;28mself\u001B[39m\u001B[38;5;241m.\u001B[39m_reindex_non_unique(keyarr)\n\u001B[1;32m-> 6200\u001B[0m \u001B[38;5;28;43mself\u001B[39;49m\u001B[38;5;241;43m.\u001B[39;49m\u001B[43m_raise_if_missing\u001B[49m\u001B[43m(\u001B[49m\u001B[43mkeyarr\u001B[49m\u001B[43m,\u001B[49m\u001B[43m \u001B[49m\u001B[43mindexer\u001B[49m\u001B[43m,\u001B[49m\u001B[43m \u001B[49m\u001B[43maxis_name\u001B[49m\u001B[43m)\u001B[49m\n\u001B[0;32m   6202\u001B[0m keyarr \u001B[38;5;241m=\u001B[39m \u001B[38;5;28mself\u001B[39m\u001B[38;5;241m.\u001B[39mtake(indexer)\n\u001B[0;32m   6203\u001B[0m \u001B[38;5;28;01mif\u001B[39;00m \u001B[38;5;28misinstance\u001B[39m(key, Index):\n\u001B[0;32m   6204\u001B[0m     \u001B[38;5;66;03m# GH 42790 - Preserve name from an Index\u001B[39;00m\n",
      "File \u001B[1;32m~\\AppData\\Local\\Programs\\Python\\Python312\\Lib\\site-packages\\pandas\\core\\indexes\\base.py:6252\u001B[0m, in \u001B[0;36mIndex._raise_if_missing\u001B[1;34m(self, key, indexer, axis_name)\u001B[0m\n\u001B[0;32m   6249\u001B[0m     \u001B[38;5;28;01mraise\u001B[39;00m \u001B[38;5;167;01mKeyError\u001B[39;00m(\u001B[38;5;124mf\u001B[39m\u001B[38;5;124m\"\u001B[39m\u001B[38;5;124mNone of [\u001B[39m\u001B[38;5;132;01m{\u001B[39;00mkey\u001B[38;5;132;01m}\u001B[39;00m\u001B[38;5;124m] are in the [\u001B[39m\u001B[38;5;132;01m{\u001B[39;00maxis_name\u001B[38;5;132;01m}\u001B[39;00m\u001B[38;5;124m]\u001B[39m\u001B[38;5;124m\"\u001B[39m)\n\u001B[0;32m   6251\u001B[0m not_found \u001B[38;5;241m=\u001B[39m \u001B[38;5;28mlist\u001B[39m(ensure_index(key)[missing_mask\u001B[38;5;241m.\u001B[39mnonzero()[\u001B[38;5;241m0\u001B[39m]]\u001B[38;5;241m.\u001B[39munique())\n\u001B[1;32m-> 6252\u001B[0m \u001B[38;5;28;01mraise\u001B[39;00m \u001B[38;5;167;01mKeyError\u001B[39;00m(\u001B[38;5;124mf\u001B[39m\u001B[38;5;124m\"\u001B[39m\u001B[38;5;132;01m{\u001B[39;00mnot_found\u001B[38;5;132;01m}\u001B[39;00m\u001B[38;5;124m not in index\u001B[39m\u001B[38;5;124m\"\u001B[39m)\n",
      "\u001B[1;31mKeyError\u001B[0m: \"['TotalLivingSF', 'Neighborhood_encoded', 'TotalBath', 'ExterQual_encoded', 'KitchenQual_encoded', 'BsmtQual_encoded', 'GarageScore', 'GarageFinish_encoded', 'BsmtOverallQual', 'ExteriorCombo_encoded', 'HeatingQC_encoded', 'FireplaceQu_encoded', 'HasFireplace', 'YearsSinceRemod', 'RemodAge', 'HouseAge'] not in index\""
     ]
    }
   ],
   "execution_count": 917
  },
  {
   "metadata": {},
   "cell_type": "code",
   "outputs": [],
   "execution_count": null,
   "source": "",
   "id": "745b872474cb6e45"
  }
 ],
 "metadata": {
  "kernelspec": {
   "display_name": "Python 3",
   "language": "python",
   "name": "python3"
  },
  "language_info": {
   "codemirror_mode": {
    "name": "ipython",
    "version": 2
   },
   "file_extension": ".py",
   "mimetype": "text/x-python",
   "name": "python",
   "nbconvert_exporter": "python",
   "pygments_lexer": "ipython2",
   "version": "2.7.6"
  }
 },
 "nbformat": 4,
 "nbformat_minor": 5
}
