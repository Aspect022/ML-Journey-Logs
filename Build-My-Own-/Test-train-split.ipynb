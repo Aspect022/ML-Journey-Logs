{
 "cells": [
  {
   "cell_type": "code",
   "id": "initial_id",
   "metadata": {
    "collapsed": true,
    "ExecuteTime": {
     "end_time": "2025-07-19T08:24:14.975968Z",
     "start_time": "2025-07-19T08:24:11.698133Z"
    }
   },
   "source": [
    "import numpy as  np\n",
    "from sklearn.datasets import load_iris"
   ],
   "outputs": [],
   "execution_count": 3
  },
  {
   "metadata": {
    "ExecuteTime": {
     "end_time": "2025-07-19T08:23:39.182950Z",
     "start_time": "2025-07-19T08:23:39.173926Z"
    }
   },
   "cell_type": "code",
   "source": [
    "def myTrainTestSplit (X,y, test_size):\n",
    "    idx = np.random.permutation (np.arange(X.shape[0]))\n",
    "    ts = int(np.floor(test_size*X.shape[0]))\n",
    "    testIdx= idx[:ts]\n",
    "    trainIdx= idx[ts:]\n",
    "    Xtrain =X[trainIdx,:]\n",
    "    ytrain =y[trainIdx]\n",
    "    Xtest = X[testIdx,:]\n",
    "    ytest = y[testIdx]\n",
    "    return Xtrain, Xtest, ytrain, ytest"
   ],
   "id": "ea60616b60ec5b06",
   "outputs": [],
   "execution_count": 2
  },
  {
   "metadata": {
    "ExecuteTime": {
     "end_time": "2025-07-19T08:24:24.408061Z",
     "start_time": "2025-07-19T08:24:24.358290Z"
    }
   },
   "cell_type": "code",
   "source": [
    "iris = load_iris()\n",
    "X = iris.data\n",
    "y = iris.target"
   ],
   "id": "7ebe948edbd80a53",
   "outputs": [],
   "execution_count": 4
  },
  {
   "metadata": {
    "ExecuteTime": {
     "end_time": "2025-07-19T08:24:37.131349Z",
     "start_time": "2025-07-19T08:24:37.122233Z"
    }
   },
   "cell_type": "code",
   "source": "Xtrain, Xtest, ytrain, ytest = myTrainTestSplit(X,y,0.7)",
   "id": "5739ea0981c770fb",
   "outputs": [],
   "execution_count": 5
  },
  {
   "metadata": {
    "ExecuteTime": {
     "end_time": "2025-07-19T08:25:28.036173Z",
     "start_time": "2025-07-19T08:25:28.030194Z"
    }
   },
   "cell_type": "code",
   "source": [
    "print(Xtrain.shape)\n",
    "print(Xtest.shape)\n",
    "print(ytrain.shape)\n",
    "print(ytest.shape)"
   ],
   "id": "5084d1de2aeaeef8",
   "outputs": [
    {
     "name": "stdout",
     "output_type": "stream",
     "text": [
      "(45, 4)\n",
      "(105, 4)\n",
      "(45,)\n",
      "(105,)\n"
     ]
    }
   ],
   "execution_count": 9
  },
  {
   "metadata": {},
   "cell_type": "code",
   "outputs": [],
   "execution_count": null,
   "source": "",
   "id": "2ec0e4606e714816"
  }
 ],
 "metadata": {
  "kernelspec": {
   "display_name": "Python 3",
   "language": "python",
   "name": "python3"
  },
  "language_info": {
   "codemirror_mode": {
    "name": "ipython",
    "version": 2
   },
   "file_extension": ".py",
   "mimetype": "text/x-python",
   "name": "python",
   "nbconvert_exporter": "python",
   "pygments_lexer": "ipython2",
   "version": "2.7.6"
  }
 },
 "nbformat": 4,
 "nbformat_minor": 5
}
